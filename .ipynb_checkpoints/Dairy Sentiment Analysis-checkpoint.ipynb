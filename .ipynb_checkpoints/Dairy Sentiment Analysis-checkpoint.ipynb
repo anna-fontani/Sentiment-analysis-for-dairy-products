{
 "cells": [
  {
   "cell_type": "markdown",
   "id": "f0bb6a94",
   "metadata": {},
   "source": [
    "# Sentiment Analysis of Dairy Products\n"
   ]
  },
  {
   "cell_type": "markdown",
   "id": "43d82bb0",
   "metadata": {},
   "source": [
    "Check Readme file for a more detailed description. \n",
    "\n",
    "Sentiment analysis in this project is based on social network opinions extracted for specific keywords in Irish segment.\n",
    "\n",
    "Following tasks were set for this Data Analytics project:\n",
    "\n",
    "- Study what consumers think of dairy produced in Ireland.\n",
    "\n",
    "- Develop a model to evaluate sentiment polarity.\n",
    "\n",
    "- Research most discussed products and most common opinions.\n",
    "\n",
    "In this code I will use a .csv file with preliminary extracted posts and comments (extraction methods will be demonstrated in another notebook).\n",
    "\n",
    "Dataframe is created based on posts extracted for specific keywords: dairy, cream, buttermilk, milk, ice cream, butter, yoghurt, and cheese.\n",
    "\n",
    "30k comments were used to build a dataframe containing following features: post text, keyword, and posting time.\n"
   ]
  },
  {
   "cell_type": "code",
   "execution_count": 1,
   "id": "e272dcf8",
   "metadata": {},
   "outputs": [],
   "source": [
    "#!pip install textblob"
   ]
  },
  {
   "cell_type": "code",
   "execution_count": 2,
   "id": "5f72c76a",
   "metadata": {},
   "outputs": [],
   "source": [
    "#!pip install imbalanced-learn"
   ]
  },
  {
   "cell_type": "code",
   "execution_count": 3,
   "id": "03ac0492",
   "metadata": {},
   "outputs": [],
   "source": [
    "import numpy as np\n",
    "import requests\n",
    "import pandas as pd\n",
    "from datetime import datetime as dt\n",
    "import nltk\n",
    "import re\n",
    "import string\n",
    "import plotly.express as px\n",
    "from nltk.stem import PorterStemmer\n",
    "from textblob import TextBlob\n",
    "from nltk.corpus import stopwords\n",
    "from nltk.sentiment.vader import SentimentIntensityAnalyzer as si\n",
    "from sklearn.feature_extraction.text import CountVectorizer\n",
    "from sklearn.naive_bayes import MultinomialNB\n",
    "from sklearn.model_selection import train_test_split\n",
    "from sklearn.metrics import classification_report\n",
    "from sklearn.metrics import ConfusionMatrixDisplay as cmd\n",
    "from imblearn.over_sampling import RandomOverSampler"
   ]
  },
  {
   "cell_type": "code",
   "execution_count": 4,
   "id": "a86babae",
   "metadata": {},
   "outputs": [],
   "source": [
    "# Extending column width to see more text. \n",
    "\n",
    "pd.set_option('display.max_colwidth', 100)"
   ]
  },
  {
   "cell_type": "code",
   "execution_count": 5,
   "id": "bca99460",
   "metadata": {},
   "outputs": [],
   "source": [
    "# Loading previously extracted posts and comments into dataframe, changing column names to those in post_df for further concatenation \n",
    "\n",
    "colnames=['text', 'keyword', 'creation_time'] \n",
    "comments_from_csv = pd.read_csv(\"Ireland_dairy_comments.csv\", names=colnames, sep ='\\t', header=0)"
   ]
  },
  {
   "cell_type": "code",
   "execution_count": 6,
   "id": "ba313c34",
   "metadata": {},
   "outputs": [
    {
     "data": {
      "text/html": [
       "<div>\n",
       "<style scoped>\n",
       "    .dataframe tbody tr th:only-of-type {\n",
       "        vertical-align: middle;\n",
       "    }\n",
       "\n",
       "    .dataframe tbody tr th {\n",
       "        vertical-align: top;\n",
       "    }\n",
       "\n",
       "    .dataframe thead th {\n",
       "        text-align: right;\n",
       "    }\n",
       "</style>\n",
       "<table border=\"1\" class=\"dataframe\">\n",
       "  <thead>\n",
       "    <tr style=\"text-align: right;\">\n",
       "      <th></th>\n",
       "      <th>text</th>\n",
       "      <th>keyword</th>\n",
       "      <th>creation_time</th>\n",
       "    </tr>\n",
       "  </thead>\n",
       "  <tbody>\n",
       "    <tr>\n",
       "      <th>count</th>\n",
       "      <td>37292</td>\n",
       "      <td>37298</td>\n",
       "      <td>37298</td>\n",
       "    </tr>\n",
       "    <tr>\n",
       "      <th>unique</th>\n",
       "      <td>29439</td>\n",
       "      <td>8</td>\n",
       "      <td>1170</td>\n",
       "    </tr>\n",
       "    <tr>\n",
       "      <th>top</th>\n",
       "      <td>[deleted]</td>\n",
       "      <td>butter</td>\n",
       "      <td>2022-11-15 13:20:47</td>\n",
       "    </tr>\n",
       "    <tr>\n",
       "      <th>freq</th>\n",
       "      <td>919</td>\n",
       "      <td>7346</td>\n",
       "      <td>680</td>\n",
       "    </tr>\n",
       "  </tbody>\n",
       "</table>\n",
       "</div>"
      ],
      "text/plain": [
       "             text keyword        creation_time\n",
       "count       37292   37298                37298\n",
       "unique      29439       8                 1170\n",
       "top     [deleted]  butter  2022-11-15 13:20:47\n",
       "freq          919    7346                  680"
      ]
     },
     "execution_count": 6,
     "metadata": {},
     "output_type": "execute_result"
    }
   ],
   "source": [
    "# Taking a look at comments data \n",
    "\n",
    "comments_from_csv.describe(include='object')"
   ]
  },
  {
   "cell_type": "code",
   "execution_count": 7,
   "id": "d81755ca",
   "metadata": {},
   "outputs": [
    {
     "data": {
      "text/html": [
       "<div>\n",
       "<style scoped>\n",
       "    .dataframe tbody tr th:only-of-type {\n",
       "        vertical-align: middle;\n",
       "    }\n",
       "\n",
       "    .dataframe tbody tr th {\n",
       "        vertical-align: top;\n",
       "    }\n",
       "\n",
       "    .dataframe thead th {\n",
       "        text-align: right;\n",
       "    }\n",
       "</style>\n",
       "<table border=\"1\" class=\"dataframe\">\n",
       "  <thead>\n",
       "    <tr style=\"text-align: right;\">\n",
       "      <th></th>\n",
       "      <th>text</th>\n",
       "      <th>keyword</th>\n",
       "      <th>creation_time</th>\n",
       "    </tr>\n",
       "  </thead>\n",
       "  <tbody>\n",
       "    <tr>\n",
       "      <th>0</th>\n",
       "      <td>If we are going to do it we should ban the import of beef.\\n\\nNo point reducing our herd if we s...</td>\n",
       "      <td>dairy</td>\n",
       "      <td>2022-07-27 22:15:56</td>\n",
       "    </tr>\n",
       "    <tr>\n",
       "      <th>1</th>\n",
       "      <td>This might be a stupid question but say for a beef farmer, if they reduce their herd would it be...</td>\n",
       "      <td>dairy</td>\n",
       "      <td>2022-07-27 22:15:56</td>\n",
       "    </tr>\n",
       "    <tr>\n",
       "      <th>2</th>\n",
       "      <td>Was chatting to the father about reducing herd size here to cut emissions and he was all for it,...</td>\n",
       "      <td>dairy</td>\n",
       "      <td>2022-07-27 22:15:56</td>\n",
       "    </tr>\n",
       "    <tr>\n",
       "      <th>3</th>\n",
       "      <td>I already have cut down my beef intake quite a lot. I basically no longer cook beef at home. \\n\\...</td>\n",
       "      <td>dairy</td>\n",
       "      <td>2022-07-27 22:15:56</td>\n",
       "    </tr>\n",
       "    <tr>\n",
       "      <th>4</th>\n",
       "      <td>For those who don't think they can go 100% veggie, its worth noting that some change is better t...</td>\n",
       "      <td>dairy</td>\n",
       "      <td>2022-07-27 22:15:56</td>\n",
       "    </tr>\n",
       "  </tbody>\n",
       "</table>\n",
       "</div>"
      ],
      "text/plain": [
       "                                                                                                  text  \\\n",
       "0  If we are going to do it we should ban the import of beef.\\n\\nNo point reducing our herd if we s...   \n",
       "1  This might be a stupid question but say for a beef farmer, if they reduce their herd would it be...   \n",
       "2  Was chatting to the father about reducing herd size here to cut emissions and he was all for it,...   \n",
       "3  I already have cut down my beef intake quite a lot. I basically no longer cook beef at home. \\n\\...   \n",
       "4  For those who don't think they can go 100% veggie, its worth noting that some change is better t...   \n",
       "\n",
       "  keyword        creation_time  \n",
       "0   dairy  2022-07-27 22:15:56  \n",
       "1   dairy  2022-07-27 22:15:56  \n",
       "2   dairy  2022-07-27 22:15:56  \n",
       "3   dairy  2022-07-27 22:15:56  \n",
       "4   dairy  2022-07-27 22:15:56  "
      ]
     },
     "execution_count": 7,
     "metadata": {},
     "output_type": "execute_result"
    }
   ],
   "source": [
    "# Checking appearance of the dataframe \n",
    "\n",
    "comments_from_csv.head()"
   ]
  },
  {
   "cell_type": "code",
   "execution_count": 8,
   "id": "17a2de62",
   "metadata": {},
   "outputs": [],
   "source": [
    "# Loading previously extracted posts and comments into dataframe, changing column names to those in post_df for further concatenation \n",
    "\n",
    "colnames=['text', 'keyword', 'creation_time'] \n",
    "posts_from_csv = pd.read_csv(\"Ireland_dairy_posts.csv\", names=colnames, sep ='\\t', header=0)"
   ]
  },
  {
   "cell_type": "code",
   "execution_count": 9,
   "id": "1c528c81",
   "metadata": {},
   "outputs": [],
   "source": [
    "# Combining two dataframes into one, posts and comments are now present in one Text column \n",
    "\n",
    "posts_comments_combined = pd.concat([posts_from_csv, comments_from_csv])"
   ]
  },
  {
   "cell_type": "code",
   "execution_count": 10,
   "id": "72ac388d",
   "metadata": {},
   "outputs": [
    {
     "name": "stdout",
     "output_type": "stream",
     "text": [
      "<class 'pandas.core.frame.DataFrame'>\n",
      "Index: 38698 entries, 0 to 37297\n",
      "Data columns (total 3 columns):\n",
      " #   Column         Non-Null Count  Dtype \n",
      "---  ------         --------------  ----- \n",
      " 0   text           38692 non-null  object\n",
      " 1   keyword        38698 non-null  object\n",
      " 2   creation_time  38698 non-null  object\n",
      "dtypes: object(3)\n",
      "memory usage: 1.2+ MB\n"
     ]
    }
   ],
   "source": [
    "posts_comments_combined.info()"
   ]
  },
  {
   "cell_type": "code",
   "execution_count": 11,
   "id": "376a3238",
   "metadata": {},
   "outputs": [],
   "source": [
    "# Deleting no longer used data\n",
    "\n",
    "del posts_from_csv\n",
    "del comments_from_csv"
   ]
  },
  {
   "cell_type": "markdown",
   "id": "3942fe2a",
   "metadata": {},
   "source": [
    "### Text Preprocessing "
   ]
  },
  {
   "cell_type": "code",
   "execution_count": 12,
   "id": "d63f98f7",
   "metadata": {},
   "outputs": [
    {
     "data": {
      "text/html": [
       "<div>\n",
       "<style scoped>\n",
       "    .dataframe tbody tr th:only-of-type {\n",
       "        vertical-align: middle;\n",
       "    }\n",
       "\n",
       "    .dataframe tbody tr th {\n",
       "        vertical-align: top;\n",
       "    }\n",
       "\n",
       "    .dataframe thead th {\n",
       "        text-align: right;\n",
       "    }\n",
       "</style>\n",
       "<table border=\"1\" class=\"dataframe\">\n",
       "  <thead>\n",
       "    <tr style=\"text-align: right;\">\n",
       "      <th></th>\n",
       "      <th>text</th>\n",
       "      <th>keyword</th>\n",
       "      <th>creation_time</th>\n",
       "    </tr>\n",
       "  </thead>\n",
       "  <tbody>\n",
       "    <tr>\n",
       "      <th>count</th>\n",
       "      <td>38692</td>\n",
       "      <td>38698</td>\n",
       "      <td>38698</td>\n",
       "    </tr>\n",
       "    <tr>\n",
       "      <th>unique</th>\n",
       "      <td>30623</td>\n",
       "      <td>8</td>\n",
       "      <td>1187</td>\n",
       "    </tr>\n",
       "    <tr>\n",
       "      <th>top</th>\n",
       "      <td>[deleted]</td>\n",
       "      <td>butter</td>\n",
       "      <td>2022-11-15 13:20:47</td>\n",
       "    </tr>\n",
       "    <tr>\n",
       "      <th>freq</th>\n",
       "      <td>919</td>\n",
       "      <td>7569</td>\n",
       "      <td>682</td>\n",
       "    </tr>\n",
       "  </tbody>\n",
       "</table>\n",
       "</div>"
      ],
      "text/plain": [
       "             text keyword        creation_time\n",
       "count       38692   38698                38698\n",
       "unique      30623       8                 1187\n",
       "top     [deleted]  butter  2022-11-15 13:20:47\n",
       "freq          919    7569                  682"
      ]
     },
     "execution_count": 12,
     "metadata": {},
     "output_type": "execute_result"
    }
   ],
   "source": [
    "posts_comments_combined.describe(include=\"object\")"
   ]
  },
  {
   "cell_type": "code",
   "execution_count": 13,
   "id": "5457c55a",
   "metadata": {},
   "outputs": [],
   "source": [
    "# Deleting rows with text [deleted], [removed] as these have no value or meaning for analysis \n",
    "\n",
    "posts_comments_combined.drop(posts_comments_combined[posts_comments_combined.text == \"[deleted]\"].index, inplace=True)\n",
    "posts_comments_combined.drop(posts_comments_combined[posts_comments_combined.text == \"[removed]\"].index, inplace=True)\n"
   ]
  },
  {
   "cell_type": "code",
   "execution_count": 14,
   "id": "9366b038",
   "metadata": {},
   "outputs": [],
   "source": [
    "# Adding words count column\n",
    "\n",
    "posts_comments_combined[\"word_count\"] = posts_comments_combined[\"text\"].apply(lambda x : len(str(x).split()))"
   ]
  },
  {
   "cell_type": "code",
   "execution_count": 15,
   "id": "e645e21c",
   "metadata": {},
   "outputs": [
    {
     "data": {
      "text/html": [
       "<div>\n",
       "<style scoped>\n",
       "    .dataframe tbody tr th:only-of-type {\n",
       "        vertical-align: middle;\n",
       "    }\n",
       "\n",
       "    .dataframe tbody tr th {\n",
       "        vertical-align: top;\n",
       "    }\n",
       "\n",
       "    .dataframe thead th {\n",
       "        text-align: right;\n",
       "    }\n",
       "</style>\n",
       "<table border=\"1\" class=\"dataframe\">\n",
       "  <thead>\n",
       "    <tr style=\"text-align: right;\">\n",
       "      <th></th>\n",
       "      <th>text</th>\n",
       "      <th>keyword</th>\n",
       "      <th>creation_time</th>\n",
       "      <th>word_count</th>\n",
       "    </tr>\n",
       "  </thead>\n",
       "  <tbody>\n",
       "    <tr>\n",
       "      <th>0</th>\n",
       "      <td>Would you significantly reduce your meat and dairy consumption to help cut emissions?</td>\n",
       "      <td>dairy</td>\n",
       "      <td>2022-07-27 22:15:56</td>\n",
       "      <td>13</td>\n",
       "    </tr>\n",
       "    <tr>\n",
       "      <th>1</th>\n",
       "      <td>Culling dairy cattle?</td>\n",
       "      <td>dairy</td>\n",
       "      <td>2023-05-31 14:21:53</td>\n",
       "      <td>3</td>\n",
       "    </tr>\n",
       "    <tr>\n",
       "      <th>2</th>\n",
       "      <td>Cull of Ireland’s dairy cattle for climate targets should be ‘voluntary’, farmers say</td>\n",
       "      <td>dairy</td>\n",
       "      <td>2023-05-30 12:54:37</td>\n",
       "      <td>13</td>\n",
       "    </tr>\n",
       "    <tr>\n",
       "      <th>3</th>\n",
       "      <td>Was charged 1.20 for non dairy milk in a coffee shop this weekend , and 10.20 in total for two c...</td>\n",
       "      <td>dairy</td>\n",
       "      <td>2023-09-26 10:06:18</td>\n",
       "      <td>31</td>\n",
       "    </tr>\n",
       "    <tr>\n",
       "      <th>4</th>\n",
       "      <td>Quite the surprise I did find. Was something missing or left behind?</td>\n",
       "      <td>dairy</td>\n",
       "      <td>2024-04-01 11:45:27</td>\n",
       "      <td>12</td>\n",
       "    </tr>\n",
       "  </tbody>\n",
       "</table>\n",
       "</div>"
      ],
      "text/plain": [
       "                                                                                                  text  \\\n",
       "0                Would you significantly reduce your meat and dairy consumption to help cut emissions?   \n",
       "1                                                                                Culling dairy cattle?   \n",
       "2                Cull of Ireland’s dairy cattle for climate targets should be ‘voluntary’, farmers say   \n",
       "3  Was charged 1.20 for non dairy milk in a coffee shop this weekend , and 10.20 in total for two c...   \n",
       "4                                 Quite the surprise I did find. Was something missing or left behind?   \n",
       "\n",
       "  keyword        creation_time  word_count  \n",
       "0   dairy  2022-07-27 22:15:56          13  \n",
       "1   dairy  2023-05-31 14:21:53           3  \n",
       "2   dairy  2023-05-30 12:54:37          13  \n",
       "3   dairy  2023-09-26 10:06:18          31  \n",
       "4   dairy  2024-04-01 11:45:27          12  "
      ]
     },
     "execution_count": 15,
     "metadata": {},
     "output_type": "execute_result"
    }
   ],
   "source": [
    "posts_comments_combined.head()"
   ]
  },
  {
   "cell_type": "code",
   "execution_count": 16,
   "id": "cf42d99a",
   "metadata": {},
   "outputs": [
    {
     "data": {
      "text/html": [
       "<div>\n",
       "<style scoped>\n",
       "    .dataframe tbody tr th:only-of-type {\n",
       "        vertical-align: middle;\n",
       "    }\n",
       "\n",
       "    .dataframe tbody tr th {\n",
       "        vertical-align: top;\n",
       "    }\n",
       "\n",
       "    .dataframe thead th {\n",
       "        text-align: right;\n",
       "    }\n",
       "</style>\n",
       "<table border=\"1\" class=\"dataframe\">\n",
       "  <thead>\n",
       "    <tr style=\"text-align: right;\">\n",
       "      <th></th>\n",
       "      <th>text</th>\n",
       "      <th>keyword</th>\n",
       "      <th>creation_time</th>\n",
       "    </tr>\n",
       "  </thead>\n",
       "  <tbody>\n",
       "    <tr>\n",
       "      <th>count</th>\n",
       "      <td>37602</td>\n",
       "      <td>37608</td>\n",
       "      <td>37608</td>\n",
       "    </tr>\n",
       "    <tr>\n",
       "      <th>unique</th>\n",
       "      <td>30582</td>\n",
       "      <td>8</td>\n",
       "      <td>1186</td>\n",
       "    </tr>\n",
       "    <tr>\n",
       "      <th>top</th>\n",
       "      <td>Roses</td>\n",
       "      <td>butter</td>\n",
       "      <td>2022-11-15 13:20:47</td>\n",
       "    </tr>\n",
       "    <tr>\n",
       "      <th>freq</th>\n",
       "      <td>29</td>\n",
       "      <td>7330</td>\n",
       "      <td>677</td>\n",
       "    </tr>\n",
       "  </tbody>\n",
       "</table>\n",
       "</div>"
      ],
      "text/plain": [
       "         text keyword        creation_time\n",
       "count   37602   37608                37608\n",
       "unique  30582       8                 1186\n",
       "top     Roses  butter  2022-11-15 13:20:47\n",
       "freq       29    7330                  677"
      ]
     },
     "execution_count": 16,
     "metadata": {},
     "output_type": "execute_result"
    }
   ],
   "source": [
    "posts_comments_combined.describe(include=\"object\")"
   ]
  },
  {
   "cell_type": "code",
   "execution_count": 17,
   "id": "ab0e6484",
   "metadata": {},
   "outputs": [],
   "source": [
    "# We can see that there are many duplicate comments / posts, which should be removed\n",
    "\n",
    "posts_comments_combined.drop_duplicates(subset='text', keep=\"first\", inplace=True)\n"
   ]
  },
  {
   "cell_type": "code",
   "execution_count": 18,
   "id": "e51adaac",
   "metadata": {},
   "outputs": [],
   "source": [
    "# Number of characters\n",
    "\n",
    "posts_comments_combined[\"char_count\"]=posts_comments_combined[\"text\"].str.len()"
   ]
  },
  {
   "cell_type": "code",
   "execution_count": 19,
   "id": "ce743e24",
   "metadata": {},
   "outputs": [],
   "source": [
    "# Creating a function to calculate average words in text\n",
    "\n",
    "def avg_word(sentence):\n",
    "    words = str(sentence).split()\n",
    "    return (sum(len(word) for word in words)/len(words))"
   ]
  },
  {
   "cell_type": "code",
   "execution_count": 20,
   "id": "99a9b016",
   "metadata": {},
   "outputs": [],
   "source": [
    "# Adding a column with average words count by applying a function to every element\n",
    "\n",
    "posts_comments_combined[\"avg_word_legth\"] = posts_comments_combined[\"text\"].apply(lambda x : avg_word(x))"
   ]
  },
  {
   "cell_type": "code",
   "execution_count": 21,
   "id": "fa0ba104",
   "metadata": {},
   "outputs": [
    {
     "data": {
      "text/html": [
       "<div>\n",
       "<style scoped>\n",
       "    .dataframe tbody tr th:only-of-type {\n",
       "        vertical-align: middle;\n",
       "    }\n",
       "\n",
       "    .dataframe tbody tr th {\n",
       "        vertical-align: top;\n",
       "    }\n",
       "\n",
       "    .dataframe thead th {\n",
       "        text-align: right;\n",
       "    }\n",
       "</style>\n",
       "<table border=\"1\" class=\"dataframe\">\n",
       "  <thead>\n",
       "    <tr style=\"text-align: right;\">\n",
       "      <th></th>\n",
       "      <th>text</th>\n",
       "      <th>keyword</th>\n",
       "      <th>creation_time</th>\n",
       "      <th>word_count</th>\n",
       "      <th>char_count</th>\n",
       "      <th>avg_word_legth</th>\n",
       "    </tr>\n",
       "  </thead>\n",
       "  <tbody>\n",
       "    <tr>\n",
       "      <th>0</th>\n",
       "      <td>Would you significantly reduce your meat and dairy consumption to help cut emissions?</td>\n",
       "      <td>dairy</td>\n",
       "      <td>2022-07-27 22:15:56</td>\n",
       "      <td>13</td>\n",
       "      <td>85.0</td>\n",
       "      <td>5.615385</td>\n",
       "    </tr>\n",
       "    <tr>\n",
       "      <th>1</th>\n",
       "      <td>Culling dairy cattle?</td>\n",
       "      <td>dairy</td>\n",
       "      <td>2023-05-31 14:21:53</td>\n",
       "      <td>3</td>\n",
       "      <td>21.0</td>\n",
       "      <td>6.333333</td>\n",
       "    </tr>\n",
       "    <tr>\n",
       "      <th>2</th>\n",
       "      <td>Cull of Ireland’s dairy cattle for climate targets should be ‘voluntary’, farmers say</td>\n",
       "      <td>dairy</td>\n",
       "      <td>2023-05-30 12:54:37</td>\n",
       "      <td>13</td>\n",
       "      <td>85.0</td>\n",
       "      <td>5.615385</td>\n",
       "    </tr>\n",
       "    <tr>\n",
       "      <th>3</th>\n",
       "      <td>Was charged 1.20 for non dairy milk in a coffee shop this weekend , and 10.20 in total for two c...</td>\n",
       "      <td>dairy</td>\n",
       "      <td>2023-09-26 10:06:18</td>\n",
       "      <td>31</td>\n",
       "      <td>153.0</td>\n",
       "      <td>3.967742</td>\n",
       "    </tr>\n",
       "    <tr>\n",
       "      <th>4</th>\n",
       "      <td>Quite the surprise I did find. Was something missing or left behind?</td>\n",
       "      <td>dairy</td>\n",
       "      <td>2024-04-01 11:45:27</td>\n",
       "      <td>12</td>\n",
       "      <td>68.0</td>\n",
       "      <td>4.750000</td>\n",
       "    </tr>\n",
       "  </tbody>\n",
       "</table>\n",
       "</div>"
      ],
      "text/plain": [
       "                                                                                                  text  \\\n",
       "0                Would you significantly reduce your meat and dairy consumption to help cut emissions?   \n",
       "1                                                                                Culling dairy cattle?   \n",
       "2                Cull of Ireland’s dairy cattle for climate targets should be ‘voluntary’, farmers say   \n",
       "3  Was charged 1.20 for non dairy milk in a coffee shop this weekend , and 10.20 in total for two c...   \n",
       "4                                 Quite the surprise I did find. Was something missing or left behind?   \n",
       "\n",
       "  keyword        creation_time  word_count  char_count  avg_word_legth  \n",
       "0   dairy  2022-07-27 22:15:56          13        85.0        5.615385  \n",
       "1   dairy  2023-05-31 14:21:53           3        21.0        6.333333  \n",
       "2   dairy  2023-05-30 12:54:37          13        85.0        5.615385  \n",
       "3   dairy  2023-09-26 10:06:18          31       153.0        3.967742  \n",
       "4   dairy  2024-04-01 11:45:27          12        68.0        4.750000  "
      ]
     },
     "execution_count": 21,
     "metadata": {},
     "output_type": "execute_result"
    }
   ],
   "source": [
    "# Checking resulting dataframe\n",
    "\n",
    "posts_comments_combined.head()"
   ]
  },
  {
   "cell_type": "markdown",
   "id": "ec05d6b5",
   "metadata": {},
   "source": [
    "**Cleaning stopwords**"
   ]
  },
  {
   "cell_type": "code",
   "execution_count": 22,
   "id": "cd909065",
   "metadata": {},
   "outputs": [
    {
     "name": "stderr",
     "output_type": "stream",
     "text": [
      "[nltk_data] Downloading package stopwords to\n",
      "[nltk_data]     C:\\Users\\BestLaptop\\AppData\\Roaming\\nltk_data...\n",
      "[nltk_data]   Package stopwords is already up-to-date!\n"
     ]
    },
    {
     "data": {
      "text/plain": [
       "True"
      ]
     },
     "execution_count": 22,
     "metadata": {},
     "output_type": "execute_result"
    }
   ],
   "source": [
    "# Downloading the most recent library of stopwords\n",
    "\n",
    "nltk.download(\"stopwords\")"
   ]
  },
  {
   "cell_type": "code",
   "execution_count": 23,
   "id": "4628a3c7",
   "metadata": {},
   "outputs": [],
   "source": [
    "# Imporing English stop words\n",
    "\n",
    "stop = stopwords.words(\"english\")\n",
    "\n",
    "# Using + operator + list conversion to add additional stop words that were discovered in the list\n",
    "\n",
    "stop += [\"I'm\", \"The\", \"I\", \"would\", \"thats\", \"it.\", \"its\", \"It's\", \"You\", \"-\", \"if\", \"If\", \"It\", \"this\", \"Im\", \"im\", \"also\"] "
   ]
  },
  {
   "cell_type": "code",
   "execution_count": 24,
   "id": "d4e8a9c6",
   "metadata": {},
   "outputs": [],
   "source": [
    "# Checking words for stopwords and if they are then store the count in the list\n",
    "\n",
    "posts_comments_combined[\"stopwords\"] = posts_comments_combined[\"text\"].apply(lambda x: len([x for x in str(x).split() if x in stop]))"
   ]
  },
  {
   "cell_type": "code",
   "execution_count": 25,
   "id": "9c79c07f",
   "metadata": {},
   "outputs": [
    {
     "data": {
      "text/html": [
       "<div>\n",
       "<style scoped>\n",
       "    .dataframe tbody tr th:only-of-type {\n",
       "        vertical-align: middle;\n",
       "    }\n",
       "\n",
       "    .dataframe tbody tr th {\n",
       "        vertical-align: top;\n",
       "    }\n",
       "\n",
       "    .dataframe thead th {\n",
       "        text-align: right;\n",
       "    }\n",
       "</style>\n",
       "<table border=\"1\" class=\"dataframe\">\n",
       "  <thead>\n",
       "    <tr style=\"text-align: right;\">\n",
       "      <th></th>\n",
       "      <th>text</th>\n",
       "      <th>stopwords</th>\n",
       "    </tr>\n",
       "  </thead>\n",
       "  <tbody>\n",
       "    <tr>\n",
       "      <th>0</th>\n",
       "      <td>Would you significantly reduce your meat and dairy consumption to help cut emissions?</td>\n",
       "      <td>4</td>\n",
       "    </tr>\n",
       "    <tr>\n",
       "      <th>1</th>\n",
       "      <td>Culling dairy cattle?</td>\n",
       "      <td>0</td>\n",
       "    </tr>\n",
       "    <tr>\n",
       "      <th>2</th>\n",
       "      <td>Cull of Ireland’s dairy cattle for climate targets should be ‘voluntary’, farmers say</td>\n",
       "      <td>4</td>\n",
       "    </tr>\n",
       "    <tr>\n",
       "      <th>3</th>\n",
       "      <td>Was charged 1.20 for non dairy milk in a coffee shop this weekend , and 10.20 in total for two c...</td>\n",
       "      <td>13</td>\n",
       "    </tr>\n",
       "    <tr>\n",
       "      <th>4</th>\n",
       "      <td>Quite the surprise I did find. Was something missing or left behind?</td>\n",
       "      <td>4</td>\n",
       "    </tr>\n",
       "  </tbody>\n",
       "</table>\n",
       "</div>"
      ],
      "text/plain": [
       "                                                                                                  text  \\\n",
       "0                Would you significantly reduce your meat and dairy consumption to help cut emissions?   \n",
       "1                                                                                Culling dairy cattle?   \n",
       "2                Cull of Ireland’s dairy cattle for climate targets should be ‘voluntary’, farmers say   \n",
       "3  Was charged 1.20 for non dairy milk in a coffee shop this weekend , and 10.20 in total for two c...   \n",
       "4                                 Quite the surprise I did find. Was something missing or left behind?   \n",
       "\n",
       "   stopwords  \n",
       "0          4  \n",
       "1          0  \n",
       "2          4  \n",
       "3         13  \n",
       "4          4  "
      ]
     },
     "execution_count": 25,
     "metadata": {},
     "output_type": "execute_result"
    }
   ],
   "source": [
    "# Displaying the number of stopwords in each post\n",
    "\n",
    "posts_comments_combined[[\"text\", \"stopwords\"]].head()"
   ]
  },
  {
   "cell_type": "code",
   "execution_count": 26,
   "id": "d03b7f3f",
   "metadata": {},
   "outputs": [],
   "source": [
    "# Removing special characters through reg x: remove all special charts apart from space and replace them with nothing\n",
    "\n",
    "posts_comments_combined[\"text_clean\"] = posts_comments_combined[\"text\"].str.replace(\"[^\\w\\s]\",\"\", regex=True)"
   ]
  },
  {
   "cell_type": "code",
   "execution_count": 27,
   "id": "da1db825",
   "metadata": {},
   "outputs": [],
   "source": [
    "# Making the text lowercase\n",
    "\n",
    "posts_comments_combined[\"text_clean\"] = posts_comments_combined[\"text_clean\"].apply(lambda x: \" \".join(x.lower() for x in str(x).split()))"
   ]
  },
  {
   "cell_type": "code",
   "execution_count": 28,
   "id": "801bf4ae",
   "metadata": {},
   "outputs": [
    {
     "data": {
      "text/html": [
       "<div>\n",
       "<style scoped>\n",
       "    .dataframe tbody tr th:only-of-type {\n",
       "        vertical-align: middle;\n",
       "    }\n",
       "\n",
       "    .dataframe tbody tr th {\n",
       "        vertical-align: top;\n",
       "    }\n",
       "\n",
       "    .dataframe thead th {\n",
       "        text-align: right;\n",
       "    }\n",
       "</style>\n",
       "<table border=\"1\" class=\"dataframe\">\n",
       "  <thead>\n",
       "    <tr style=\"text-align: right;\">\n",
       "      <th></th>\n",
       "      <th>text</th>\n",
       "      <th>text_clean</th>\n",
       "    </tr>\n",
       "  </thead>\n",
       "  <tbody>\n",
       "    <tr>\n",
       "      <th>0</th>\n",
       "      <td>Would you significantly reduce your meat and dairy consumption to help cut emissions?</td>\n",
       "      <td>would you significantly reduce your meat and dairy consumption to help cut emissions</td>\n",
       "    </tr>\n",
       "    <tr>\n",
       "      <th>1</th>\n",
       "      <td>Culling dairy cattle?</td>\n",
       "      <td>culling dairy cattle</td>\n",
       "    </tr>\n",
       "    <tr>\n",
       "      <th>2</th>\n",
       "      <td>Cull of Ireland’s dairy cattle for climate targets should be ‘voluntary’, farmers say</td>\n",
       "      <td>cull of irelands dairy cattle for climate targets should be voluntary farmers say</td>\n",
       "    </tr>\n",
       "    <tr>\n",
       "      <th>3</th>\n",
       "      <td>Was charged 1.20 for non dairy milk in a coffee shop this weekend , and 10.20 in total for two c...</td>\n",
       "      <td>was charged 120 for non dairy milk in a coffee shop this weekend and 1020 in total for two coffe...</td>\n",
       "    </tr>\n",
       "    <tr>\n",
       "      <th>4</th>\n",
       "      <td>Quite the surprise I did find. Was something missing or left behind?</td>\n",
       "      <td>quite the surprise i did find was something missing or left behind</td>\n",
       "    </tr>\n",
       "  </tbody>\n",
       "</table>\n",
       "</div>"
      ],
      "text/plain": [
       "                                                                                                  text  \\\n",
       "0                Would you significantly reduce your meat and dairy consumption to help cut emissions?   \n",
       "1                                                                                Culling dairy cattle?   \n",
       "2                Cull of Ireland’s dairy cattle for climate targets should be ‘voluntary’, farmers say   \n",
       "3  Was charged 1.20 for non dairy milk in a coffee shop this weekend , and 10.20 in total for two c...   \n",
       "4                                 Quite the surprise I did find. Was something missing or left behind?   \n",
       "\n",
       "                                                                                            text_clean  \n",
       "0                 would you significantly reduce your meat and dairy consumption to help cut emissions  \n",
       "1                                                                                 culling dairy cattle  \n",
       "2                    cull of irelands dairy cattle for climate targets should be voluntary farmers say  \n",
       "3  was charged 120 for non dairy milk in a coffee shop this weekend and 1020 in total for two coffe...  \n",
       "4                                   quite the surprise i did find was something missing or left behind  "
      ]
     },
     "execution_count": 28,
     "metadata": {},
     "output_type": "execute_result"
    }
   ],
   "source": [
    "# Testing resulting dataframe\n",
    "\n",
    "posts_comments_combined[[\"text\", \"text_clean\"]].head(5)"
   ]
  },
  {
   "cell_type": "code",
   "execution_count": 29,
   "id": "88ec05f6",
   "metadata": {},
   "outputs": [],
   "source": [
    "# Removing all stopwords\n",
    "\n",
    "posts_comments_combined[\"text_clean\"] = posts_comments_combined[\"text_clean\"].apply(lambda x: \" \".join(x for x in str(x).split() if x not in stop))\n"
   ]
  },
  {
   "cell_type": "code",
   "execution_count": 30,
   "id": "4b09c566",
   "metadata": {},
   "outputs": [
    {
     "data": {
      "text/html": [
       "<div>\n",
       "<style scoped>\n",
       "    .dataframe tbody tr th:only-of-type {\n",
       "        vertical-align: middle;\n",
       "    }\n",
       "\n",
       "    .dataframe tbody tr th {\n",
       "        vertical-align: top;\n",
       "    }\n",
       "\n",
       "    .dataframe thead th {\n",
       "        text-align: right;\n",
       "    }\n",
       "</style>\n",
       "<table border=\"1\" class=\"dataframe\">\n",
       "  <thead>\n",
       "    <tr style=\"text-align: right;\">\n",
       "      <th></th>\n",
       "      <th>text</th>\n",
       "      <th>text_clean</th>\n",
       "    </tr>\n",
       "  </thead>\n",
       "  <tbody>\n",
       "    <tr>\n",
       "      <th>0</th>\n",
       "      <td>Would you significantly reduce your meat and dairy consumption to help cut emissions?</td>\n",
       "      <td>significantly reduce meat dairy consumption help cut emissions</td>\n",
       "    </tr>\n",
       "    <tr>\n",
       "      <th>1</th>\n",
       "      <td>Culling dairy cattle?</td>\n",
       "      <td>culling dairy cattle</td>\n",
       "    </tr>\n",
       "    <tr>\n",
       "      <th>2</th>\n",
       "      <td>Cull of Ireland’s dairy cattle for climate targets should be ‘voluntary’, farmers say</td>\n",
       "      <td>cull irelands dairy cattle climate targets voluntary farmers say</td>\n",
       "    </tr>\n",
       "    <tr>\n",
       "      <th>3</th>\n",
       "      <td>Was charged 1.20 for non dairy milk in a coffee shop this weekend , and 10.20 in total for two c...</td>\n",
       "      <td>charged 120 non dairy milk coffee shop weekend 1020 total two coffees cant one thinking robbery</td>\n",
       "    </tr>\n",
       "    <tr>\n",
       "      <th>4</th>\n",
       "      <td>Quite the surprise I did find. Was something missing or left behind?</td>\n",
       "      <td>quite surprise find something missing left behind</td>\n",
       "    </tr>\n",
       "  </tbody>\n",
       "</table>\n",
       "</div>"
      ],
      "text/plain": [
       "                                                                                                  text  \\\n",
       "0                Would you significantly reduce your meat and dairy consumption to help cut emissions?   \n",
       "1                                                                                Culling dairy cattle?   \n",
       "2                Cull of Ireland’s dairy cattle for climate targets should be ‘voluntary’, farmers say   \n",
       "3  Was charged 1.20 for non dairy milk in a coffee shop this weekend , and 10.20 in total for two c...   \n",
       "4                                 Quite the surprise I did find. Was something missing or left behind?   \n",
       "\n",
       "                                                                                        text_clean  \n",
       "0                                   significantly reduce meat dairy consumption help cut emissions  \n",
       "1                                                                             culling dairy cattle  \n",
       "2                                 cull irelands dairy cattle climate targets voluntary farmers say  \n",
       "3  charged 120 non dairy milk coffee shop weekend 1020 total two coffees cant one thinking robbery  \n",
       "4                                                quite surprise find something missing left behind  "
      ]
     },
     "execution_count": 30,
     "metadata": {},
     "output_type": "execute_result"
    }
   ],
   "source": [
    "# Checking resulting dataframe\n",
    "\n",
    "posts_comments_combined[[\"text\", \"text_clean\"]].head(5)"
   ]
  },
  {
   "cell_type": "code",
   "execution_count": 31,
   "id": "15c41456",
   "metadata": {},
   "outputs": [
    {
     "data": {
      "text/plain": [
       "like       3146\n",
       "get        2571\n",
       "one        2450\n",
       "dont       2134\n",
       "milk       2045\n",
       "people     1951\n",
       "butter     1699\n",
       "irish      1680\n",
       "good       1588\n",
       "ireland    1455\n",
       "time       1349\n",
       "cheese     1334\n",
       "think      1283\n",
       "go         1279\n",
       "back       1256\n",
       "much       1141\n",
       "know       1101\n",
       "make       1093\n",
       "years      1091\n",
       "never      1030\n",
       "Name: count, dtype: int64"
      ]
     },
     "execution_count": 31,
     "metadata": {},
     "output_type": "execute_result"
    }
   ],
   "source": [
    "# Paying attention to high frequency words, some of them were added to stopwords list and code run again \n",
    "\n",
    "freq = pd.Series(' '.join(posts_comments_combined[\"text_clean\"]).split()).value_counts()[:20]\n",
    "freq"
   ]
  },
  {
   "cell_type": "markdown",
   "id": "0d13e555",
   "metadata": {},
   "source": [
    "**Cleaning punctuation marks**"
   ]
  },
  {
   "cell_type": "code",
   "execution_count": 32,
   "id": "99a2c807",
   "metadata": {},
   "outputs": [],
   "source": [
    "# Store the string.punctuation into an object punct\n",
    "\n",
    "punct = string.punctuation\n"
   ]
  },
  {
   "cell_type": "code",
   "execution_count": 33,
   "id": "a5218e2f",
   "metadata": {},
   "outputs": [],
   "source": [
    "# Removing punctuation\n",
    "\n",
    "posts_comments_combined[\"text_clean\"] = posts_comments_combined[\"text_clean\"].apply(lambda x: \" \".join(x for x in str(x).split() if x not in punct))\n"
   ]
  },
  {
   "cell_type": "code",
   "execution_count": 34,
   "id": "9df1b068",
   "metadata": {},
   "outputs": [
    {
     "data": {
      "text/html": [
       "<div>\n",
       "<style scoped>\n",
       "    .dataframe tbody tr th:only-of-type {\n",
       "        vertical-align: middle;\n",
       "    }\n",
       "\n",
       "    .dataframe tbody tr th {\n",
       "        vertical-align: top;\n",
       "    }\n",
       "\n",
       "    .dataframe thead th {\n",
       "        text-align: right;\n",
       "    }\n",
       "</style>\n",
       "<table border=\"1\" class=\"dataframe\">\n",
       "  <thead>\n",
       "    <tr style=\"text-align: right;\">\n",
       "      <th></th>\n",
       "      <th>text</th>\n",
       "      <th>text_clean</th>\n",
       "    </tr>\n",
       "  </thead>\n",
       "  <tbody>\n",
       "    <tr>\n",
       "      <th>0</th>\n",
       "      <td>Would you significantly reduce your meat and dairy consumption to help cut emissions?</td>\n",
       "      <td>significantly reduce meat dairy consumption help cut emissions</td>\n",
       "    </tr>\n",
       "    <tr>\n",
       "      <th>1</th>\n",
       "      <td>Culling dairy cattle?</td>\n",
       "      <td>culling dairy cattle</td>\n",
       "    </tr>\n",
       "    <tr>\n",
       "      <th>2</th>\n",
       "      <td>Cull of Ireland’s dairy cattle for climate targets should be ‘voluntary’, farmers say</td>\n",
       "      <td>cull irelands dairy cattle climate targets voluntary farmers say</td>\n",
       "    </tr>\n",
       "    <tr>\n",
       "      <th>3</th>\n",
       "      <td>Was charged 1.20 for non dairy milk in a coffee shop this weekend , and 10.20 in total for two c...</td>\n",
       "      <td>charged 120 non dairy milk coffee shop weekend 1020 total two coffees cant one thinking robbery</td>\n",
       "    </tr>\n",
       "    <tr>\n",
       "      <th>4</th>\n",
       "      <td>Quite the surprise I did find. Was something missing or left behind?</td>\n",
       "      <td>quite surprise find something missing left behind</td>\n",
       "    </tr>\n",
       "  </tbody>\n",
       "</table>\n",
       "</div>"
      ],
      "text/plain": [
       "                                                                                                  text  \\\n",
       "0                Would you significantly reduce your meat and dairy consumption to help cut emissions?   \n",
       "1                                                                                Culling dairy cattle?   \n",
       "2                Cull of Ireland’s dairy cattle for climate targets should be ‘voluntary’, farmers say   \n",
       "3  Was charged 1.20 for non dairy milk in a coffee shop this weekend , and 10.20 in total for two c...   \n",
       "4                                 Quite the surprise I did find. Was something missing or left behind?   \n",
       "\n",
       "                                                                                        text_clean  \n",
       "0                                   significantly reduce meat dairy consumption help cut emissions  \n",
       "1                                                                             culling dairy cattle  \n",
       "2                                 cull irelands dairy cattle climate targets voluntary farmers say  \n",
       "3  charged 120 non dairy milk coffee shop weekend 1020 total two coffees cant one thinking robbery  \n",
       "4                                                quite surprise find something missing left behind  "
      ]
     },
     "execution_count": 34,
     "metadata": {},
     "output_type": "execute_result"
    }
   ],
   "source": [
    "posts_comments_combined[[\"text\", \"text_clean\"]].head()"
   ]
  },
  {
   "cell_type": "markdown",
   "id": "ad91e6bc",
   "metadata": {},
   "source": [
    "Misspelling correction was not performed (there is a rather popular tool text blob) as it often alternates the meaning of the text"
   ]
  },
  {
   "cell_type": "markdown",
   "id": "bb1a3e89",
   "metadata": {},
   "source": [
    "### Sentiment Analysis Using Text Blob\n",
    "\n",
    "Text Blob is a Python library for Natural Language Processing. Using Text Blob for sentiment analysis is rather simple: it takes text as an input and can return polarity and subjectivity as outputs. Polarity determines the sentiment of the text. Its values lie in [-1,1] where -1 denotes a highly negative sentiment and 1 denotes a highly positive sentiment. \n",
    "\n",
    "Subjectivity determines whether a text input is factual information or a personal opinion. Its value lies between [0,1] where a value closer to 0 denotes a piece of factual information and a value closer to 1 denotes a personal opinion.\n"
   ]
  },
  {
   "cell_type": "code",
   "execution_count": 35,
   "id": "c56e7d33",
   "metadata": {},
   "outputs": [
    {
     "data": {
      "text/plain": [
       "0                   (0.375, 0.875)\n",
       "1                       (0.0, 0.0)\n",
       "2                       (0.0, 0.0)\n",
       "3                     (0.0, 0.875)\n",
       "4     (-0.20000000000000004, 0.25)\n",
       "5                       (0.0, 0.0)\n",
       "6                       (0.0, 0.3)\n",
       "9                       (0.4, 0.8)\n",
       "10                      (0.0, 0.4)\n",
       "11                    (0.25, 0.65)\n",
       "12      (0.10416666666666667, 0.5)\n",
       "13                      (0.0, 0.0)\n",
       "14                     (-0.2, 0.4)\n",
       "15                      (0.0, 0.0)\n",
       "Name: text, dtype: object"
      ]
     },
     "execution_count": 35,
     "metadata": {},
     "output_type": "execute_result"
    }
   ],
   "source": [
    "# Estimating sentiment polarity of original text using TextBlob\n",
    "\n",
    "posts_comments_combined[\"text\"][:14].apply(lambda x:(TextBlob(x).sentiment))"
   ]
  },
  {
   "cell_type": "code",
   "execution_count": 36,
   "id": "25fc97c8",
   "metadata": {},
   "outputs": [
    {
     "data": {
      "text/plain": [
       "0                   (0.375, 0.875)\n",
       "1                       (0.0, 0.0)\n",
       "2                       (0.0, 0.0)\n",
       "3                      (0.0, 0.75)\n",
       "4     (-0.20000000000000004, 0.25)\n",
       "5                       (0.0, 0.0)\n",
       "6                       (0.0, 0.3)\n",
       "9                       (0.4, 0.8)\n",
       "10                      (0.0, 0.4)\n",
       "11                    (0.25, 0.65)\n",
       "12       (0.4166666666666667, 0.5)\n",
       "13                      (0.0, 0.0)\n",
       "14                     (-0.2, 0.4)\n",
       "15                      (0.0, 0.0)\n",
       "Name: text_clean, dtype: object"
      ]
     },
     "execution_count": 36,
     "metadata": {},
     "output_type": "execute_result"
    }
   ],
   "source": [
    "# Estimating sentiment polarity of cleaned original text using TextBlob. We can see that results are mostly similar,\n",
    "# but some records have higher polarity in text_clean\n",
    "\n",
    "posts_comments_combined[\"text_clean\"][:14].apply(lambda x:(TextBlob(x).sentiment))"
   ]
  },
  {
   "cell_type": "code",
   "execution_count": 37,
   "id": "ba3b8fee",
   "metadata": {},
   "outputs": [],
   "source": [
    "# Creating a sentiment column in the dataframe\n",
    "\n",
    "posts_comments_combined[\"sentiment\"] = posts_comments_combined[\"text_clean\"].apply(lambda x:(TextBlob(x).sentiment[0]))\n"
   ]
  },
  {
   "cell_type": "code",
   "execution_count": 38,
   "id": "902e7555",
   "metadata": {},
   "outputs": [
    {
     "data": {
      "text/html": [
       "<div>\n",
       "<style scoped>\n",
       "    .dataframe tbody tr th:only-of-type {\n",
       "        vertical-align: middle;\n",
       "    }\n",
       "\n",
       "    .dataframe tbody tr th {\n",
       "        vertical-align: top;\n",
       "    }\n",
       "\n",
       "    .dataframe thead th {\n",
       "        text-align: right;\n",
       "    }\n",
       "</style>\n",
       "<table border=\"1\" class=\"dataframe\">\n",
       "  <thead>\n",
       "    <tr style=\"text-align: right;\">\n",
       "      <th></th>\n",
       "      <th>text</th>\n",
       "      <th>sentiment</th>\n",
       "    </tr>\n",
       "  </thead>\n",
       "  <tbody>\n",
       "    <tr>\n",
       "      <th>0</th>\n",
       "      <td>Would you significantly reduce your meat and dairy consumption to help cut emissions?</td>\n",
       "      <td>0.375</td>\n",
       "    </tr>\n",
       "    <tr>\n",
       "      <th>1</th>\n",
       "      <td>Culling dairy cattle?</td>\n",
       "      <td>0.000</td>\n",
       "    </tr>\n",
       "    <tr>\n",
       "      <th>2</th>\n",
       "      <td>Cull of Ireland’s dairy cattle for climate targets should be ‘voluntary’, farmers say</td>\n",
       "      <td>0.000</td>\n",
       "    </tr>\n",
       "    <tr>\n",
       "      <th>3</th>\n",
       "      <td>Was charged 1.20 for non dairy milk in a coffee shop this weekend , and 10.20 in total for two c...</td>\n",
       "      <td>0.000</td>\n",
       "    </tr>\n",
       "    <tr>\n",
       "      <th>4</th>\n",
       "      <td>Quite the surprise I did find. Was something missing or left behind?</td>\n",
       "      <td>-0.200</td>\n",
       "    </tr>\n",
       "  </tbody>\n",
       "</table>\n",
       "</div>"
      ],
      "text/plain": [
       "                                                                                                  text  \\\n",
       "0                Would you significantly reduce your meat and dairy consumption to help cut emissions?   \n",
       "1                                                                                Culling dairy cattle?   \n",
       "2                Cull of Ireland’s dairy cattle for climate targets should be ‘voluntary’, farmers say   \n",
       "3  Was charged 1.20 for non dairy milk in a coffee shop this weekend , and 10.20 in total for two c...   \n",
       "4                                 Quite the surprise I did find. Was something missing or left behind?   \n",
       "\n",
       "   sentiment  \n",
       "0      0.375  \n",
       "1      0.000  \n",
       "2      0.000  \n",
       "3      0.000  \n",
       "4     -0.200  "
      ]
     },
     "execution_count": 38,
     "metadata": {},
     "output_type": "execute_result"
    }
   ],
   "source": [
    "# Display text and sentiment column \n",
    "\n",
    "posts_comments_combined[[\"text\", \"sentiment\"]].head()"
   ]
  },
  {
   "cell_type": "code",
   "execution_count": 40,
   "id": "9b53da04",
   "metadata": {},
   "outputs": [
    {
     "name": "stdout",
     "output_type": "stream",
     "text": [
      "<class 'pandas.core.frame.DataFrame'>\n",
      "Index: 30583 entries, 0 to 37297\n",
      "Data columns (total 9 columns):\n",
      " #   Column          Non-Null Count  Dtype  \n",
      "---  ------          --------------  -----  \n",
      " 0   text            30582 non-null  object \n",
      " 1   keyword         30583 non-null  object \n",
      " 2   creation_time   30583 non-null  object \n",
      " 3   word_count      30583 non-null  int64  \n",
      " 4   char_count      30582 non-null  float64\n",
      " 5   avg_word_legth  30583 non-null  float64\n",
      " 6   stopwords       30583 non-null  int64  \n",
      " 7   text_clean      30583 non-null  object \n",
      " 8   sentiment       30583 non-null  float64\n",
      "dtypes: float64(3), int64(2), object(4)\n",
      "memory usage: 2.3+ MB\n"
     ]
    }
   ],
   "source": [
    "# Checking types of each feature\n",
    "\n",
    "posts_comments_combined.info()"
   ]
  },
  {
   "cell_type": "code",
   "execution_count": 39,
   "id": "b34e1a4b",
   "metadata": {},
   "outputs": [
    {
     "data": {
      "text/html": [
       "<div>\n",
       "<style scoped>\n",
       "    .dataframe tbody tr th:only-of-type {\n",
       "        vertical-align: middle;\n",
       "    }\n",
       "\n",
       "    .dataframe tbody tr th {\n",
       "        vertical-align: top;\n",
       "    }\n",
       "\n",
       "    .dataframe thead th {\n",
       "        text-align: right;\n",
       "    }\n",
       "</style>\n",
       "<table border=\"1\" class=\"dataframe\">\n",
       "  <thead>\n",
       "    <tr style=\"text-align: right;\">\n",
       "      <th></th>\n",
       "      <th>text</th>\n",
       "      <th>keyword</th>\n",
       "      <th>creation_time</th>\n",
       "      <th>word_count</th>\n",
       "      <th>char_count</th>\n",
       "      <th>avg_word_legth</th>\n",
       "      <th>stopwords</th>\n",
       "      <th>text_clean</th>\n",
       "      <th>sentiment</th>\n",
       "    </tr>\n",
       "  </thead>\n",
       "  <tbody>\n",
       "    <tr>\n",
       "      <th>0</th>\n",
       "      <td>Would you significantly reduce your meat and dairy consumption to help cut emissions?</td>\n",
       "      <td>dairy</td>\n",
       "      <td>2022-07-27 22:15:56</td>\n",
       "      <td>13</td>\n",
       "      <td>85.0</td>\n",
       "      <td>5.615385</td>\n",
       "      <td>4</td>\n",
       "      <td>significantly reduce meat dairy consumption help cut emissions</td>\n",
       "      <td>0.375</td>\n",
       "    </tr>\n",
       "    <tr>\n",
       "      <th>1</th>\n",
       "      <td>Culling dairy cattle?</td>\n",
       "      <td>dairy</td>\n",
       "      <td>2023-05-31 14:21:53</td>\n",
       "      <td>3</td>\n",
       "      <td>21.0</td>\n",
       "      <td>6.333333</td>\n",
       "      <td>0</td>\n",
       "      <td>culling dairy cattle</td>\n",
       "      <td>0.000</td>\n",
       "    </tr>\n",
       "    <tr>\n",
       "      <th>2</th>\n",
       "      <td>Cull of Ireland’s dairy cattle for climate targets should be ‘voluntary’, farmers say</td>\n",
       "      <td>dairy</td>\n",
       "      <td>2023-05-30 12:54:37</td>\n",
       "      <td>13</td>\n",
       "      <td>85.0</td>\n",
       "      <td>5.615385</td>\n",
       "      <td>4</td>\n",
       "      <td>cull irelands dairy cattle climate targets voluntary farmers say</td>\n",
       "      <td>0.000</td>\n",
       "    </tr>\n",
       "    <tr>\n",
       "      <th>3</th>\n",
       "      <td>Was charged 1.20 for non dairy milk in a coffee shop this weekend , and 10.20 in total for two c...</td>\n",
       "      <td>dairy</td>\n",
       "      <td>2023-09-26 10:06:18</td>\n",
       "      <td>31</td>\n",
       "      <td>153.0</td>\n",
       "      <td>3.967742</td>\n",
       "      <td>13</td>\n",
       "      <td>charged 120 non dairy milk coffee shop weekend 1020 total two coffees cant one thinking robbery</td>\n",
       "      <td>0.000</td>\n",
       "    </tr>\n",
       "    <tr>\n",
       "      <th>4</th>\n",
       "      <td>Quite the surprise I did find. Was something missing or left behind?</td>\n",
       "      <td>dairy</td>\n",
       "      <td>2024-04-01 11:45:27</td>\n",
       "      <td>12</td>\n",
       "      <td>68.0</td>\n",
       "      <td>4.750000</td>\n",
       "      <td>4</td>\n",
       "      <td>quite surprise find something missing left behind</td>\n",
       "      <td>-0.200</td>\n",
       "    </tr>\n",
       "  </tbody>\n",
       "</table>\n",
       "</div>"
      ],
      "text/plain": [
       "                                                                                                  text  \\\n",
       "0                Would you significantly reduce your meat and dairy consumption to help cut emissions?   \n",
       "1                                                                                Culling dairy cattle?   \n",
       "2                Cull of Ireland’s dairy cattle for climate targets should be ‘voluntary’, farmers say   \n",
       "3  Was charged 1.20 for non dairy milk in a coffee shop this weekend , and 10.20 in total for two c...   \n",
       "4                                 Quite the surprise I did find. Was something missing or left behind?   \n",
       "\n",
       "  keyword        creation_time  word_count  char_count  avg_word_legth  \\\n",
       "0   dairy  2022-07-27 22:15:56          13        85.0        5.615385   \n",
       "1   dairy  2023-05-31 14:21:53           3        21.0        6.333333   \n",
       "2   dairy  2023-05-30 12:54:37          13        85.0        5.615385   \n",
       "3   dairy  2023-09-26 10:06:18          31       153.0        3.967742   \n",
       "4   dairy  2024-04-01 11:45:27          12        68.0        4.750000   \n",
       "\n",
       "   stopwords  \\\n",
       "0          4   \n",
       "1          0   \n",
       "2          4   \n",
       "3         13   \n",
       "4          4   \n",
       "\n",
       "                                                                                        text_clean  \\\n",
       "0                                   significantly reduce meat dairy consumption help cut emissions   \n",
       "1                                                                             culling dairy cattle   \n",
       "2                                 cull irelands dairy cattle climate targets voluntary farmers say   \n",
       "3  charged 120 non dairy milk coffee shop weekend 1020 total two coffees cant one thinking robbery   \n",
       "4                                                quite surprise find something missing left behind   \n",
       "\n",
       "   sentiment  \n",
       "0      0.375  \n",
       "1      0.000  \n",
       "2      0.000  \n",
       "3      0.000  \n",
       "4     -0.200  "
      ]
     },
     "execution_count": 39,
     "metadata": {},
     "output_type": "execute_result"
    }
   ],
   "source": [
    "# Now the dataframe contains a number of essential features describing text and can be used further in modelling\n",
    "\n",
    "posts_comments_combined.head()"
   ]
  },
  {
   "cell_type": "code",
   "execution_count": 41,
   "id": "a9ec0aa6",
   "metadata": {},
   "outputs": [
    {
     "data": {
      "text/plain": [
       "(30583, 9)"
      ]
     },
     "execution_count": 41,
     "metadata": {},
     "output_type": "execute_result"
    }
   ],
   "source": [
    "# Checking the shape of dataframe \n",
    "\n",
    "posts_comments_combined.shape"
   ]
  },
  {
   "cell_type": "code",
   "execution_count": 42,
   "id": "b2050256",
   "metadata": {},
   "outputs": [
    {
     "name": "stdout",
     "output_type": "stream",
     "text": [
      "0                                             significantly reduce meat dairy consumption help cut emissions\n",
      "1                                                                                       culling dairy cattle\n",
      "2                                           cull irelands dairy cattle climate targets voluntary farmers say\n",
      "3            charged 120 non dairy milk coffee shop weekend 1020 total two coffees cant one thinking robbery\n",
      "4                                                          quite surprise find something missing left behind\n",
      "                                                        ...                                                 \n",
      "37293    ha poor lad sense probably welcomed time despite long always seemed type want quiet life lovely ...\n",
      "37294                                                                  mad wed civil war within fucking week\n",
      "37295                                                 never late party woooohhh oh wait mean political party\n",
      "37296    looks like need td first looks like need 300 people single tdhttpwwwcitizensinformationieengover...\n",
      "37297                           propose run platform giving everyone free ice cream everyone loves ice cream\n",
      "Name: text_clean, Length: 30583, dtype: object\n"
     ]
    }
   ],
   "source": [
    "# Creating X for further modelling\n",
    "X = posts_comments_combined[\"text_clean\"]\n",
    "\n",
    "# Displaying the value \"X\"\n",
    "print(X)"
   ]
  },
  {
   "cell_type": "markdown",
   "id": "11f11321",
   "metadata": {},
   "source": [
    "**Sentiment encoding into negative / positive**\n",
    "\n",
    "For MultinomialNB - Naive Bayes model we will need integer labels, and for this purpose we will transform the shape of \"sentiment\" column. \n",
    "\n",
    "We will encode values in range [-1,0] into label 0 and [0, 1] into label 1. \n"
   ]
  },
  {
   "cell_type": "code",
   "execution_count": 43,
   "id": "2423273d",
   "metadata": {},
   "outputs": [],
   "source": [
    "# Creating a new column for sentiment encoding\n",
    "\n",
    "posts_comments_combined[\"sentiment_encoded\"] = posts_comments_combined[\"sentiment\"]"
   ]
  },
  {
   "cell_type": "code",
   "execution_count": 44,
   "id": "3261823c",
   "metadata": {},
   "outputs": [],
   "source": [
    "# Transforming sentiment into 0 (negative) and 1 (positive) labels\n",
    "\n",
    "posts_comments_combined.loc[posts_comments_combined[\"sentiment_encoded\"] <=0, \"sentiment_encoded\"] = 0\n",
    "posts_comments_combined.loc[posts_comments_combined[\"sentiment_encoded\"] >0, \"sentiment_encoded\"] = 1"
   ]
  },
  {
   "cell_type": "code",
   "execution_count": 45,
   "id": "f23a5986",
   "metadata": {},
   "outputs": [],
   "source": [
    "# Changing the type from float to int to make it suitable for modelling \n",
    "\n",
    "posts_comments_combined[\"sentiment_encoded\"] = posts_comments_combined[\"sentiment_encoded\"].astype(int)"
   ]
  },
  {
   "cell_type": "code",
   "execution_count": 51,
   "id": "69d2e178",
   "metadata": {},
   "outputs": [
    {
     "data": {
      "image/png": "[encoded data removed]",
      "text/plain": [
       "<Figure size 640x480 with 1 Axes>"
      ]
     },
     "metadata": {},
     "output_type": "display_data"
    }
   ],
   "source": [
    "# Checking the distribution of labels\n",
    "\n",
    "posts_comments_combined[\"sentiment_encoded\"].value_counts().plot(kind='bar', title='Distribution of sentiment labels');\n"
   ]
  },
  {
   "cell_type": "code",
   "execution_count": 52,
   "id": "cd2c0f26",
   "metadata": {},
   "outputs": [
    {
     "name": "stdout",
     "output_type": "stream",
     "text": [
      "Positive:  38.09305823496714 %\n",
      "Negative:  61.90694176503286 %\n"
     ]
    }
   ],
   "source": [
    "#Percentage of Positive/Negative\n",
    "\n",
    "print(\"Positive: \", posts_comments_combined.sentiment_encoded.value_counts()[1]/len(posts_comments_combined)*100,\"%\")\n",
    "print(\"Negative: \", posts_comments_combined.sentiment_encoded.value_counts()[0]/len(posts_comments_combined)*100,\"%\")"
   ]
  },
  {
   "cell_type": "markdown",
   "id": "4069a9c7",
   "metadata": {},
   "source": [
    "The dataframe appeared not perfectly balanced, and this type of imbalance can be called marginally unbalanced (Weiss, 2013). It would be practical to fit models on imbalanced data and consider differences in model performance for labels."
   ]
  },
  {
   "cell_type": "code",
   "execution_count": 54,
   "id": "f9b24952",
   "metadata": {
    "scrolled": true
   },
   "outputs": [
    {
     "name": "stdout",
     "output_type": "stream",
     "text": [
      "0        1\n",
      "1        0\n",
      "2        0\n",
      "3        0\n",
      "4        0\n",
      "        ..\n",
      "37293    1\n",
      "37294    0\n",
      "37295    0\n",
      "37296    0\n",
      "37297    1\n",
      "Name: sentiment_encoded, Length: 30583, dtype: int32\n"
     ]
    }
   ],
   "source": [
    "# Store the column of the dataframe named as \"sentiment_encoded\"\n",
    "\n",
    "y = posts_comments_combined[\"sentiment_encoded\"]\n",
    "\n",
    "# Display the column of the dataframe named as \"sentiment_encoded\"\n",
    "\n",
    "print(y)"
   ]
  },
  {
   "cell_type": "markdown",
   "id": "a3e415a6",
   "metadata": {},
   "source": [
    "### Bag of Words Using CountVectorizer\n",
    "\n",
    "The Bag of Words tool is used to represent the text in the form of a bag of words, i.e. the grammar and the order of words in a sentence are not given any importance, instead, words occurence / multiplicity is the main point of concern.\n",
    "\n",
    "Basically, it describes the total occurrence of words within a document (Raj, 2024)."
   ]
  },
  {
   "cell_type": "markdown",
   "id": "9c5f393e",
   "metadata": {},
   "source": [
    "**Setting up CountVectorzer() parameters**\n",
    "\n",
    "Ngram is a sequence of ‘n’ of words in a row or sentence. \n",
    "\n",
    "‘ngram_range’ is a parameter that can be used to give importance to the combination of words, for example \"skimmed milk\" has a different meaning than “skimmed” and “milk” separately.\n",
    "\n",
    "ngram_range parameter can be selected via experiments.\n",
    "\n",
    "max_features - if not None, build a vocabulary that only consider the top max_features ordered by term frequency across the corpus. Otherwise, all features are used."
   ]
  },
  {
   "cell_type": "code",
   "execution_count": 55,
   "id": "85873eb4",
   "metadata": {},
   "outputs": [
    {
     "data": {
      "text/plain": [
       "(30583, 3000)"
      ]
     },
     "execution_count": 55,
     "metadata": {},
     "output_type": "execute_result"
    }
   ],
   "source": [
    "# Instantiate an object cv by calling a method named as CountVectorzer()\n",
    "# ngram_range defines one and two-word fragments \n",
    "\n",
    "cv = CountVectorizer(max_features = 3000, ngram_range=(1,2))\n",
    "\n",
    "# cv = CountVectorizer(max_features = 3000, stop_words = ['dairy', 'milk', 'butter', 'cream'])\n",
    "\n",
    "# Train the dataset by calling a fit_transform() method\n",
    "\n",
    "X_fin = cv.fit_transform(X).toarray()\n",
    "\n",
    "# Display the rows and colums\n",
    "\n",
    "X_fin.shape"
   ]
  },
  {
   "cell_type": "markdown",
   "id": "44edf2e4",
   "metadata": {},
   "source": [
    "**MultinomialNB for target variable with 2 labels**"
   ]
  },
  {
   "cell_type": "code",
   "execution_count": 56,
   "id": "69dee497",
   "metadata": {},
   "outputs": [],
   "source": [
    "# Instantiate an object model by calling a method MultinomialNB()\n",
    "\n",
    "model = MultinomialNB()"
   ]
  },
  {
   "cell_type": "code",
   "execution_count": 58,
   "id": "bd72a6f1",
   "metadata": {},
   "outputs": [],
   "source": [
    "# Split the dataset into training and testing parts\n",
    "\n",
    "X_train, X_test, y_train, y_test = train_test_split(X_fin, y, test_size = 0.3)"
   ]
  },
  {
   "cell_type": "code",
   "execution_count": 59,
   "id": "4603f337",
   "metadata": {},
   "outputs": [
    {
     "data": {
      "text/html": [
       "<style>#sk-container-id-1 {\n",
       "  /* Definition of color scheme common for light and dark mode */\n",
       "  --sklearn-color-text: black;\n",
       "  --sklearn-color-line: gray;\n",
       "  /* Definition of color scheme for unfitted estimators */\n",
       "  --sklearn-color-unfitted-level-0: #fff5e6;\n",
       "  --sklearn-color-unfitted-level-1: #f6e4d2;\n",
       "  --sklearn-color-unfitted-level-2: #ffe0b3;\n",
       "  --sklearn-color-unfitted-level-3: chocolate;\n",
       "  /* Definition of color scheme for fitted estimators */\n",
       "  --sklearn-color-fitted-level-0: #f0f8ff;\n",
       "  --sklearn-color-fitted-level-1: #d4ebff;\n",
       "  --sklearn-color-fitted-level-2: #b3dbfd;\n",
       "  --sklearn-color-fitted-level-3: cornflowerblue;\n",
       "\n",
       "  /* Specific color for light theme */\n",
       "  --sklearn-color-text-on-default-background: var(--sg-text-color, var(--theme-code-foreground, var(--jp-content-font-color1, black)));\n",
       "  --sklearn-color-background: var(--sg-background-color, var(--theme-background, var(--jp-layout-color0, white)));\n",
       "  --sklearn-color-border-box: var(--sg-text-color, var(--theme-code-foreground, var(--jp-content-font-color1, black)));\n",
       "  --sklearn-color-icon: #696969;\n",
       "\n",
       "  @media (prefers-color-scheme: dark) {\n",
       "    /* Redefinition of color scheme for dark theme */\n",
       "    --sklearn-color-text-on-default-background: var(--sg-text-color, var(--theme-code-foreground, var(--jp-content-font-color1, white)));\n",
       "    --sklearn-color-background: var(--sg-background-color, var(--theme-background, var(--jp-layout-color0, #111)));\n",
       "    --sklearn-color-border-box: var(--sg-text-color, var(--theme-code-foreground, var(--jp-content-font-color1, white)));\n",
       "    --sklearn-color-icon: #878787;\n",
       "  }\n",
       "}\n",
       "\n",
       "#sk-container-id-1 {\n",
       "  color: var(--sklearn-color-text);\n",
       "}\n",
       "\n",
       "#sk-container-id-1 pre {\n",
       "  padding: 0;\n",
       "}\n",
       "\n",
       "#sk-container-id-1 input.sk-hidden--visually {\n",
       "  border: 0;\n",
       "  clip: rect(1px 1px 1px 1px);\n",
       "  clip: rect(1px, 1px, 1px, 1px);\n",
       "  height: 1px;\n",
       "  margin: -1px;\n",
       "  overflow: hidden;\n",
       "  padding: 0;\n",
       "  position: absolute;\n",
       "  width: 1px;\n",
       "}\n",
       "\n",
       "#sk-container-id-1 div.sk-dashed-wrapped {\n",
       "  border: 1px dashed var(--sklearn-color-line);\n",
       "  margin: 0 0.4em 0.5em 0.4em;\n",
       "  box-sizing: border-box;\n",
       "  padding-bottom: 0.4em;\n",
       "  background-color: var(--sklearn-color-background);\n",
       "}\n",
       "\n",
       "#sk-container-id-1 div.sk-container {\n",
       "  /* jupyter's `normalize.less` sets `[hidden] { display: none; }`\n",
       "     but bootstrap.min.css set `[hidden] { display: none !important; }`\n",
       "     so we also need the `!important` here to be able to override the\n",
       "     default hidden behavior on the sphinx rendered scikit-learn.org.\n",
       "     See: https://github.com/scikit-learn/scikit-learn/issues/21755 */\n",
       "  display: inline-block !important;\n",
       "  position: relative;\n",
       "}\n",
       "\n",
       "#sk-container-id-1 div.sk-text-repr-fallback {\n",
       "  display: none;\n",
       "}\n",
       "\n",
       "div.sk-parallel-item,\n",
       "div.sk-serial,\n",
       "div.sk-item {\n",
       "  /* draw centered vertical line to link estimators */\n",
       "  background-image: linear-gradient(var(--sklearn-color-text-on-default-background), var(--sklearn-color-text-on-default-background));\n",
       "  background-size: 2px 100%;\n",
       "  background-repeat: no-repeat;\n",
       "  background-position: center center;\n",
       "}\n",
       "\n",
       "/* Parallel-specific style estimator block */\n",
       "\n",
       "#sk-container-id-1 div.sk-parallel-item::after {\n",
       "  content: \"\";\n",
       "  width: 100%;\n",
       "  border-bottom: 2px solid var(--sklearn-color-text-on-default-background);\n",
       "  flex-grow: 1;\n",
       "}\n",
       "\n",
       "#sk-container-id-1 div.sk-parallel {\n",
       "  display: flex;\n",
       "  align-items: stretch;\n",
       "  justify-content: center;\n",
       "  background-color: var(--sklearn-color-background);\n",
       "  position: relative;\n",
       "}\n",
       "\n",
       "#sk-container-id-1 div.sk-parallel-item {\n",
       "  display: flex;\n",
       "  flex-direction: column;\n",
       "}\n",
       "\n",
       "#sk-container-id-1 div.sk-parallel-item:first-child::after {\n",
       "  align-self: flex-end;\n",
       "  width: 50%;\n",
       "}\n",
       "\n",
       "#sk-container-id-1 div.sk-parallel-item:last-child::after {\n",
       "  align-self: flex-start;\n",
       "  width: 50%;\n",
       "}\n",
       "\n",
       "#sk-container-id-1 div.sk-parallel-item:only-child::after {\n",
       "  width: 0;\n",
       "}\n",
       "\n",
       "/* Serial-specific style estimator block */\n",
       "\n",
       "#sk-container-id-1 div.sk-serial {\n",
       "  display: flex;\n",
       "  flex-direction: column;\n",
       "  align-items: center;\n",
       "  background-color: var(--sklearn-color-background);\n",
       "  padding-right: 1em;\n",
       "  padding-left: 1em;\n",
       "}\n",
       "\n",
       "\n",
       "/* Toggleable style: style used for estimator/Pipeline/ColumnTransformer box that is\n",
       "clickable and can be expanded/collapsed.\n",
       "- Pipeline and ColumnTransformer use this feature and define the default style\n",
       "- Estimators will overwrite some part of the style using the `sk-estimator` class\n",
       "*/\n",
       "\n",
       "/* Pipeline and ColumnTransformer style (default) */\n",
       "\n",
       "#sk-container-id-1 div.sk-toggleable {\n",
       "  /* Default theme specific background. It is overwritten whether we have a\n",
       "  specific estimator or a Pipeline/ColumnTransformer */\n",
       "  background-color: var(--sklearn-color-background);\n",
       "}\n",
       "\n",
       "/* Toggleable label */\n",
       "#sk-container-id-1 label.sk-toggleable__label {\n",
       "  cursor: pointer;\n",
       "  display: block;\n",
       "  width: 100%;\n",
       "  margin-bottom: 0;\n",
       "  padding: 0.5em;\n",
       "  box-sizing: border-box;\n",
       "  text-align: center;\n",
       "}\n",
       "\n",
       "#sk-container-id-1 label.sk-toggleable__label-arrow:before {\n",
       "  /* Arrow on the left of the label */\n",
       "  content: \"▸\";\n",
       "  float: left;\n",
       "  margin-right: 0.25em;\n",
       "  color: var(--sklearn-color-icon);\n",
       "}\n",
       "\n",
       "#sk-container-id-1 label.sk-toggleable__label-arrow:hover:before {\n",
       "  color: var(--sklearn-color-text);\n",
       "}\n",
       "\n",
       "/* Toggleable content - dropdown */\n",
       "\n",
       "#sk-container-id-1 div.sk-toggleable__content {\n",
       "  max-height: 0;\n",
       "  max-width: 0;\n",
       "  overflow: hidden;\n",
       "  text-align: left;\n",
       "  /* unfitted */\n",
       "  background-color: var(--sklearn-color-unfitted-level-0);\n",
       "}\n",
       "\n",
       "#sk-container-id-1 div.sk-toggleable__content.fitted {\n",
       "  /* fitted */\n",
       "  background-color: var(--sklearn-color-fitted-level-0);\n",
       "}\n",
       "\n",
       "#sk-container-id-1 div.sk-toggleable__content pre {\n",
       "  margin: 0.2em;\n",
       "  border-radius: 0.25em;\n",
       "  color: var(--sklearn-color-text);\n",
       "  /* unfitted */\n",
       "  background-color: var(--sklearn-color-unfitted-level-0);\n",
       "}\n",
       "\n",
       "#sk-container-id-1 div.sk-toggleable__content.fitted pre {\n",
       "  /* unfitted */\n",
       "  background-color: var(--sklearn-color-fitted-level-0);\n",
       "}\n",
       "\n",
       "#sk-container-id-1 input.sk-toggleable__control:checked~div.sk-toggleable__content {\n",
       "  /* Expand drop-down */\n",
       "  max-height: 200px;\n",
       "  max-width: 100%;\n",
       "  overflow: auto;\n",
       "}\n",
       "\n",
       "#sk-container-id-1 input.sk-toggleable__control:checked~label.sk-toggleable__label-arrow:before {\n",
       "  content: \"▾\";\n",
       "}\n",
       "\n",
       "/* Pipeline/ColumnTransformer-specific style */\n",
       "\n",
       "#sk-container-id-1 div.sk-label input.sk-toggleable__control:checked~label.sk-toggleable__label {\n",
       "  color: var(--sklearn-color-text);\n",
       "  background-color: var(--sklearn-color-unfitted-level-2);\n",
       "}\n",
       "\n",
       "#sk-container-id-1 div.sk-label.fitted input.sk-toggleable__control:checked~label.sk-toggleable__label {\n",
       "  background-color: var(--sklearn-color-fitted-level-2);\n",
       "}\n",
       "\n",
       "/* Estimator-specific style */\n",
       "\n",
       "/* Colorize estimator box */\n",
       "#sk-container-id-1 div.sk-estimator input.sk-toggleable__control:checked~label.sk-toggleable__label {\n",
       "  /* unfitted */\n",
       "  background-color: var(--sklearn-color-unfitted-level-2);\n",
       "}\n",
       "\n",
       "#sk-container-id-1 div.sk-estimator.fitted input.sk-toggleable__control:checked~label.sk-toggleable__label {\n",
       "  /* fitted */\n",
       "  background-color: var(--sklearn-color-fitted-level-2);\n",
       "}\n",
       "\n",
       "#sk-container-id-1 div.sk-label label.sk-toggleable__label,\n",
       "#sk-container-id-1 div.sk-label label {\n",
       "  /* The background is the default theme color */\n",
       "  color: var(--sklearn-color-text-on-default-background);\n",
       "}\n",
       "\n",
       "/* On hover, darken the color of the background */\n",
       "#sk-container-id-1 div.sk-label:hover label.sk-toggleable__label {\n",
       "  color: var(--sklearn-color-text);\n",
       "  background-color: var(--sklearn-color-unfitted-level-2);\n",
       "}\n",
       "\n",
       "/* Label box, darken color on hover, fitted */\n",
       "#sk-container-id-1 div.sk-label.fitted:hover label.sk-toggleable__label.fitted {\n",
       "  color: var(--sklearn-color-text);\n",
       "  background-color: var(--sklearn-color-fitted-level-2);\n",
       "}\n",
       "\n",
       "/* Estimator label */\n",
       "\n",
       "#sk-container-id-1 div.sk-label label {\n",
       "  font-family: monospace;\n",
       "  font-weight: bold;\n",
       "  display: inline-block;\n",
       "  line-height: 1.2em;\n",
       "}\n",
       "\n",
       "#sk-container-id-1 div.sk-label-container {\n",
       "  text-align: center;\n",
       "}\n",
       "\n",
       "/* Estimator-specific */\n",
       "#sk-container-id-1 div.sk-estimator {\n",
       "  font-family: monospace;\n",
       "  border: 1px dotted var(--sklearn-color-border-box);\n",
       "  border-radius: 0.25em;\n",
       "  box-sizing: border-box;\n",
       "  margin-bottom: 0.5em;\n",
       "  /* unfitted */\n",
       "  background-color: var(--sklearn-color-unfitted-level-0);\n",
       "}\n",
       "\n",
       "#sk-container-id-1 div.sk-estimator.fitted {\n",
       "  /* fitted */\n",
       "  background-color: var(--sklearn-color-fitted-level-0);\n",
       "}\n",
       "\n",
       "/* on hover */\n",
       "#sk-container-id-1 div.sk-estimator:hover {\n",
       "  /* unfitted */\n",
       "  background-color: var(--sklearn-color-unfitted-level-2);\n",
       "}\n",
       "\n",
       "#sk-container-id-1 div.sk-estimator.fitted:hover {\n",
       "  /* fitted */\n",
       "  background-color: var(--sklearn-color-fitted-level-2);\n",
       "}\n",
       "\n",
       "/* Specification for estimator info (e.g. \"i\" and \"?\") */\n",
       "\n",
       "/* Common style for \"i\" and \"?\" */\n",
       "\n",
       ".sk-estimator-doc-link,\n",
       "a:link.sk-estimator-doc-link,\n",
       "a:visited.sk-estimator-doc-link {\n",
       "  float: right;\n",
       "  font-size: smaller;\n",
       "  line-height: 1em;\n",
       "  font-family: monospace;\n",
       "  background-color: var(--sklearn-color-background);\n",
       "  border-radius: 1em;\n",
       "  height: 1em;\n",
       "  width: 1em;\n",
       "  text-decoration: none !important;\n",
       "  margin-left: 1ex;\n",
       "  /* unfitted */\n",
       "  border: var(--sklearn-color-unfitted-level-1) 1pt solid;\n",
       "  color: var(--sklearn-color-unfitted-level-1);\n",
       "}\n",
       "\n",
       ".sk-estimator-doc-link.fitted,\n",
       "a:link.sk-estimator-doc-link.fitted,\n",
       "a:visited.sk-estimator-doc-link.fitted {\n",
       "  /* fitted */\n",
       "  border: var(--sklearn-color-fitted-level-1) 1pt solid;\n",
       "  color: var(--sklearn-color-fitted-level-1);\n",
       "}\n",
       "\n",
       "/* On hover */\n",
       "div.sk-estimator:hover .sk-estimator-doc-link:hover,\n",
       ".sk-estimator-doc-link:hover,\n",
       "div.sk-label-container:hover .sk-estimator-doc-link:hover,\n",
       ".sk-estimator-doc-link:hover {\n",
       "  /* unfitted */\n",
       "  background-color: var(--sklearn-color-unfitted-level-3);\n",
       "  color: var(--sklearn-color-background);\n",
       "  text-decoration: none;\n",
       "}\n",
       "\n",
       "div.sk-estimator.fitted:hover .sk-estimator-doc-link.fitted:hover,\n",
       ".sk-estimator-doc-link.fitted:hover,\n",
       "div.sk-label-container:hover .sk-estimator-doc-link.fitted:hover,\n",
       ".sk-estimator-doc-link.fitted:hover {\n",
       "  /* fitted */\n",
       "  background-color: var(--sklearn-color-fitted-level-3);\n",
       "  color: var(--sklearn-color-background);\n",
       "  text-decoration: none;\n",
       "}\n",
       "\n",
       "/* Span, style for the box shown on hovering the info icon */\n",
       ".sk-estimator-doc-link span {\n",
       "  display: none;\n",
       "  z-index: 9999;\n",
       "  position: relative;\n",
       "  font-weight: normal;\n",
       "  right: .2ex;\n",
       "  padding: .5ex;\n",
       "  margin: .5ex;\n",
       "  width: min-content;\n",
       "  min-width: 20ex;\n",
       "  max-width: 50ex;\n",
       "  color: var(--sklearn-color-text);\n",
       "  box-shadow: 2pt 2pt 4pt #999;\n",
       "  /* unfitted */\n",
       "  background: var(--sklearn-color-unfitted-level-0);\n",
       "  border: .5pt solid var(--sklearn-color-unfitted-level-3);\n",
       "}\n",
       "\n",
       ".sk-estimator-doc-link.fitted span {\n",
       "  /* fitted */\n",
       "  background: var(--sklearn-color-fitted-level-0);\n",
       "  border: var(--sklearn-color-fitted-level-3);\n",
       "}\n",
       "\n",
       ".sk-estimator-doc-link:hover span {\n",
       "  display: block;\n",
       "}\n",
       "\n",
       "/* \"?\"-specific style due to the `<a>` HTML tag */\n",
       "\n",
       "#sk-container-id-1 a.estimator_doc_link {\n",
       "  float: right;\n",
       "  font-size: 1rem;\n",
       "  line-height: 1em;\n",
       "  font-family: monospace;\n",
       "  background-color: var(--sklearn-color-background);\n",
       "  border-radius: 1rem;\n",
       "  height: 1rem;\n",
       "  width: 1rem;\n",
       "  text-decoration: none;\n",
       "  /* unfitted */\n",
       "  color: var(--sklearn-color-unfitted-level-1);\n",
       "  border: var(--sklearn-color-unfitted-level-1) 1pt solid;\n",
       "}\n",
       "\n",
       "#sk-container-id-1 a.estimator_doc_link.fitted {\n",
       "  /* fitted */\n",
       "  border: var(--sklearn-color-fitted-level-1) 1pt solid;\n",
       "  color: var(--sklearn-color-fitted-level-1);\n",
       "}\n",
       "\n",
       "/* On hover */\n",
       "#sk-container-id-1 a.estimator_doc_link:hover {\n",
       "  /* unfitted */\n",
       "  background-color: var(--sklearn-color-unfitted-level-3);\n",
       "  color: var(--sklearn-color-background);\n",
       "  text-decoration: none;\n",
       "}\n",
       "\n",
       "#sk-container-id-1 a.estimator_doc_link.fitted:hover {\n",
       "  /* fitted */\n",
       "  background-color: var(--sklearn-color-fitted-level-3);\n",
       "}\n",
       "</style><div id=\"sk-container-id-1\" class=\"sk-top-container\"><div class=\"sk-text-repr-fallback\"><pre>MultinomialNB()</pre><b>In a Jupyter environment, please rerun this cell to show the HTML representation or trust the notebook. <br />On GitHub, the HTML representation is unable to render, please try loading this page with nbviewer.org.</b></div><div class=\"sk-container\" hidden><div class=\"sk-item\"><div class=\"sk-estimator fitted sk-toggleable\"><input class=\"sk-toggleable__control sk-hidden--visually\" id=\"sk-estimator-id-1\" type=\"checkbox\" checked><label for=\"sk-estimator-id-1\" class=\"sk-toggleable__label fitted sk-toggleable__label-arrow fitted\">&nbsp;&nbsp;MultinomialNB<a class=\"sk-estimator-doc-link fitted\" rel=\"noreferrer\" target=\"_blank\" href=\"https://scikit-learn.org/1.4/modules/generated/sklearn.naive_bayes.MultinomialNB.html\">?<span>Documentation for MultinomialNB</span></a><span class=\"sk-estimator-doc-link fitted\">i<span>Fitted</span></span></label><div class=\"sk-toggleable__content fitted\"><pre>MultinomialNB()</pre></div> </div></div></div></div>"
      ],
      "text/plain": [
       "MultinomialNB()"
      ]
     },
     "execution_count": 59,
     "metadata": {},
     "output_type": "execute_result"
    }
   ],
   "source": [
    "# Train the model by calling a method fit()\n",
    "\n",
    "model.fit(X_train,y_train)"
   ]
  },
  {
   "cell_type": "code",
   "execution_count": 60,
   "id": "5d40c727",
   "metadata": {},
   "outputs": [],
   "source": [
    "# Call predict() method\n",
    "\n",
    "y_pred = model.predict(X_test)"
   ]
  },
  {
   "cell_type": "code",
   "execution_count": 61,
   "id": "97096e2c",
   "metadata": {},
   "outputs": [
    {
     "name": "stdout",
     "output_type": "stream",
     "text": [
      "              precision    recall  f1-score   support\n",
      "\n",
      "           0       0.86      0.91      0.89      5679\n",
      "           1       0.84      0.76      0.80      3496\n",
      "\n",
      "    accuracy                           0.86      9175\n",
      "   macro avg       0.85      0.84      0.84      9175\n",
      "weighted avg       0.85      0.86      0.85      9175\n",
      "\n"
     ]
    }
   ],
   "source": [
    "# Instantiate a method named as Classification_report\n",
    "\n",
    "cf = classification_report(y_test, y_pred)\n",
    "\n",
    "# Display the values of an object cf\n",
    "\n",
    "print(cf)"
   ]
  },
  {
   "cell_type": "code",
   "execution_count": 76,
   "id": "91f6af04",
   "metadata": {},
   "outputs": [
    {
     "data": {
      "image/png": "[encoded data removed]",
      "text/plain": [
       "<Figure size 640x480 with 2 Axes>"
      ]
     },
     "metadata": {},
     "output_type": "display_data"
    }
   ],
   "source": [
    "# Creating confusion matrix to check accuracy\n",
    "\n",
    "%matplotlib inline\n",
    "\n",
    "cmd.from_estimator(model, X_test, y_test,\n",
    "                   display_labels=['Negative', 'Positive'],\n",
    "                   cmap='Blues', xticks_rotation='vertical');"
   ]
  },
  {
   "cell_type": "markdown",
   "id": "ef0208ff",
   "metadata": {},
   "source": [
    "Confusion matrix along with evaluation metrics demonstrate that algorithm managed to predict positive and negative sentiments with rather high accuracy. Other train/test splits (60%-40%, 80%-20%) showed less accurate results. Changes of the number of maximum features in CountVectorizer did not demonstrate significant alterations.  "
   ]
  },
  {
   "cell_type": "markdown",
   "id": "c9cdfc9a",
   "metadata": {},
   "source": [
    "It is essential to consider precision, recall and f1-score along with accuracy for imbalanced data (Cohen, 2020). We received rather high values using Naive Bayes classifier for multinomial models with some lower values obtained for “Positive” label which is less represented in the dataframe. \n",
    "\n",
    "Further research should include experiments with data balancing and different bag of words parameters testing. "
   ]
  },
  {
   "cell_type": "markdown",
   "id": "ee3ac604",
   "metadata": {},
   "source": [
    "## Extracted Data Exploration\n",
    "\n",
    "In this section we will build plots and queries to explore extracted data: number of positive and negative posts for each keyword, sentiment polarity, top positive and top negative comments, top discussed keywords, mean sentiment polarity per keyword. "
   ]
  },
  {
   "cell_type": "code",
   "execution_count": 62,
   "id": "dd148e2d",
   "metadata": {},
   "outputs": [
    {
     "data": {
      "text/html": [
       "<div>\n",
       "<style scoped>\n",
       "    .dataframe tbody tr th:only-of-type {\n",
       "        vertical-align: middle;\n",
       "    }\n",
       "\n",
       "    .dataframe tbody tr th {\n",
       "        vertical-align: top;\n",
       "    }\n",
       "\n",
       "    .dataframe thead th {\n",
       "        text-align: right;\n",
       "    }\n",
       "</style>\n",
       "<table border=\"1\" class=\"dataframe\">\n",
       "  <thead>\n",
       "    <tr style=\"text-align: right;\">\n",
       "      <th></th>\n",
       "      <th>text</th>\n",
       "      <th>keyword</th>\n",
       "      <th>sentiment</th>\n",
       "      <th>sentiment_encoded</th>\n",
       "    </tr>\n",
       "  </thead>\n",
       "  <tbody>\n",
       "    <tr>\n",
       "      <th>0</th>\n",
       "      <td>Would you significantly reduce your meat and dairy consumption to help cut emissions?</td>\n",
       "      <td>dairy</td>\n",
       "      <td>0.375</td>\n",
       "      <td>1</td>\n",
       "    </tr>\n",
       "    <tr>\n",
       "      <th>1</th>\n",
       "      <td>Culling dairy cattle?</td>\n",
       "      <td>dairy</td>\n",
       "      <td>0.000</td>\n",
       "      <td>0</td>\n",
       "    </tr>\n",
       "    <tr>\n",
       "      <th>2</th>\n",
       "      <td>Cull of Ireland’s dairy cattle for climate targets should be ‘voluntary’, farmers say</td>\n",
       "      <td>dairy</td>\n",
       "      <td>0.000</td>\n",
       "      <td>0</td>\n",
       "    </tr>\n",
       "    <tr>\n",
       "      <th>3</th>\n",
       "      <td>Was charged 1.20 for non dairy milk in a coffee shop this weekend , and 10.20 in total for two c...</td>\n",
       "      <td>dairy</td>\n",
       "      <td>0.000</td>\n",
       "      <td>0</td>\n",
       "    </tr>\n",
       "    <tr>\n",
       "      <th>4</th>\n",
       "      <td>Quite the surprise I did find. Was something missing or left behind?</td>\n",
       "      <td>dairy</td>\n",
       "      <td>-0.200</td>\n",
       "      <td>0</td>\n",
       "    </tr>\n",
       "    <tr>\n",
       "      <th>5</th>\n",
       "      <td>Rivers and lakes face pollution crisis caused by Ireland’s dairy industry</td>\n",
       "      <td>dairy</td>\n",
       "      <td>0.000</td>\n",
       "      <td>0</td>\n",
       "    </tr>\n",
       "    <tr>\n",
       "      <th>6</th>\n",
       "      <td>Owning Cattle For Personal Consumption (Dairy)</td>\n",
       "      <td>dairy</td>\n",
       "      <td>0.000</td>\n",
       "      <td>0</td>\n",
       "    </tr>\n",
       "    <tr>\n",
       "      <th>9</th>\n",
       "      <td>Dairy free yogurt</td>\n",
       "      <td>dairy</td>\n",
       "      <td>0.400</td>\n",
       "      <td>1</td>\n",
       "    </tr>\n",
       "    <tr>\n",
       "      <th>10</th>\n",
       "      <td>What do you think of the current state of the agricultural industry in Ireland. (Dairy,beef,till...</td>\n",
       "      <td>dairy</td>\n",
       "      <td>0.000</td>\n",
       "      <td>0</td>\n",
       "    </tr>\n",
       "    <tr>\n",
       "      <th>11</th>\n",
       "      <td>Every time I go on holiday I'm unfortunately reminded of how we have the best dairy in the world.</td>\n",
       "      <td>dairy</td>\n",
       "      <td>0.250</td>\n",
       "      <td>1</td>\n",
       "    </tr>\n",
       "  </tbody>\n",
       "</table>\n",
       "</div>"
      ],
      "text/plain": [
       "                                                                                                   text  \\\n",
       "0                 Would you significantly reduce your meat and dairy consumption to help cut emissions?   \n",
       "1                                                                                 Culling dairy cattle?   \n",
       "2                 Cull of Ireland’s dairy cattle for climate targets should be ‘voluntary’, farmers say   \n",
       "3   Was charged 1.20 for non dairy milk in a coffee shop this weekend , and 10.20 in total for two c...   \n",
       "4                                  Quite the surprise I did find. Was something missing or left behind?   \n",
       "5                             Rivers and lakes face pollution crisis caused by Ireland’s dairy industry   \n",
       "6                                                        Owning Cattle For Personal Consumption (Dairy)   \n",
       "9                                                                                     Dairy free yogurt   \n",
       "10  What do you think of the current state of the agricultural industry in Ireland. (Dairy,beef,till...   \n",
       "11    Every time I go on holiday I'm unfortunately reminded of how we have the best dairy in the world.   \n",
       "\n",
       "   keyword  sentiment  sentiment_encoded  \n",
       "0    dairy      0.375                  1  \n",
       "1    dairy      0.000                  0  \n",
       "2    dairy      0.000                  0  \n",
       "3    dairy      0.000                  0  \n",
       "4    dairy     -0.200                  0  \n",
       "5    dairy      0.000                  0  \n",
       "6    dairy      0.000                  0  \n",
       "9    dairy      0.400                  1  \n",
       "10   dairy      0.000                  0  \n",
       "11   dairy      0.250                  1  "
      ]
     },
     "execution_count": 62,
     "metadata": {},
     "output_type": "execute_result"
    }
   ],
   "source": [
    "posts_comments_combined[['text', 'keyword', 'sentiment', 'sentiment_encoded']].head(10)"
   ]
  },
  {
   "cell_type": "code",
   "execution_count": 63,
   "id": "970a7536",
   "metadata": {},
   "outputs": [],
   "source": [
    "# Preparing data for visualization of the number of positive and negative comments per keyword\n",
    "# Filteting positive and negative\n",
    "\n",
    "keywords_negative = posts_comments_combined.query('sentiment_encoded == 0').groupby(\"keyword\").count().reset_index()\n",
    "keywords_positive = posts_comments_combined.query('sentiment_encoded == 1').groupby(\"keyword\").count().reset_index()\n"
   ]
  },
  {
   "cell_type": "code",
   "execution_count": 64,
   "id": "f6074072",
   "metadata": {},
   "outputs": [],
   "source": [
    "# Selecting needed columns\n",
    "\n",
    "keywords_negative = keywords_negative[['keyword', 'text_clean']]\n",
    "keywords_positive = keywords_positive[['keyword', 'text_clean']]\n"
   ]
  },
  {
   "cell_type": "code",
   "execution_count": 65,
   "id": "890b0e67",
   "metadata": {},
   "outputs": [],
   "source": [
    "# Merging positive and negative selections and renaming columns\n",
    "\n",
    "keywords = pd.merge(keywords_negative, keywords_positive, on='keyword')\n",
    "keywords.rename(columns={'text_clean_x': 'negative_comments', 'text_clean_y': 'positive_comments'}, inplace=True)"
   ]
  },
  {
   "cell_type": "code",
   "execution_count": 66,
   "id": "8c426bb7",
   "metadata": {},
   "outputs": [
    {
     "data": {
      "text/html": [
       "<div>\n",
       "<style scoped>\n",
       "    .dataframe tbody tr th:only-of-type {\n",
       "        vertical-align: middle;\n",
       "    }\n",
       "\n",
       "    .dataframe tbody tr th {\n",
       "        vertical-align: top;\n",
       "    }\n",
       "\n",
       "    .dataframe thead th {\n",
       "        text-align: right;\n",
       "    }\n",
       "</style>\n",
       "<table border=\"1\" class=\"dataframe\">\n",
       "  <thead>\n",
       "    <tr style=\"text-align: right;\">\n",
       "      <th></th>\n",
       "      <th>keyword</th>\n",
       "      <th>negative_comments</th>\n",
       "      <th>positive_comments</th>\n",
       "    </tr>\n",
       "  </thead>\n",
       "  <tbody>\n",
       "    <tr>\n",
       "      <th>0</th>\n",
       "      <td>butter</td>\n",
       "      <td>4009</td>\n",
       "      <td>2480</td>\n",
       "    </tr>\n",
       "    <tr>\n",
       "      <th>1</th>\n",
       "      <td>buttermilk</td>\n",
       "      <td>129</td>\n",
       "      <td>103</td>\n",
       "    </tr>\n",
       "    <tr>\n",
       "      <th>2</th>\n",
       "      <td>cheese</td>\n",
       "      <td>3607</td>\n",
       "      <td>2016</td>\n",
       "    </tr>\n",
       "    <tr>\n",
       "      <th>3</th>\n",
       "      <td>cream</td>\n",
       "      <td>3391</td>\n",
       "      <td>1871</td>\n",
       "    </tr>\n",
       "    <tr>\n",
       "      <th>4</th>\n",
       "      <td>dairy</td>\n",
       "      <td>3462</td>\n",
       "      <td>2426</td>\n",
       "    </tr>\n",
       "    <tr>\n",
       "      <th>5</th>\n",
       "      <td>ice cream</td>\n",
       "      <td>682</td>\n",
       "      <td>463</td>\n",
       "    </tr>\n",
       "    <tr>\n",
       "      <th>6</th>\n",
       "      <td>milk</td>\n",
       "      <td>3085</td>\n",
       "      <td>1909</td>\n",
       "    </tr>\n",
       "    <tr>\n",
       "      <th>7</th>\n",
       "      <td>yoghurt</td>\n",
       "      <td>568</td>\n",
       "      <td>382</td>\n",
       "    </tr>\n",
       "  </tbody>\n",
       "</table>\n",
       "</div>"
      ],
      "text/plain": [
       "      keyword  negative_comments  positive_comments\n",
       "0      butter               4009               2480\n",
       "1  buttermilk                129                103\n",
       "2      cheese               3607               2016\n",
       "3       cream               3391               1871\n",
       "4       dairy               3462               2426\n",
       "5   ice cream                682                463\n",
       "6        milk               3085               1909\n",
       "7     yoghurt                568                382"
      ]
     },
     "execution_count": 66,
     "metadata": {},
     "output_type": "execute_result"
    }
   ],
   "source": [
    "keywords"
   ]
  },
  {
   "cell_type": "code",
   "execution_count": 67,
   "id": "f859c71d",
   "metadata": {},
   "outputs": [],
   "source": [
    "# Counting percentage of positive and negative comments \n",
    "\n",
    "keywords[\"negative_percentage\"] = keywords[\"negative_comments\"] / (keywords[\"negative_comments\"] + keywords[\"positive_comments\"]) * 100\n",
    "keywords[\"positive_percentage\"] = keywords[\"positive_comments\"] / (keywords[\"negative_comments\"] + keywords[\"positive_comments\"]) * 100\n"
   ]
  },
  {
   "cell_type": "code",
   "execution_count": 68,
   "id": "4ee43a81",
   "metadata": {},
   "outputs": [
    {
     "data": {
      "text/html": [
       "<div>\n",
       "<style scoped>\n",
       "    .dataframe tbody tr th:only-of-type {\n",
       "        vertical-align: middle;\n",
       "    }\n",
       "\n",
       "    .dataframe tbody tr th {\n",
       "        vertical-align: top;\n",
       "    }\n",
       "\n",
       "    .dataframe thead th {\n",
       "        text-align: right;\n",
       "    }\n",
       "</style>\n",
       "<table border=\"1\" class=\"dataframe\">\n",
       "  <thead>\n",
       "    <tr style=\"text-align: right;\">\n",
       "      <th></th>\n",
       "      <th>keyword</th>\n",
       "      <th>negative_comments</th>\n",
       "      <th>positive_comments</th>\n",
       "      <th>negative_percentage</th>\n",
       "      <th>positive_percentage</th>\n",
       "      <th>total_comments</th>\n",
       "    </tr>\n",
       "  </thead>\n",
       "  <tbody>\n",
       "    <tr>\n",
       "      <th>0</th>\n",
       "      <td>butter</td>\n",
       "      <td>4009</td>\n",
       "      <td>2480</td>\n",
       "      <td>61.781476</td>\n",
       "      <td>38.218524</td>\n",
       "      <td>6489</td>\n",
       "    </tr>\n",
       "    <tr>\n",
       "      <th>1</th>\n",
       "      <td>buttermilk</td>\n",
       "      <td>129</td>\n",
       "      <td>103</td>\n",
       "      <td>55.603448</td>\n",
       "      <td>44.396552</td>\n",
       "      <td>232</td>\n",
       "    </tr>\n",
       "    <tr>\n",
       "      <th>2</th>\n",
       "      <td>cheese</td>\n",
       "      <td>3607</td>\n",
       "      <td>2016</td>\n",
       "      <td>64.147252</td>\n",
       "      <td>35.852748</td>\n",
       "      <td>5623</td>\n",
       "    </tr>\n",
       "    <tr>\n",
       "      <th>3</th>\n",
       "      <td>cream</td>\n",
       "      <td>3391</td>\n",
       "      <td>1871</td>\n",
       "      <td>64.443177</td>\n",
       "      <td>35.556823</td>\n",
       "      <td>5262</td>\n",
       "    </tr>\n",
       "    <tr>\n",
       "      <th>4</th>\n",
       "      <td>dairy</td>\n",
       "      <td>3462</td>\n",
       "      <td>2426</td>\n",
       "      <td>58.797554</td>\n",
       "      <td>41.202446</td>\n",
       "      <td>5888</td>\n",
       "    </tr>\n",
       "    <tr>\n",
       "      <th>5</th>\n",
       "      <td>ice cream</td>\n",
       "      <td>682</td>\n",
       "      <td>463</td>\n",
       "      <td>59.563319</td>\n",
       "      <td>40.436681</td>\n",
       "      <td>1145</td>\n",
       "    </tr>\n",
       "    <tr>\n",
       "      <th>6</th>\n",
       "      <td>milk</td>\n",
       "      <td>3085</td>\n",
       "      <td>1909</td>\n",
       "      <td>61.774129</td>\n",
       "      <td>38.225871</td>\n",
       "      <td>4994</td>\n",
       "    </tr>\n",
       "    <tr>\n",
       "      <th>7</th>\n",
       "      <td>yoghurt</td>\n",
       "      <td>568</td>\n",
       "      <td>382</td>\n",
       "      <td>59.789474</td>\n",
       "      <td>40.210526</td>\n",
       "      <td>950</td>\n",
       "    </tr>\n",
       "  </tbody>\n",
       "</table>\n",
       "</div>"
      ],
      "text/plain": [
       "      keyword  negative_comments  positive_comments  negative_percentage  \\\n",
       "0      butter               4009               2480            61.781476   \n",
       "1  buttermilk                129                103            55.603448   \n",
       "2      cheese               3607               2016            64.147252   \n",
       "3       cream               3391               1871            64.443177   \n",
       "4       dairy               3462               2426            58.797554   \n",
       "5   ice cream                682                463            59.563319   \n",
       "6        milk               3085               1909            61.774129   \n",
       "7     yoghurt                568                382            59.789474   \n",
       "\n",
       "   positive_percentage  total_comments  \n",
       "0            38.218524            6489  \n",
       "1            44.396552             232  \n",
       "2            35.852748            5623  \n",
       "3            35.556823            5262  \n",
       "4            41.202446            5888  \n",
       "5            40.436681            1145  \n",
       "6            38.225871            4994  \n",
       "7            40.210526             950  "
      ]
     },
     "execution_count": 68,
     "metadata": {},
     "output_type": "execute_result"
    }
   ],
   "source": [
    "keywords[\"total_comments\"] = keywords[\"positive_comments\"] + keywords[\"negative_comments\"]\n",
    "keywords"
   ]
  },
  {
   "cell_type": "code",
   "execution_count": 69,
   "id": "5738970c",
   "metadata": {},
   "outputs": [],
   "source": [
    "# Sorting the table by positive comments %\n",
    "\n",
    "keywords.sort_values(\"positive_percentage\", ascending=False, inplace=True)\n",
    "\n",
    "# Resetting index and avoiding creation of a new column \n",
    "\n",
    "keywords.reset_index(drop=True, inplace=True)"
   ]
  },
  {
   "cell_type": "markdown",
   "id": "9157f319",
   "metadata": {},
   "source": [
    "**Ratio of positive comments for each keyword**"
   ]
  },
  {
   "cell_type": "code",
   "execution_count": 70,
   "id": "b4811a16",
   "metadata": {},
   "outputs": [
    {
     "data": {
      "text/html": [
       "<div>\n",
       "<style scoped>\n",
       "    .dataframe tbody tr th:only-of-type {\n",
       "        vertical-align: middle;\n",
       "    }\n",
       "\n",
       "    .dataframe tbody tr th {\n",
       "        vertical-align: top;\n",
       "    }\n",
       "\n",
       "    .dataframe thead th {\n",
       "        text-align: right;\n",
       "    }\n",
       "</style>\n",
       "<table border=\"1\" class=\"dataframe\">\n",
       "  <thead>\n",
       "    <tr style=\"text-align: right;\">\n",
       "      <th></th>\n",
       "      <th>keyword</th>\n",
       "      <th>negative_percentage</th>\n",
       "      <th>positive_percentage</th>\n",
       "    </tr>\n",
       "  </thead>\n",
       "  <tbody>\n",
       "    <tr>\n",
       "      <th>0</th>\n",
       "      <td>buttermilk</td>\n",
       "      <td>55.603448</td>\n",
       "      <td>44.396552</td>\n",
       "    </tr>\n",
       "    <tr>\n",
       "      <th>1</th>\n",
       "      <td>dairy</td>\n",
       "      <td>58.797554</td>\n",
       "      <td>41.202446</td>\n",
       "    </tr>\n",
       "    <tr>\n",
       "      <th>2</th>\n",
       "      <td>ice cream</td>\n",
       "      <td>59.563319</td>\n",
       "      <td>40.436681</td>\n",
       "    </tr>\n",
       "    <tr>\n",
       "      <th>3</th>\n",
       "      <td>yoghurt</td>\n",
       "      <td>59.789474</td>\n",
       "      <td>40.210526</td>\n",
       "    </tr>\n",
       "    <tr>\n",
       "      <th>4</th>\n",
       "      <td>milk</td>\n",
       "      <td>61.774129</td>\n",
       "      <td>38.225871</td>\n",
       "    </tr>\n",
       "    <tr>\n",
       "      <th>5</th>\n",
       "      <td>butter</td>\n",
       "      <td>61.781476</td>\n",
       "      <td>38.218524</td>\n",
       "    </tr>\n",
       "    <tr>\n",
       "      <th>6</th>\n",
       "      <td>cheese</td>\n",
       "      <td>64.147252</td>\n",
       "      <td>35.852748</td>\n",
       "    </tr>\n",
       "    <tr>\n",
       "      <th>7</th>\n",
       "      <td>cream</td>\n",
       "      <td>64.443177</td>\n",
       "      <td>35.556823</td>\n",
       "    </tr>\n",
       "  </tbody>\n",
       "</table>\n",
       "</div>"
      ],
      "text/plain": [
       "      keyword  negative_percentage  positive_percentage\n",
       "0  buttermilk            55.603448            44.396552\n",
       "1       dairy            58.797554            41.202446\n",
       "2   ice cream            59.563319            40.436681\n",
       "3     yoghurt            59.789474            40.210526\n",
       "4        milk            61.774129            38.225871\n",
       "5      butter            61.781476            38.218524\n",
       "6      cheese            64.147252            35.852748\n",
       "7       cream            64.443177            35.556823"
      ]
     },
     "execution_count": 70,
     "metadata": {},
     "output_type": "execute_result"
    }
   ],
   "source": [
    "# Displaying positive / negative percentage for report\n",
    "\n",
    "keywords[[\"keyword\", \"negative_percentage\", \"positive_percentage\"]]"
   ]
  },
  {
   "cell_type": "code",
   "execution_count": 75,
   "id": "74169646",
   "metadata": {},
   "outputs": [
    {
     "data": {
      "application/vnd.plotly.v1+json": {
       "config": {
        "plotlyServerURL": "https://plot.ly"
       },
       "data": [
        {
         "alignmentgroup": "True",
         "hovertemplate": "type of comments=positive_comments<br>keyword=%{x}<br>number of comments=%{y}<extra></extra>",
         "legendgroup": "positive_comments",
         "marker": {
          "color": "blue",
          "pattern": {
           "shape": ""
          }
         },
         "name": "positive_comments",
         "offsetgroup": "positive_comments",
         "orientation": "v",
         "showlegend": true,
         "textposition": "auto",
         "type": "bar",
         "x": [
          "butter",
          "dairy",
          "cheese",
          "cream",
          "milk",
          "ice cream",
          "yoghurt",
          "buttermilk"
         ],
         "xaxis": "x",
         "y": [
          2480,
          2426,
          2016,
          1871,
          1909,
          463,
          382,
          103
         ],
         "yaxis": "y"
        },
        {
         "alignmentgroup": "True",
         "hovertemplate": "type of comments=negative_comments<br>keyword=%{x}<br>number of comments=%{y}<extra></extra>",
         "legendgroup": "negative_comments",
         "marker": {
          "color": "#ff7f0e",
          "pattern": {
           "shape": ""
          }
         },
         "name": "negative_comments",
         "offsetgroup": "negative_comments",
         "orientation": "v",
         "showlegend": true,
         "textposition": "auto",
         "type": "bar",
         "x": [
          "butter",
          "dairy",
          "cheese",
          "cream",
          "milk",
          "ice cream",
          "yoghurt",
          "buttermilk"
         ],
         "xaxis": "x",
         "y": [
          4009,
          3462,
          3607,
          3391,
          3085,
          682,
          568,
          129
         ],
         "yaxis": "y"
        }
       ],
       "layout": {
        "barmode": "relative",
        "legend": {
         "title": {
          "text": "type of comments"
         },
         "tracegroupgap": 0
        },
        "template": {
         "data": {
          "bar": [
           {
            "error_x": {
             "color": "#2a3f5f"
            },
            "error_y": {
             "color": "#2a3f5f"
            },
            "marker": {
             "line": {
              "color": "#E5ECF6",
              "width": 0.5
             },
             "pattern": {
              "fillmode": "overlay",
              "size": 10,
              "solidity": 0.2
             }
            },
            "type": "bar"
           }
          ],
          "barpolar": [
           {
            "marker": {
             "line": {
              "color": "#E5ECF6",
              "width": 0.5
             },
             "pattern": {
              "fillmode": "overlay",
              "size": 10,
              "solidity": 0.2
             }
            },
            "type": "barpolar"
           }
          ],
          "carpet": [
           {
            "aaxis": {
             "endlinecolor": "#2a3f5f",
             "gridcolor": "white",
             "linecolor": "white",
             "minorgridcolor": "white",
             "startlinecolor": "#2a3f5f"
            },
            "baxis": {
             "endlinecolor": "#2a3f5f",
             "gridcolor": "white",
             "linecolor": "white",
             "minorgridcolor": "white",
             "startlinecolor": "#2a3f5f"
            },
            "type": "carpet"
           }
          ],
          "choropleth": [
           {
            "colorbar": {
             "outlinewidth": 0,
             "ticks": ""
            },
            "type": "choropleth"
           }
          ],
          "contour": [
           {
            "colorbar": {
             "outlinewidth": 0,
             "ticks": ""
            },
            "colorscale": [
             [
              0,
              "#0d0887"
             ],
             [
              0.1111111111111111,
              "#46039f"
             ],
             [
              0.2222222222222222,
              "#7201a8"
             ],
             [
              0.3333333333333333,
              "#9c179e"
             ],
             [
              0.4444444444444444,
              "#bd3786"
             ],
             [
              0.5555555555555556,
              "#d8576b"
             ],
             [
              0.6666666666666666,
              "#ed7953"
             ],
             [
              0.7777777777777778,
              "#fb9f3a"
             ],
             [
              0.8888888888888888,
              "#fdca26"
             ],
             [
              1,
              "#f0f921"
             ]
            ],
            "type": "contour"
           }
          ],
          "contourcarpet": [
           {
            "colorbar": {
             "outlinewidth": 0,
             "ticks": ""
            },
            "type": "contourcarpet"
           }
          ],
          "heatmap": [
           {
            "colorbar": {
             "outlinewidth": 0,
             "ticks": ""
            },
            "colorscale": [
             [
              0,
              "#0d0887"
             ],
             [
              0.1111111111111111,
              "#46039f"
             ],
             [
              0.2222222222222222,
              "#7201a8"
             ],
             [
              0.3333333333333333,
              "#9c179e"
             ],
             [
              0.4444444444444444,
              "#bd3786"
             ],
             [
              0.5555555555555556,
              "#d8576b"
             ],
             [
              0.6666666666666666,
              "#ed7953"
             ],
             [
              0.7777777777777778,
              "#fb9f3a"
             ],
             [
              0.8888888888888888,
              "#fdca26"
             ],
             [
              1,
              "#f0f921"
             ]
            ],
            "type": "heatmap"
           }
          ],
          "heatmapgl": [
           {
            "colorbar": {
             "outlinewidth": 0,
             "ticks": ""
            },
            "colorscale": [
             [
              0,
              "#0d0887"
             ],
             [
              0.1111111111111111,
              "#46039f"
             ],
             [
              0.2222222222222222,
              "#7201a8"
             ],
             [
              0.3333333333333333,
              "#9c179e"
             ],
             [
              0.4444444444444444,
              "#bd3786"
             ],
             [
              0.5555555555555556,
              "#d8576b"
             ],
             [
              0.6666666666666666,
              "#ed7953"
             ],
             [
              0.7777777777777778,
              "#fb9f3a"
             ],
             [
              0.8888888888888888,
              "#fdca26"
             ],
             [
              1,
              "#f0f921"
             ]
            ],
            "type": "heatmapgl"
           }
          ],
          "histogram": [
           {
            "marker": {
             "pattern": {
              "fillmode": "overlay",
              "size": 10,
              "solidity": 0.2
             }
            },
            "type": "histogram"
           }
          ],
          "histogram2d": [
           {
            "colorbar": {
             "outlinewidth": 0,
             "ticks": ""
            },
            "colorscale": [
             [
              0,
              "#0d0887"
             ],
             [
              0.1111111111111111,
              "#46039f"
             ],
             [
              0.2222222222222222,
              "#7201a8"
             ],
             [
              0.3333333333333333,
              "#9c179e"
             ],
             [
              0.4444444444444444,
              "#bd3786"
             ],
             [
              0.5555555555555556,
              "#d8576b"
             ],
             [
              0.6666666666666666,
              "#ed7953"
             ],
             [
              0.7777777777777778,
              "#fb9f3a"
             ],
             [
              0.8888888888888888,
              "#fdca26"
             ],
             [
              1,
              "#f0f921"
             ]
            ],
            "type": "histogram2d"
           }
          ],
          "histogram2dcontour": [
           {
            "colorbar": {
             "outlinewidth": 0,
             "ticks": ""
            },
            "colorscale": [
             [
              0,
              "#0d0887"
             ],
             [
              0.1111111111111111,
              "#46039f"
             ],
             [
              0.2222222222222222,
              "#7201a8"
             ],
             [
              0.3333333333333333,
              "#9c179e"
             ],
             [
              0.4444444444444444,
              "#bd3786"
             ],
             [
              0.5555555555555556,
              "#d8576b"
             ],
             [
              0.6666666666666666,
              "#ed7953"
             ],
             [
              0.7777777777777778,
              "#fb9f3a"
             ],
             [
              0.8888888888888888,
              "#fdca26"
             ],
             [
              1,
              "#f0f921"
             ]
            ],
            "type": "histogram2dcontour"
           }
          ],
          "mesh3d": [
           {
            "colorbar": {
             "outlinewidth": 0,
             "ticks": ""
            },
            "type": "mesh3d"
           }
          ],
          "parcoords": [
           {
            "line": {
             "colorbar": {
              "outlinewidth": 0,
              "ticks": ""
             }
            },
            "type": "parcoords"
           }
          ],
          "pie": [
           {
            "automargin": true,
            "type": "pie"
           }
          ],
          "scatter": [
           {
            "fillpattern": {
             "fillmode": "overlay",
             "size": 10,
             "solidity": 0.2
            },
            "type": "scatter"
           }
          ],
          "scatter3d": [
           {
            "line": {
             "colorbar": {
              "outlinewidth": 0,
              "ticks": ""
             }
            },
            "marker": {
             "colorbar": {
              "outlinewidth": 0,
              "ticks": ""
             }
            },
            "type": "scatter3d"
           }
          ],
          "scattercarpet": [
           {
            "marker": {
             "colorbar": {
              "outlinewidth": 0,
              "ticks": ""
             }
            },
            "type": "scattercarpet"
           }
          ],
          "scattergeo": [
           {
            "marker": {
             "colorbar": {
              "outlinewidth": 0,
              "ticks": ""
             }
            },
            "type": "scattergeo"
           }
          ],
          "scattergl": [
           {
            "marker": {
             "colorbar": {
              "outlinewidth": 0,
              "ticks": ""
             }
            },
            "type": "scattergl"
           }
          ],
          "scattermapbox": [
           {
            "marker": {
             "colorbar": {
              "outlinewidth": 0,
              "ticks": ""
             }
            },
            "type": "scattermapbox"
           }
          ],
          "scatterpolar": [
           {
            "marker": {
             "colorbar": {
              "outlinewidth": 0,
              "ticks": ""
             }
            },
            "type": "scatterpolar"
           }
          ],
          "scatterpolargl": [
           {
            "marker": {
             "colorbar": {
              "outlinewidth": 0,
              "ticks": ""
             }
            },
            "type": "scatterpolargl"
           }
          ],
          "scatterternary": [
           {
            "marker": {
             "colorbar": {
              "outlinewidth": 0,
              "ticks": ""
             }
            },
            "type": "scatterternary"
           }
          ],
          "surface": [
           {
            "colorbar": {
             "outlinewidth": 0,
             "ticks": ""
            },
            "colorscale": [
             [
              0,
              "#0d0887"
             ],
             [
              0.1111111111111111,
              "#46039f"
             ],
             [
              0.2222222222222222,
              "#7201a8"
             ],
             [
              0.3333333333333333,
              "#9c179e"
             ],
             [
              0.4444444444444444,
              "#bd3786"
             ],
             [
              0.5555555555555556,
              "#d8576b"
             ],
             [
              0.6666666666666666,
              "#ed7953"
             ],
             [
              0.7777777777777778,
              "#fb9f3a"
             ],
             [
              0.8888888888888888,
              "#fdca26"
             ],
             [
              1,
              "#f0f921"
             ]
            ],
            "type": "surface"
           }
          ],
          "table": [
           {
            "cells": {
             "fill": {
              "color": "#EBF0F8"
             },
             "line": {
              "color": "white"
             }
            },
            "header": {
             "fill": {
              "color": "#C8D4E3"
             },
             "line": {
              "color": "white"
             }
            },
            "type": "table"
           }
          ]
         },
         "layout": {
          "annotationdefaults": {
           "arrowcolor": "#2a3f5f",
           "arrowhead": 0,
           "arrowwidth": 1
          },
          "autotypenumbers": "strict",
          "coloraxis": {
           "colorbar": {
            "outlinewidth": 0,
            "ticks": ""
           }
          },
          "colorscale": {
           "diverging": [
            [
             0,
             "#8e0152"
            ],
            [
             0.1,
             "#c51b7d"
            ],
            [
             0.2,
             "#de77ae"
            ],
            [
             0.3,
             "#f1b6da"
            ],
            [
             0.4,
             "#fde0ef"
            ],
            [
             0.5,
             "#f7f7f7"
            ],
            [
             0.6,
             "#e6f5d0"
            ],
            [
             0.7,
             "#b8e186"
            ],
            [
             0.8,
             "#7fbc41"
            ],
            [
             0.9,
             "#4d9221"
            ],
            [
             1,
             "#276419"
            ]
           ],
           "sequential": [
            [
             0,
             "#0d0887"
            ],
            [
             0.1111111111111111,
             "#46039f"
            ],
            [
             0.2222222222222222,
             "#7201a8"
            ],
            [
             0.3333333333333333,
             "#9c179e"
            ],
            [
             0.4444444444444444,
             "#bd3786"
            ],
            [
             0.5555555555555556,
             "#d8576b"
            ],
            [
             0.6666666666666666,
             "#ed7953"
            ],
            [
             0.7777777777777778,
             "#fb9f3a"
            ],
            [
             0.8888888888888888,
             "#fdca26"
            ],
            [
             1,
             "#f0f921"
            ]
           ],
           "sequentialminus": [
            [
             0,
             "#0d0887"
            ],
            [
             0.1111111111111111,
             "#46039f"
            ],
            [
             0.2222222222222222,
             "#7201a8"
            ],
            [
             0.3333333333333333,
             "#9c179e"
            ],
            [
             0.4444444444444444,
             "#bd3786"
            ],
            [
             0.5555555555555556,
             "#d8576b"
            ],
            [
             0.6666666666666666,
             "#ed7953"
            ],
            [
             0.7777777777777778,
             "#fb9f3a"
            ],
            [
             0.8888888888888888,
             "#fdca26"
            ],
            [
             1,
             "#f0f921"
            ]
           ]
          },
          "colorway": [
           "#636efa",
           "#EF553B",
           "#00cc96",
           "#ab63fa",
           "#FFA15A",
           "#19d3f3",
           "#FF6692",
           "#B6E880",
           "#FF97FF",
           "#FECB52"
          ],
          "font": {
           "color": "#2a3f5f"
          },
          "geo": {
           "bgcolor": "white",
           "lakecolor": "white",
           "landcolor": "#E5ECF6",
           "showlakes": true,
           "showland": true,
           "subunitcolor": "white"
          },
          "hoverlabel": {
           "align": "left"
          },
          "hovermode": "closest",
          "mapbox": {
           "style": "light"
          },
          "paper_bgcolor": "white",
          "plot_bgcolor": "#E5ECF6",
          "polar": {
           "angularaxis": {
            "gridcolor": "white",
            "linecolor": "white",
            "ticks": ""
           },
           "bgcolor": "#E5ECF6",
           "radialaxis": {
            "gridcolor": "white",
            "linecolor": "white",
            "ticks": ""
           }
          },
          "scene": {
           "xaxis": {
            "backgroundcolor": "#E5ECF6",
            "gridcolor": "white",
            "gridwidth": 2,
            "linecolor": "white",
            "showbackground": true,
            "ticks": "",
            "zerolinecolor": "white"
           },
           "yaxis": {
            "backgroundcolor": "#E5ECF6",
            "gridcolor": "white",
            "gridwidth": 2,
            "linecolor": "white",
            "showbackground": true,
            "ticks": "",
            "zerolinecolor": "white"
           },
           "zaxis": {
            "backgroundcolor": "#E5ECF6",
            "gridcolor": "white",
            "gridwidth": 2,
            "linecolor": "white",
            "showbackground": true,
            "ticks": "",
            "zerolinecolor": "white"
           }
          },
          "shapedefaults": {
           "line": {
            "color": "#2a3f5f"
           }
          },
          "ternary": {
           "aaxis": {
            "gridcolor": "white",
            "linecolor": "white",
            "ticks": ""
           },
           "baxis": {
            "gridcolor": "white",
            "linecolor": "white",
            "ticks": ""
           },
           "bgcolor": "#E5ECF6",
           "caxis": {
            "gridcolor": "white",
            "linecolor": "white",
            "ticks": ""
           }
          },
          "title": {
           "x": 0.05
          },
          "xaxis": {
           "automargin": true,
           "gridcolor": "white",
           "linecolor": "white",
           "ticks": "",
           "title": {
            "standoff": 15
           },
           "zerolinecolor": "white",
           "zerolinewidth": 2
          },
          "yaxis": {
           "automargin": true,
           "gridcolor": "white",
           "linecolor": "white",
           "ticks": "",
           "title": {
            "standoff": 15
           },
           "zerolinecolor": "white",
           "zerolinewidth": 2
          }
         }
        },
        "title": {
         "text": "Number of positive and negative comments for dairy keywords"
        },
        "xaxis": {
         "anchor": "y",
         "domain": [
          0,
          1
         ],
         "title": {
          "text": "keyword"
         }
        },
        "yaxis": {
         "anchor": "x",
         "domain": [
          0,
          1
         ],
         "title": {
          "text": "number of comments"
         }
        }
       }
      },
      "text/html": [
       "<div>                            <div id=\"041ac3b8-37e8-4e44-b088-fbe8faaa78f7\" class=\"plotly-graph-div\" style=\"height:525px; width:100%;\"></div>            <script type=\"text/javascript\">                require([\"plotly\"], function(Plotly) {                    window.PLOTLYENV=window.PLOTLYENV || {};                                    if (document.getElementById(\"041ac3b8-37e8-4e44-b088-fbe8faaa78f7\")) {                    Plotly.newPlot(                        \"041ac3b8-37e8-4e44-b088-fbe8faaa78f7\",                        [{\"alignmentgroup\":\"True\",\"hovertemplate\":\"type of comments=positive_comments\\u003cbr\\u003ekeyword=%{x}\\u003cbr\\u003enumber of comments=%{y}\\u003cextra\\u003e\\u003c\\u002fextra\\u003e\",\"legendgroup\":\"positive_comments\",\"marker\":{\"color\":\"blue\",\"pattern\":{\"shape\":\"\"}},\"name\":\"positive_comments\",\"offsetgroup\":\"positive_comments\",\"orientation\":\"v\",\"showlegend\":true,\"textposition\":\"auto\",\"x\":[\"butter\",\"dairy\",\"cheese\",\"cream\",\"milk\",\"ice cream\",\"yoghurt\",\"buttermilk\"],\"xaxis\":\"x\",\"y\":[2480,2426,2016,1871,1909,463,382,103],\"yaxis\":\"y\",\"type\":\"bar\"},{\"alignmentgroup\":\"True\",\"hovertemplate\":\"type of comments=negative_comments\\u003cbr\\u003ekeyword=%{x}\\u003cbr\\u003enumber of comments=%{y}\\u003cextra\\u003e\\u003c\\u002fextra\\u003e\",\"legendgroup\":\"negative_comments\",\"marker\":{\"color\":\"#ff7f0e\",\"pattern\":{\"shape\":\"\"}},\"name\":\"negative_comments\",\"offsetgroup\":\"negative_comments\",\"orientation\":\"v\",\"showlegend\":true,\"textposition\":\"auto\",\"x\":[\"butter\",\"dairy\",\"cheese\",\"cream\",\"milk\",\"ice cream\",\"yoghurt\",\"buttermilk\"],\"xaxis\":\"x\",\"y\":[4009,3462,3607,3391,3085,682,568,129],\"yaxis\":\"y\",\"type\":\"bar\"}],                        {\"template\":{\"data\":{\"histogram2dcontour\":[{\"type\":\"histogram2dcontour\",\"colorbar\":{\"outlinewidth\":0,\"ticks\":\"\"},\"colorscale\":[[0.0,\"#0d0887\"],[0.1111111111111111,\"#46039f\"],[0.2222222222222222,\"#7201a8\"],[0.3333333333333333,\"#9c179e\"],[0.4444444444444444,\"#bd3786\"],[0.5555555555555556,\"#d8576b\"],[0.6666666666666666,\"#ed7953\"],[0.7777777777777778,\"#fb9f3a\"],[0.8888888888888888,\"#fdca26\"],[1.0,\"#f0f921\"]]}],\"choropleth\":[{\"type\":\"choropleth\",\"colorbar\":{\"outlinewidth\":0,\"ticks\":\"\"}}],\"histogram2d\":[{\"type\":\"histogram2d\",\"colorbar\":{\"outlinewidth\":0,\"ticks\":\"\"},\"colorscale\":[[0.0,\"#0d0887\"],[0.1111111111111111,\"#46039f\"],[0.2222222222222222,\"#7201a8\"],[0.3333333333333333,\"#9c179e\"],[0.4444444444444444,\"#bd3786\"],[0.5555555555555556,\"#d8576b\"],[0.6666666666666666,\"#ed7953\"],[0.7777777777777778,\"#fb9f3a\"],[0.8888888888888888,\"#fdca26\"],[1.0,\"#f0f921\"]]}],\"heatmap\":[{\"type\":\"heatmap\",\"colorbar\":{\"outlinewidth\":0,\"ticks\":\"\"},\"colorscale\":[[0.0,\"#0d0887\"],[0.1111111111111111,\"#46039f\"],[0.2222222222222222,\"#7201a8\"],[0.3333333333333333,\"#9c179e\"],[0.4444444444444444,\"#bd3786\"],[0.5555555555555556,\"#d8576b\"],[0.6666666666666666,\"#ed7953\"],[0.7777777777777778,\"#fb9f3a\"],[0.8888888888888888,\"#fdca26\"],[1.0,\"#f0f921\"]]}],\"heatmapgl\":[{\"type\":\"heatmapgl\",\"colorbar\":{\"outlinewidth\":0,\"ticks\":\"\"},\"colorscale\":[[0.0,\"#0d0887\"],[0.1111111111111111,\"#46039f\"],[0.2222222222222222,\"#7201a8\"],[0.3333333333333333,\"#9c179e\"],[0.4444444444444444,\"#bd3786\"],[0.5555555555555556,\"#d8576b\"],[0.6666666666666666,\"#ed7953\"],[0.7777777777777778,\"#fb9f3a\"],[0.8888888888888888,\"#fdca26\"],[1.0,\"#f0f921\"]]}],\"contourcarpet\":[{\"type\":\"contourcarpet\",\"colorbar\":{\"outlinewidth\":0,\"ticks\":\"\"}}],\"contour\":[{\"type\":\"contour\",\"colorbar\":{\"outlinewidth\":0,\"ticks\":\"\"},\"colorscale\":[[0.0,\"#0d0887\"],[0.1111111111111111,\"#46039f\"],[0.2222222222222222,\"#7201a8\"],[0.3333333333333333,\"#9c179e\"],[0.4444444444444444,\"#bd3786\"],[0.5555555555555556,\"#d8576b\"],[0.6666666666666666,\"#ed7953\"],[0.7777777777777778,\"#fb9f3a\"],[0.8888888888888888,\"#fdca26\"],[1.0,\"#f0f921\"]]}],\"surface\":[{\"type\":\"surface\",\"colorbar\":{\"outlinewidth\":0,\"ticks\":\"\"},\"colorscale\":[[0.0,\"#0d0887\"],[0.1111111111111111,\"#46039f\"],[0.2222222222222222,\"#7201a8\"],[0.3333333333333333,\"#9c179e\"],[0.4444444444444444,\"#bd3786\"],[0.5555555555555556,\"#d8576b\"],[0.6666666666666666,\"#ed7953\"],[0.7777777777777778,\"#fb9f3a\"],[0.8888888888888888,\"#fdca26\"],[1.0,\"#f0f921\"]]}],\"mesh3d\":[{\"type\":\"mesh3d\",\"colorbar\":{\"outlinewidth\":0,\"ticks\":\"\"}}],\"scatter\":[{\"fillpattern\":{\"fillmode\":\"overlay\",\"size\":10,\"solidity\":0.2},\"type\":\"scatter\"}],\"parcoords\":[{\"type\":\"parcoords\",\"line\":{\"colorbar\":{\"outlinewidth\":0,\"ticks\":\"\"}}}],\"scatterpolargl\":[{\"type\":\"scatterpolargl\",\"marker\":{\"colorbar\":{\"outlinewidth\":0,\"ticks\":\"\"}}}],\"bar\":[{\"error_x\":{\"color\":\"#2a3f5f\"},\"error_y\":{\"color\":\"#2a3f5f\"},\"marker\":{\"line\":{\"color\":\"#E5ECF6\",\"width\":0.5},\"pattern\":{\"fillmode\":\"overlay\",\"size\":10,\"solidity\":0.2}},\"type\":\"bar\"}],\"scattergeo\":[{\"type\":\"scattergeo\",\"marker\":{\"colorbar\":{\"outlinewidth\":0,\"ticks\":\"\"}}}],\"scatterpolar\":[{\"type\":\"scatterpolar\",\"marker\":{\"colorbar\":{\"outlinewidth\":0,\"ticks\":\"\"}}}],\"histogram\":[{\"marker\":{\"pattern\":{\"fillmode\":\"overlay\",\"size\":10,\"solidity\":0.2}},\"type\":\"histogram\"}],\"scattergl\":[{\"type\":\"scattergl\",\"marker\":{\"colorbar\":{\"outlinewidth\":0,\"ticks\":\"\"}}}],\"scatter3d\":[{\"type\":\"scatter3d\",\"line\":{\"colorbar\":{\"outlinewidth\":0,\"ticks\":\"\"}},\"marker\":{\"colorbar\":{\"outlinewidth\":0,\"ticks\":\"\"}}}],\"scattermapbox\":[{\"type\":\"scattermapbox\",\"marker\":{\"colorbar\":{\"outlinewidth\":0,\"ticks\":\"\"}}}],\"scatterternary\":[{\"type\":\"scatterternary\",\"marker\":{\"colorbar\":{\"outlinewidth\":0,\"ticks\":\"\"}}}],\"scattercarpet\":[{\"type\":\"scattercarpet\",\"marker\":{\"colorbar\":{\"outlinewidth\":0,\"ticks\":\"\"}}}],\"carpet\":[{\"aaxis\":{\"endlinecolor\":\"#2a3f5f\",\"gridcolor\":\"white\",\"linecolor\":\"white\",\"minorgridcolor\":\"white\",\"startlinecolor\":\"#2a3f5f\"},\"baxis\":{\"endlinecolor\":\"#2a3f5f\",\"gridcolor\":\"white\",\"linecolor\":\"white\",\"minorgridcolor\":\"white\",\"startlinecolor\":\"#2a3f5f\"},\"type\":\"carpet\"}],\"table\":[{\"cells\":{\"fill\":{\"color\":\"#EBF0F8\"},\"line\":{\"color\":\"white\"}},\"header\":{\"fill\":{\"color\":\"#C8D4E3\"},\"line\":{\"color\":\"white\"}},\"type\":\"table\"}],\"barpolar\":[{\"marker\":{\"line\":{\"color\":\"#E5ECF6\",\"width\":0.5},\"pattern\":{\"fillmode\":\"overlay\",\"size\":10,\"solidity\":0.2}},\"type\":\"barpolar\"}],\"pie\":[{\"automargin\":true,\"type\":\"pie\"}]},\"layout\":{\"autotypenumbers\":\"strict\",\"colorway\":[\"#636efa\",\"#EF553B\",\"#00cc96\",\"#ab63fa\",\"#FFA15A\",\"#19d3f3\",\"#FF6692\",\"#B6E880\",\"#FF97FF\",\"#FECB52\"],\"font\":{\"color\":\"#2a3f5f\"},\"hovermode\":\"closest\",\"hoverlabel\":{\"align\":\"left\"},\"paper_bgcolor\":\"white\",\"plot_bgcolor\":\"#E5ECF6\",\"polar\":{\"bgcolor\":\"#E5ECF6\",\"angularaxis\":{\"gridcolor\":\"white\",\"linecolor\":\"white\",\"ticks\":\"\"},\"radialaxis\":{\"gridcolor\":\"white\",\"linecolor\":\"white\",\"ticks\":\"\"}},\"ternary\":{\"bgcolor\":\"#E5ECF6\",\"aaxis\":{\"gridcolor\":\"white\",\"linecolor\":\"white\",\"ticks\":\"\"},\"baxis\":{\"gridcolor\":\"white\",\"linecolor\":\"white\",\"ticks\":\"\"},\"caxis\":{\"gridcolor\":\"white\",\"linecolor\":\"white\",\"ticks\":\"\"}},\"coloraxis\":{\"colorbar\":{\"outlinewidth\":0,\"ticks\":\"\"}},\"colorscale\":{\"sequential\":[[0.0,\"#0d0887\"],[0.1111111111111111,\"#46039f\"],[0.2222222222222222,\"#7201a8\"],[0.3333333333333333,\"#9c179e\"],[0.4444444444444444,\"#bd3786\"],[0.5555555555555556,\"#d8576b\"],[0.6666666666666666,\"#ed7953\"],[0.7777777777777778,\"#fb9f3a\"],[0.8888888888888888,\"#fdca26\"],[1.0,\"#f0f921\"]],\"sequentialminus\":[[0.0,\"#0d0887\"],[0.1111111111111111,\"#46039f\"],[0.2222222222222222,\"#7201a8\"],[0.3333333333333333,\"#9c179e\"],[0.4444444444444444,\"#bd3786\"],[0.5555555555555556,\"#d8576b\"],[0.6666666666666666,\"#ed7953\"],[0.7777777777777778,\"#fb9f3a\"],[0.8888888888888888,\"#fdca26\"],[1.0,\"#f0f921\"]],\"diverging\":[[0,\"#8e0152\"],[0.1,\"#c51b7d\"],[0.2,\"#de77ae\"],[0.3,\"#f1b6da\"],[0.4,\"#fde0ef\"],[0.5,\"#f7f7f7\"],[0.6,\"#e6f5d0\"],[0.7,\"#b8e186\"],[0.8,\"#7fbc41\"],[0.9,\"#4d9221\"],[1,\"#276419\"]]},\"xaxis\":{\"gridcolor\":\"white\",\"linecolor\":\"white\",\"ticks\":\"\",\"title\":{\"standoff\":15},\"zerolinecolor\":\"white\",\"automargin\":true,\"zerolinewidth\":2},\"yaxis\":{\"gridcolor\":\"white\",\"linecolor\":\"white\",\"ticks\":\"\",\"title\":{\"standoff\":15},\"zerolinecolor\":\"white\",\"automargin\":true,\"zerolinewidth\":2},\"scene\":{\"xaxis\":{\"backgroundcolor\":\"#E5ECF6\",\"gridcolor\":\"white\",\"linecolor\":\"white\",\"showbackground\":true,\"ticks\":\"\",\"zerolinecolor\":\"white\",\"gridwidth\":2},\"yaxis\":{\"backgroundcolor\":\"#E5ECF6\",\"gridcolor\":\"white\",\"linecolor\":\"white\",\"showbackground\":true,\"ticks\":\"\",\"zerolinecolor\":\"white\",\"gridwidth\":2},\"zaxis\":{\"backgroundcolor\":\"#E5ECF6\",\"gridcolor\":\"white\",\"linecolor\":\"white\",\"showbackground\":true,\"ticks\":\"\",\"zerolinecolor\":\"white\",\"gridwidth\":2}},\"shapedefaults\":{\"line\":{\"color\":\"#2a3f5f\"}},\"annotationdefaults\":{\"arrowcolor\":\"#2a3f5f\",\"arrowhead\":0,\"arrowwidth\":1},\"geo\":{\"bgcolor\":\"white\",\"landcolor\":\"#E5ECF6\",\"subunitcolor\":\"white\",\"showland\":true,\"showlakes\":true,\"lakecolor\":\"white\"},\"title\":{\"x\":0.05},\"mapbox\":{\"style\":\"light\"}}},\"xaxis\":{\"anchor\":\"y\",\"domain\":[0.0,1.0],\"title\":{\"text\":\"keyword\"}},\"yaxis\":{\"anchor\":\"x\",\"domain\":[0.0,1.0],\"title\":{\"text\":\"number of comments\"}},\"legend\":{\"title\":{\"text\":\"type of comments\"},\"tracegroupgap\":0},\"title\":{\"text\":\"Number of positive and negative comments for dairy keywords\"},\"barmode\":\"relative\"},                        {\"responsive\": true}                    ).then(function(){\n",
       "                            \n",
       "var gd = document.getElementById('041ac3b8-37e8-4e44-b088-fbe8faaa78f7');\n",
       "var x = new MutationObserver(function (mutations, observer) {{\n",
       "        var display = window.getComputedStyle(gd).display;\n",
       "        if (!display || display === 'none') {{\n",
       "            console.log([gd, 'removed!']);\n",
       "            Plotly.purge(gd);\n",
       "            observer.disconnect();\n",
       "        }}\n",
       "}});\n",
       "\n",
       "// Listen for the removal of the full notebook cells\n",
       "var notebookContainer = gd.closest('#notebook-container');\n",
       "if (notebookContainer) {{\n",
       "    x.observe(notebookContainer, {childList: true});\n",
       "}}\n",
       "\n",
       "// Listen for the clearing of the current output cell\n",
       "var outputEl = gd.closest('.output');\n",
       "if (outputEl) {{\n",
       "    x.observe(outputEl, {childList: true});\n",
       "}}\n",
       "\n",
       "                        })                };                });            </script>        </div>"
      ]
     },
     "metadata": {},
     "output_type": "display_data"
    }
   ],
   "source": [
    "# Creating interactive plot of the dataset to gain some insights\n",
    "\n",
    "keywords.sort_values(\"total_comments\", ascending=False, inplace=True)\n",
    "\n",
    "\n",
    "fig = px.bar(keywords, \n",
    "             x=\"keyword\", \n",
    "             y=[\"positive_comments\", \"negative_comments\"], \n",
    "             labels={\"value\":\"number of comments\", \"variable\": \"type of comments\"},\n",
    "                        \n",
    "             color_discrete_map={\n",
    "                'positive_comments': 'blue',\n",
    "                'negative_comments': '#ff7f0e'},\n",
    "             title=\"Number of positive and negative comments for dairy keywords\"\n",
    "            )\n",
    "fig.show()\n"
   ]
  },
  {
   "cell_type": "code",
   "execution_count": 73,
   "id": "c42cb2ce",
   "metadata": {},
   "outputs": [
    {
     "data": {
      "application/vnd.plotly.v1+json": {
       "config": {
        "plotlyServerURL": "https://plot.ly"
       },
       "data": [
        {
         "alignmentgroup": "True",
         "hovertemplate": "keyword=%{x}<br>total_comments=%{y}<extra></extra>",
         "legendgroup": "",
         "marker": {
          "color": "#636efa",
          "pattern": {
           "shape": ""
          }
         },
         "name": "",
         "offsetgroup": "",
         "orientation": "v",
         "showlegend": false,
         "textposition": "auto",
         "texttemplate": "%{y}",
         "type": "bar",
         "x": [
          "butter",
          "dairy",
          "cheese",
          "cream",
          "milk",
          "ice cream",
          "yoghurt",
          "buttermilk"
         ],
         "xaxis": "x",
         "y": [
          6489,
          5888,
          5623,
          5262,
          4994,
          1145,
          950,
          232
         ],
         "yaxis": "y"
        }
       ],
       "layout": {
        "barmode": "relative",
        "legend": {
         "tracegroupgap": 0
        },
        "template": {
         "data": {
          "bar": [
           {
            "error_x": {
             "color": "#2a3f5f"
            },
            "error_y": {
             "color": "#2a3f5f"
            },
            "marker": {
             "line": {
              "color": "#E5ECF6",
              "width": 0.5
             },
             "pattern": {
              "fillmode": "overlay",
              "size": 10,
              "solidity": 0.2
             }
            },
            "type": "bar"
           }
          ],
          "barpolar": [
           {
            "marker": {
             "line": {
              "color": "#E5ECF6",
              "width": 0.5
             },
             "pattern": {
              "fillmode": "overlay",
              "size": 10,
              "solidity": 0.2
             }
            },
            "type": "barpolar"
           }
          ],
          "carpet": [
           {
            "aaxis": {
             "endlinecolor": "#2a3f5f",
             "gridcolor": "white",
             "linecolor": "white",
             "minorgridcolor": "white",
             "startlinecolor": "#2a3f5f"
            },
            "baxis": {
             "endlinecolor": "#2a3f5f",
             "gridcolor": "white",
             "linecolor": "white",
             "minorgridcolor": "white",
             "startlinecolor": "#2a3f5f"
            },
            "type": "carpet"
           }
          ],
          "choropleth": [
           {
            "colorbar": {
             "outlinewidth": 0,
             "ticks": ""
            },
            "type": "choropleth"
           }
          ],
          "contour": [
           {
            "colorbar": {
             "outlinewidth": 0,
             "ticks": ""
            },
            "colorscale": [
             [
              0,
              "#0d0887"
             ],
             [
              0.1111111111111111,
              "#46039f"
             ],
             [
              0.2222222222222222,
              "#7201a8"
             ],
             [
              0.3333333333333333,
              "#9c179e"
             ],
             [
              0.4444444444444444,
              "#bd3786"
             ],
             [
              0.5555555555555556,
              "#d8576b"
             ],
             [
              0.6666666666666666,
              "#ed7953"
             ],
             [
              0.7777777777777778,
              "#fb9f3a"
             ],
             [
              0.8888888888888888,
              "#fdca26"
             ],
             [
              1,
              "#f0f921"
             ]
            ],
            "type": "contour"
           }
          ],
          "contourcarpet": [
           {
            "colorbar": {
             "outlinewidth": 0,
             "ticks": ""
            },
            "type": "contourcarpet"
           }
          ],
          "heatmap": [
           {
            "colorbar": {
             "outlinewidth": 0,
             "ticks": ""
            },
            "colorscale": [
             [
              0,
              "#0d0887"
             ],
             [
              0.1111111111111111,
              "#46039f"
             ],
             [
              0.2222222222222222,
              "#7201a8"
             ],
             [
              0.3333333333333333,
              "#9c179e"
             ],
             [
              0.4444444444444444,
              "#bd3786"
             ],
             [
              0.5555555555555556,
              "#d8576b"
             ],
             [
              0.6666666666666666,
              "#ed7953"
             ],
             [
              0.7777777777777778,
              "#fb9f3a"
             ],
             [
              0.8888888888888888,
              "#fdca26"
             ],
             [
              1,
              "#f0f921"
             ]
            ],
            "type": "heatmap"
           }
          ],
          "heatmapgl": [
           {
            "colorbar": {
             "outlinewidth": 0,
             "ticks": ""
            },
            "colorscale": [
             [
              0,
              "#0d0887"
             ],
             [
              0.1111111111111111,
              "#46039f"
             ],
             [
              0.2222222222222222,
              "#7201a8"
             ],
             [
              0.3333333333333333,
              "#9c179e"
             ],
             [
              0.4444444444444444,
              "#bd3786"
             ],
             [
              0.5555555555555556,
              "#d8576b"
             ],
             [
              0.6666666666666666,
              "#ed7953"
             ],
             [
              0.7777777777777778,
              "#fb9f3a"
             ],
             [
              0.8888888888888888,
              "#fdca26"
             ],
             [
              1,
              "#f0f921"
             ]
            ],
            "type": "heatmapgl"
           }
          ],
          "histogram": [
           {
            "marker": {
             "pattern": {
              "fillmode": "overlay",
              "size": 10,
              "solidity": 0.2
             }
            },
            "type": "histogram"
           }
          ],
          "histogram2d": [
           {
            "colorbar": {
             "outlinewidth": 0,
             "ticks": ""
            },
            "colorscale": [
             [
              0,
              "#0d0887"
             ],
             [
              0.1111111111111111,
              "#46039f"
             ],
             [
              0.2222222222222222,
              "#7201a8"
             ],
             [
              0.3333333333333333,
              "#9c179e"
             ],
             [
              0.4444444444444444,
              "#bd3786"
             ],
             [
              0.5555555555555556,
              "#d8576b"
             ],
             [
              0.6666666666666666,
              "#ed7953"
             ],
             [
              0.7777777777777778,
              "#fb9f3a"
             ],
             [
              0.8888888888888888,
              "#fdca26"
             ],
             [
              1,
              "#f0f921"
             ]
            ],
            "type": "histogram2d"
           }
          ],
          "histogram2dcontour": [
           {
            "colorbar": {
             "outlinewidth": 0,
             "ticks": ""
            },
            "colorscale": [
             [
              0,
              "#0d0887"
             ],
             [
              0.1111111111111111,
              "#46039f"
             ],
             [
              0.2222222222222222,
              "#7201a8"
             ],
             [
              0.3333333333333333,
              "#9c179e"
             ],
             [
              0.4444444444444444,
              "#bd3786"
             ],
             [
              0.5555555555555556,
              "#d8576b"
             ],
             [
              0.6666666666666666,
              "#ed7953"
             ],
             [
              0.7777777777777778,
              "#fb9f3a"
             ],
             [
              0.8888888888888888,
              "#fdca26"
             ],
             [
              1,
              "#f0f921"
             ]
            ],
            "type": "histogram2dcontour"
           }
          ],
          "mesh3d": [
           {
            "colorbar": {
             "outlinewidth": 0,
             "ticks": ""
            },
            "type": "mesh3d"
           }
          ],
          "parcoords": [
           {
            "line": {
             "colorbar": {
              "outlinewidth": 0,
              "ticks": ""
             }
            },
            "type": "parcoords"
           }
          ],
          "pie": [
           {
            "automargin": true,
            "type": "pie"
           }
          ],
          "scatter": [
           {
            "fillpattern": {
             "fillmode": "overlay",
             "size": 10,
             "solidity": 0.2
            },
            "type": "scatter"
           }
          ],
          "scatter3d": [
           {
            "line": {
             "colorbar": {
              "outlinewidth": 0,
              "ticks": ""
             }
            },
            "marker": {
             "colorbar": {
              "outlinewidth": 0,
              "ticks": ""
             }
            },
            "type": "scatter3d"
           }
          ],
          "scattercarpet": [
           {
            "marker": {
             "colorbar": {
              "outlinewidth": 0,
              "ticks": ""
             }
            },
            "type": "scattercarpet"
           }
          ],
          "scattergeo": [
           {
            "marker": {
             "colorbar": {
              "outlinewidth": 0,
              "ticks": ""
             }
            },
            "type": "scattergeo"
           }
          ],
          "scattergl": [
           {
            "marker": {
             "colorbar": {
              "outlinewidth": 0,
              "ticks": ""
             }
            },
            "type": "scattergl"
           }
          ],
          "scattermapbox": [
           {
            "marker": {
             "colorbar": {
              "outlinewidth": 0,
              "ticks": ""
             }
            },
            "type": "scattermapbox"
           }
          ],
          "scatterpolar": [
           {
            "marker": {
             "colorbar": {
              "outlinewidth": 0,
              "ticks": ""
             }
            },
            "type": "scatterpolar"
           }
          ],
          "scatterpolargl": [
           {
            "marker": {
             "colorbar": {
              "outlinewidth": 0,
              "ticks": ""
             }
            },
            "type": "scatterpolargl"
           }
          ],
          "scatterternary": [
           {
            "marker": {
             "colorbar": {
              "outlinewidth": 0,
              "ticks": ""
             }
            },
            "type": "scatterternary"
           }
          ],
          "surface": [
           {
            "colorbar": {
             "outlinewidth": 0,
             "ticks": ""
            },
            "colorscale": [
             [
              0,
              "#0d0887"
             ],
             [
              0.1111111111111111,
              "#46039f"
             ],
             [
              0.2222222222222222,
              "#7201a8"
             ],
             [
              0.3333333333333333,
              "#9c179e"
             ],
             [
              0.4444444444444444,
              "#bd3786"
             ],
             [
              0.5555555555555556,
              "#d8576b"
             ],
             [
              0.6666666666666666,
              "#ed7953"
             ],
             [
              0.7777777777777778,
              "#fb9f3a"
             ],
             [
              0.8888888888888888,
              "#fdca26"
             ],
             [
              1,
              "#f0f921"
             ]
            ],
            "type": "surface"
           }
          ],
          "table": [
           {
            "cells": {
             "fill": {
              "color": "#EBF0F8"
             },
             "line": {
              "color": "white"
             }
            },
            "header": {
             "fill": {
              "color": "#C8D4E3"
             },
             "line": {
              "color": "white"
             }
            },
            "type": "table"
           }
          ]
         },
         "layout": {
          "annotationdefaults": {
           "arrowcolor": "#2a3f5f",
           "arrowhead": 0,
           "arrowwidth": 1
          },
          "autotypenumbers": "strict",
          "coloraxis": {
           "colorbar": {
            "outlinewidth": 0,
            "ticks": ""
           }
          },
          "colorscale": {
           "diverging": [
            [
             0,
             "#8e0152"
            ],
            [
             0.1,
             "#c51b7d"
            ],
            [
             0.2,
             "#de77ae"
            ],
            [
             0.3,
             "#f1b6da"
            ],
            [
             0.4,
             "#fde0ef"
            ],
            [
             0.5,
             "#f7f7f7"
            ],
            [
             0.6,
             "#e6f5d0"
            ],
            [
             0.7,
             "#b8e186"
            ],
            [
             0.8,
             "#7fbc41"
            ],
            [
             0.9,
             "#4d9221"
            ],
            [
             1,
             "#276419"
            ]
           ],
           "sequential": [
            [
             0,
             "#0d0887"
            ],
            [
             0.1111111111111111,
             "#46039f"
            ],
            [
             0.2222222222222222,
             "#7201a8"
            ],
            [
             0.3333333333333333,
             "#9c179e"
            ],
            [
             0.4444444444444444,
             "#bd3786"
            ],
            [
             0.5555555555555556,
             "#d8576b"
            ],
            [
             0.6666666666666666,
             "#ed7953"
            ],
            [
             0.7777777777777778,
             "#fb9f3a"
            ],
            [
             0.8888888888888888,
             "#fdca26"
            ],
            [
             1,
             "#f0f921"
            ]
           ],
           "sequentialminus": [
            [
             0,
             "#0d0887"
            ],
            [
             0.1111111111111111,
             "#46039f"
            ],
            [
             0.2222222222222222,
             "#7201a8"
            ],
            [
             0.3333333333333333,
             "#9c179e"
            ],
            [
             0.4444444444444444,
             "#bd3786"
            ],
            [
             0.5555555555555556,
             "#d8576b"
            ],
            [
             0.6666666666666666,
             "#ed7953"
            ],
            [
             0.7777777777777778,
             "#fb9f3a"
            ],
            [
             0.8888888888888888,
             "#fdca26"
            ],
            [
             1,
             "#f0f921"
            ]
           ]
          },
          "colorway": [
           "#636efa",
           "#EF553B",
           "#00cc96",
           "#ab63fa",
           "#FFA15A",
           "#19d3f3",
           "#FF6692",
           "#B6E880",
           "#FF97FF",
           "#FECB52"
          ],
          "font": {
           "color": "#2a3f5f"
          },
          "geo": {
           "bgcolor": "white",
           "lakecolor": "white",
           "landcolor": "#E5ECF6",
           "showlakes": true,
           "showland": true,
           "subunitcolor": "white"
          },
          "hoverlabel": {
           "align": "left"
          },
          "hovermode": "closest",
          "mapbox": {
           "style": "light"
          },
          "paper_bgcolor": "white",
          "plot_bgcolor": "#E5ECF6",
          "polar": {
           "angularaxis": {
            "gridcolor": "white",
            "linecolor": "white",
            "ticks": ""
           },
           "bgcolor": "#E5ECF6",
           "radialaxis": {
            "gridcolor": "white",
            "linecolor": "white",
            "ticks": ""
           }
          },
          "scene": {
           "xaxis": {
            "backgroundcolor": "#E5ECF6",
            "gridcolor": "white",
            "gridwidth": 2,
            "linecolor": "white",
            "showbackground": true,
            "ticks": "",
            "zerolinecolor": "white"
           },
           "yaxis": {
            "backgroundcolor": "#E5ECF6",
            "gridcolor": "white",
            "gridwidth": 2,
            "linecolor": "white",
            "showbackground": true,
            "ticks": "",
            "zerolinecolor": "white"
           },
           "zaxis": {
            "backgroundcolor": "#E5ECF6",
            "gridcolor": "white",
            "gridwidth": 2,
            "linecolor": "white",
            "showbackground": true,
            "ticks": "",
            "zerolinecolor": "white"
           }
          },
          "shapedefaults": {
           "line": {
            "color": "#2a3f5f"
           }
          },
          "ternary": {
           "aaxis": {
            "gridcolor": "white",
            "linecolor": "white",
            "ticks": ""
           },
           "baxis": {
            "gridcolor": "white",
            "linecolor": "white",
            "ticks": ""
           },
           "bgcolor": "#E5ECF6",
           "caxis": {
            "gridcolor": "white",
            "linecolor": "white",
            "ticks": ""
           }
          },
          "title": {
           "x": 0.05
          },
          "xaxis": {
           "automargin": true,
           "gridcolor": "white",
           "linecolor": "white",
           "ticks": "",
           "title": {
            "standoff": 15
           },
           "zerolinecolor": "white",
           "zerolinewidth": 2
          },
          "yaxis": {
           "automargin": true,
           "gridcolor": "white",
           "linecolor": "white",
           "ticks": "",
           "title": {
            "standoff": 15
           },
           "zerolinecolor": "white",
           "zerolinewidth": 2
          }
         }
        },
        "title": {
         "text": "Top discussed dairy keywords based"
        },
        "xaxis": {
         "anchor": "y",
         "domain": [
          0,
          1
         ],
         "title": {
          "text": "keyword"
         }
        },
        "yaxis": {
         "anchor": "x",
         "domain": [
          0,
          1
         ],
         "title": {
          "text": "total_comments"
         }
        }
       }
      },
      "text/html": [
       "<div>                            <div id=\"ab04ebb1-e469-431b-a64c-e43abfec1f22\" class=\"plotly-graph-div\" style=\"height:525px; width:100%;\"></div>            <script type=\"text/javascript\">                require([\"plotly\"], function(Plotly) {                    window.PLOTLYENV=window.PLOTLYENV || {};                                    if (document.getElementById(\"ab04ebb1-e469-431b-a64c-e43abfec1f22\")) {                    Plotly.newPlot(                        \"ab04ebb1-e469-431b-a64c-e43abfec1f22\",                        [{\"alignmentgroup\":\"True\",\"hovertemplate\":\"keyword=%{x}\\u003cbr\\u003etotal_comments=%{y}\\u003cextra\\u003e\\u003c\\u002fextra\\u003e\",\"legendgroup\":\"\",\"marker\":{\"color\":\"#636efa\",\"pattern\":{\"shape\":\"\"}},\"name\":\"\",\"offsetgroup\":\"\",\"orientation\":\"v\",\"showlegend\":false,\"textposition\":\"auto\",\"texttemplate\":\"%{y}\",\"x\":[\"butter\",\"dairy\",\"cheese\",\"cream\",\"milk\",\"ice cream\",\"yoghurt\",\"buttermilk\"],\"xaxis\":\"x\",\"y\":[6489,5888,5623,5262,4994,1145,950,232],\"yaxis\":\"y\",\"type\":\"bar\"}],                        {\"template\":{\"data\":{\"histogram2dcontour\":[{\"type\":\"histogram2dcontour\",\"colorbar\":{\"outlinewidth\":0,\"ticks\":\"\"},\"colorscale\":[[0.0,\"#0d0887\"],[0.1111111111111111,\"#46039f\"],[0.2222222222222222,\"#7201a8\"],[0.3333333333333333,\"#9c179e\"],[0.4444444444444444,\"#bd3786\"],[0.5555555555555556,\"#d8576b\"],[0.6666666666666666,\"#ed7953\"],[0.7777777777777778,\"#fb9f3a\"],[0.8888888888888888,\"#fdca26\"],[1.0,\"#f0f921\"]]}],\"choropleth\":[{\"type\":\"choropleth\",\"colorbar\":{\"outlinewidth\":0,\"ticks\":\"\"}}],\"histogram2d\":[{\"type\":\"histogram2d\",\"colorbar\":{\"outlinewidth\":0,\"ticks\":\"\"},\"colorscale\":[[0.0,\"#0d0887\"],[0.1111111111111111,\"#46039f\"],[0.2222222222222222,\"#7201a8\"],[0.3333333333333333,\"#9c179e\"],[0.4444444444444444,\"#bd3786\"],[0.5555555555555556,\"#d8576b\"],[0.6666666666666666,\"#ed7953\"],[0.7777777777777778,\"#fb9f3a\"],[0.8888888888888888,\"#fdca26\"],[1.0,\"#f0f921\"]]}],\"heatmap\":[{\"type\":\"heatmap\",\"colorbar\":{\"outlinewidth\":0,\"ticks\":\"\"},\"colorscale\":[[0.0,\"#0d0887\"],[0.1111111111111111,\"#46039f\"],[0.2222222222222222,\"#7201a8\"],[0.3333333333333333,\"#9c179e\"],[0.4444444444444444,\"#bd3786\"],[0.5555555555555556,\"#d8576b\"],[0.6666666666666666,\"#ed7953\"],[0.7777777777777778,\"#fb9f3a\"],[0.8888888888888888,\"#fdca26\"],[1.0,\"#f0f921\"]]}],\"heatmapgl\":[{\"type\":\"heatmapgl\",\"colorbar\":{\"outlinewidth\":0,\"ticks\":\"\"},\"colorscale\":[[0.0,\"#0d0887\"],[0.1111111111111111,\"#46039f\"],[0.2222222222222222,\"#7201a8\"],[0.3333333333333333,\"#9c179e\"],[0.4444444444444444,\"#bd3786\"],[0.5555555555555556,\"#d8576b\"],[0.6666666666666666,\"#ed7953\"],[0.7777777777777778,\"#fb9f3a\"],[0.8888888888888888,\"#fdca26\"],[1.0,\"#f0f921\"]]}],\"contourcarpet\":[{\"type\":\"contourcarpet\",\"colorbar\":{\"outlinewidth\":0,\"ticks\":\"\"}}],\"contour\":[{\"type\":\"contour\",\"colorbar\":{\"outlinewidth\":0,\"ticks\":\"\"},\"colorscale\":[[0.0,\"#0d0887\"],[0.1111111111111111,\"#46039f\"],[0.2222222222222222,\"#7201a8\"],[0.3333333333333333,\"#9c179e\"],[0.4444444444444444,\"#bd3786\"],[0.5555555555555556,\"#d8576b\"],[0.6666666666666666,\"#ed7953\"],[0.7777777777777778,\"#fb9f3a\"],[0.8888888888888888,\"#fdca26\"],[1.0,\"#f0f921\"]]}],\"surface\":[{\"type\":\"surface\",\"colorbar\":{\"outlinewidth\":0,\"ticks\":\"\"},\"colorscale\":[[0.0,\"#0d0887\"],[0.1111111111111111,\"#46039f\"],[0.2222222222222222,\"#7201a8\"],[0.3333333333333333,\"#9c179e\"],[0.4444444444444444,\"#bd3786\"],[0.5555555555555556,\"#d8576b\"],[0.6666666666666666,\"#ed7953\"],[0.7777777777777778,\"#fb9f3a\"],[0.8888888888888888,\"#fdca26\"],[1.0,\"#f0f921\"]]}],\"mesh3d\":[{\"type\":\"mesh3d\",\"colorbar\":{\"outlinewidth\":0,\"ticks\":\"\"}}],\"scatter\":[{\"fillpattern\":{\"fillmode\":\"overlay\",\"size\":10,\"solidity\":0.2},\"type\":\"scatter\"}],\"parcoords\":[{\"type\":\"parcoords\",\"line\":{\"colorbar\":{\"outlinewidth\":0,\"ticks\":\"\"}}}],\"scatterpolargl\":[{\"type\":\"scatterpolargl\",\"marker\":{\"colorbar\":{\"outlinewidth\":0,\"ticks\":\"\"}}}],\"bar\":[{\"error_x\":{\"color\":\"#2a3f5f\"},\"error_y\":{\"color\":\"#2a3f5f\"},\"marker\":{\"line\":{\"color\":\"#E5ECF6\",\"width\":0.5},\"pattern\":{\"fillmode\":\"overlay\",\"size\":10,\"solidity\":0.2}},\"type\":\"bar\"}],\"scattergeo\":[{\"type\":\"scattergeo\",\"marker\":{\"colorbar\":{\"outlinewidth\":0,\"ticks\":\"\"}}}],\"scatterpolar\":[{\"type\":\"scatterpolar\",\"marker\":{\"colorbar\":{\"outlinewidth\":0,\"ticks\":\"\"}}}],\"histogram\":[{\"marker\":{\"pattern\":{\"fillmode\":\"overlay\",\"size\":10,\"solidity\":0.2}},\"type\":\"histogram\"}],\"scattergl\":[{\"type\":\"scattergl\",\"marker\":{\"colorbar\":{\"outlinewidth\":0,\"ticks\":\"\"}}}],\"scatter3d\":[{\"type\":\"scatter3d\",\"line\":{\"colorbar\":{\"outlinewidth\":0,\"ticks\":\"\"}},\"marker\":{\"colorbar\":{\"outlinewidth\":0,\"ticks\":\"\"}}}],\"scattermapbox\":[{\"type\":\"scattermapbox\",\"marker\":{\"colorbar\":{\"outlinewidth\":0,\"ticks\":\"\"}}}],\"scatterternary\":[{\"type\":\"scatterternary\",\"marker\":{\"colorbar\":{\"outlinewidth\":0,\"ticks\":\"\"}}}],\"scattercarpet\":[{\"type\":\"scattercarpet\",\"marker\":{\"colorbar\":{\"outlinewidth\":0,\"ticks\":\"\"}}}],\"carpet\":[{\"aaxis\":{\"endlinecolor\":\"#2a3f5f\",\"gridcolor\":\"white\",\"linecolor\":\"white\",\"minorgridcolor\":\"white\",\"startlinecolor\":\"#2a3f5f\"},\"baxis\":{\"endlinecolor\":\"#2a3f5f\",\"gridcolor\":\"white\",\"linecolor\":\"white\",\"minorgridcolor\":\"white\",\"startlinecolor\":\"#2a3f5f\"},\"type\":\"carpet\"}],\"table\":[{\"cells\":{\"fill\":{\"color\":\"#EBF0F8\"},\"line\":{\"color\":\"white\"}},\"header\":{\"fill\":{\"color\":\"#C8D4E3\"},\"line\":{\"color\":\"white\"}},\"type\":\"table\"}],\"barpolar\":[{\"marker\":{\"line\":{\"color\":\"#E5ECF6\",\"width\":0.5},\"pattern\":{\"fillmode\":\"overlay\",\"size\":10,\"solidity\":0.2}},\"type\":\"barpolar\"}],\"pie\":[{\"automargin\":true,\"type\":\"pie\"}]},\"layout\":{\"autotypenumbers\":\"strict\",\"colorway\":[\"#636efa\",\"#EF553B\",\"#00cc96\",\"#ab63fa\",\"#FFA15A\",\"#19d3f3\",\"#FF6692\",\"#B6E880\",\"#FF97FF\",\"#FECB52\"],\"font\":{\"color\":\"#2a3f5f\"},\"hovermode\":\"closest\",\"hoverlabel\":{\"align\":\"left\"},\"paper_bgcolor\":\"white\",\"plot_bgcolor\":\"#E5ECF6\",\"polar\":{\"bgcolor\":\"#E5ECF6\",\"angularaxis\":{\"gridcolor\":\"white\",\"linecolor\":\"white\",\"ticks\":\"\"},\"radialaxis\":{\"gridcolor\":\"white\",\"linecolor\":\"white\",\"ticks\":\"\"}},\"ternary\":{\"bgcolor\":\"#E5ECF6\",\"aaxis\":{\"gridcolor\":\"white\",\"linecolor\":\"white\",\"ticks\":\"\"},\"baxis\":{\"gridcolor\":\"white\",\"linecolor\":\"white\",\"ticks\":\"\"},\"caxis\":{\"gridcolor\":\"white\",\"linecolor\":\"white\",\"ticks\":\"\"}},\"coloraxis\":{\"colorbar\":{\"outlinewidth\":0,\"ticks\":\"\"}},\"colorscale\":{\"sequential\":[[0.0,\"#0d0887\"],[0.1111111111111111,\"#46039f\"],[0.2222222222222222,\"#7201a8\"],[0.3333333333333333,\"#9c179e\"],[0.4444444444444444,\"#bd3786\"],[0.5555555555555556,\"#d8576b\"],[0.6666666666666666,\"#ed7953\"],[0.7777777777777778,\"#fb9f3a\"],[0.8888888888888888,\"#fdca26\"],[1.0,\"#f0f921\"]],\"sequentialminus\":[[0.0,\"#0d0887\"],[0.1111111111111111,\"#46039f\"],[0.2222222222222222,\"#7201a8\"],[0.3333333333333333,\"#9c179e\"],[0.4444444444444444,\"#bd3786\"],[0.5555555555555556,\"#d8576b\"],[0.6666666666666666,\"#ed7953\"],[0.7777777777777778,\"#fb9f3a\"],[0.8888888888888888,\"#fdca26\"],[1.0,\"#f0f921\"]],\"diverging\":[[0,\"#8e0152\"],[0.1,\"#c51b7d\"],[0.2,\"#de77ae\"],[0.3,\"#f1b6da\"],[0.4,\"#fde0ef\"],[0.5,\"#f7f7f7\"],[0.6,\"#e6f5d0\"],[0.7,\"#b8e186\"],[0.8,\"#7fbc41\"],[0.9,\"#4d9221\"],[1,\"#276419\"]]},\"xaxis\":{\"gridcolor\":\"white\",\"linecolor\":\"white\",\"ticks\":\"\",\"title\":{\"standoff\":15},\"zerolinecolor\":\"white\",\"automargin\":true,\"zerolinewidth\":2},\"yaxis\":{\"gridcolor\":\"white\",\"linecolor\":\"white\",\"ticks\":\"\",\"title\":{\"standoff\":15},\"zerolinecolor\":\"white\",\"automargin\":true,\"zerolinewidth\":2},\"scene\":{\"xaxis\":{\"backgroundcolor\":\"#E5ECF6\",\"gridcolor\":\"white\",\"linecolor\":\"white\",\"showbackground\":true,\"ticks\":\"\",\"zerolinecolor\":\"white\",\"gridwidth\":2},\"yaxis\":{\"backgroundcolor\":\"#E5ECF6\",\"gridcolor\":\"white\",\"linecolor\":\"white\",\"showbackground\":true,\"ticks\":\"\",\"zerolinecolor\":\"white\",\"gridwidth\":2},\"zaxis\":{\"backgroundcolor\":\"#E5ECF6\",\"gridcolor\":\"white\",\"linecolor\":\"white\",\"showbackground\":true,\"ticks\":\"\",\"zerolinecolor\":\"white\",\"gridwidth\":2}},\"shapedefaults\":{\"line\":{\"color\":\"#2a3f5f\"}},\"annotationdefaults\":{\"arrowcolor\":\"#2a3f5f\",\"arrowhead\":0,\"arrowwidth\":1},\"geo\":{\"bgcolor\":\"white\",\"landcolor\":\"#E5ECF6\",\"subunitcolor\":\"white\",\"showland\":true,\"showlakes\":true,\"lakecolor\":\"white\"},\"title\":{\"x\":0.05},\"mapbox\":{\"style\":\"light\"}}},\"xaxis\":{\"anchor\":\"y\",\"domain\":[0.0,1.0],\"title\":{\"text\":\"keyword\"}},\"yaxis\":{\"anchor\":\"x\",\"domain\":[0.0,1.0],\"title\":{\"text\":\"total_comments\"}},\"legend\":{\"tracegroupgap\":0},\"title\":{\"text\":\"Top discussed dairy keywords based\"},\"barmode\":\"relative\"},                        {\"responsive\": true}                    ).then(function(){\n",
       "                            \n",
       "var gd = document.getElementById('ab04ebb1-e469-431b-a64c-e43abfec1f22');\n",
       "var x = new MutationObserver(function (mutations, observer) {{\n",
       "        var display = window.getComputedStyle(gd).display;\n",
       "        if (!display || display === 'none') {{\n",
       "            console.log([gd, 'removed!']);\n",
       "            Plotly.purge(gd);\n",
       "            observer.disconnect();\n",
       "        }}\n",
       "}});\n",
       "\n",
       "// Listen for the removal of the full notebook cells\n",
       "var notebookContainer = gd.closest('#notebook-container');\n",
       "if (notebookContainer) {{\n",
       "    x.observe(notebookContainer, {childList: true});\n",
       "}}\n",
       "\n",
       "// Listen for the clearing of the current output cell\n",
       "var outputEl = gd.closest('.output');\n",
       "if (outputEl) {{\n",
       "    x.observe(outputEl, {childList: true});\n",
       "}}\n",
       "\n",
       "                        })                };                });            </script>        </div>"
      ]
     },
     "metadata": {},
     "output_type": "display_data"
    }
   ],
   "source": [
    "# Top discussed keywords based on the number of comments\n",
    "keywords.sort_values(\"total_comments\", ascending=False, inplace=True)\n",
    "\n",
    "fig = px.bar(keywords, \n",
    "             x=\"keyword\", \n",
    "             y=\"total_comments\", \n",
    "             text_auto=True,\n",
    "             title=\"Top discussed dairy keywords based\"\n",
    "            )\n",
    "fig.show()\n"
   ]
  },
  {
   "cell_type": "markdown",
   "id": "4b0a67a6",
   "metadata": {},
   "source": [
    "**Mean sentiment polarity**\n",
    "\n",
    "Mean sentiment polarity will show rating for each keyword. The closer it is to 1, the more positive general discussion is. "
   ]
  },
  {
   "cell_type": "code",
   "execution_count": 78,
   "id": "38744b67",
   "metadata": {},
   "outputs": [
    {
     "data": {
      "text/html": [
       "<div>\n",
       "<style scoped>\n",
       "    .dataframe tbody tr th:only-of-type {\n",
       "        vertical-align: middle;\n",
       "    }\n",
       "\n",
       "    .dataframe tbody tr th {\n",
       "        vertical-align: top;\n",
       "    }\n",
       "\n",
       "    .dataframe thead th {\n",
       "        text-align: right;\n",
       "    }\n",
       "</style>\n",
       "<table border=\"1\" class=\"dataframe\">\n",
       "  <thead>\n",
       "    <tr style=\"text-align: right;\">\n",
       "      <th></th>\n",
       "      <th>keyword</th>\n",
       "      <th>sentiment</th>\n",
       "      <th>word_count</th>\n",
       "    </tr>\n",
       "  </thead>\n",
       "  <tbody>\n",
       "    <tr>\n",
       "      <th>0</th>\n",
       "      <td>ice cream</td>\n",
       "      <td>0.076674</td>\n",
       "      <td>22.667249</td>\n",
       "    </tr>\n",
       "    <tr>\n",
       "      <th>1</th>\n",
       "      <td>buttermilk</td>\n",
       "      <td>0.075717</td>\n",
       "      <td>24.909483</td>\n",
       "    </tr>\n",
       "    <tr>\n",
       "      <th>2</th>\n",
       "      <td>dairy</td>\n",
       "      <td>0.066916</td>\n",
       "      <td>27.780571</td>\n",
       "    </tr>\n",
       "    <tr>\n",
       "      <th>3</th>\n",
       "      <td>butter</td>\n",
       "      <td>0.064405</td>\n",
       "      <td>22.519032</td>\n",
       "    </tr>\n",
       "    <tr>\n",
       "      <th>4</th>\n",
       "      <td>cream</td>\n",
       "      <td>0.058994</td>\n",
       "      <td>20.397377</td>\n",
       "    </tr>\n",
       "    <tr>\n",
       "      <th>5</th>\n",
       "      <td>yoghurt</td>\n",
       "      <td>0.057183</td>\n",
       "      <td>24.181053</td>\n",
       "    </tr>\n",
       "    <tr>\n",
       "      <th>6</th>\n",
       "      <td>milk</td>\n",
       "      <td>0.045329</td>\n",
       "      <td>26.405887</td>\n",
       "    </tr>\n",
       "    <tr>\n",
       "      <th>7</th>\n",
       "      <td>cheese</td>\n",
       "      <td>0.041869</td>\n",
       "      <td>20.127868</td>\n",
       "    </tr>\n",
       "  </tbody>\n",
       "</table>\n",
       "</div>"
      ],
      "text/plain": [
       "      keyword  sentiment  word_count\n",
       "0   ice cream   0.076674   22.667249\n",
       "1  buttermilk   0.075717   24.909483\n",
       "2       dairy   0.066916   27.780571\n",
       "3      butter   0.064405   22.519032\n",
       "4       cream   0.058994   20.397377\n",
       "5     yoghurt   0.057183   24.181053\n",
       "6        milk   0.045329   26.405887\n",
       "7      cheese   0.041869   20.127868"
      ]
     },
     "execution_count": 78,
     "metadata": {},
     "output_type": "execute_result"
    }
   ],
   "source": [
    "# Count mean sentiment polarity per keyword\n",
    "\n",
    "sentiment_per_keyword = posts_comments_combined[[\"keyword\", \"sentiment\", \"word_count\"]].groupby(\"keyword\").mean().reset_index()\n",
    "sentiment_per_keyword.sort_values(\"sentiment\", ascending=False, inplace=True)\n",
    "sentiment_per_keyword.reset_index(drop=True)"
   ]
  },
  {
   "cell_type": "markdown",
   "id": "478ac696",
   "metadata": {},
   "source": [
    "**Top positive posts**"
   ]
  },
  {
   "cell_type": "code",
   "execution_count": 79,
   "id": "317e0443",
   "metadata": {},
   "outputs": [],
   "source": [
    "# Select the top positive comments to analyze\n",
    "\n",
    "posts_comments_combined.sort_values([\"sentiment\", \"keyword\"], ascending=False, inplace=True)\n",
    "posts_comments_combined.reset_index(drop=True, inplace=True)\n",
    "top_posts = posts_comments_combined.iloc[:20, [0,1,8]]"
   ]
  },
  {
   "cell_type": "code",
   "execution_count": 80,
   "id": "1541848d",
   "metadata": {},
   "outputs": [],
   "source": [
    "# Extending column width to see more text. \n",
    "# Code taken from https://stackoverflow.com/questions/30110859/change-the-amount-of-text-printed-in-cells-in-pandas-with-head-method\n",
    "# Aligning text to left for easier perception, code from https://www.geeksforgeeks.org/align-columns-to-left-in-pandas-python/\n",
    "\n",
    "\n",
    "pd.set_option('display.max_colwidth', 1000)\n",
    "top_posts = top_posts.style.set_properties(**{'text-align': 'left'})\n"
   ]
  },
  {
   "cell_type": "code",
   "execution_count": 81,
   "id": "27c2d83b",
   "metadata": {},
   "outputs": [
    {
     "data": {
      "text/html": [
       "<style type=\"text/css\">\n",
       "#T_16f6f_row0_col0, #T_16f6f_row0_col1, #T_16f6f_row0_col2, #T_16f6f_row1_col0, #T_16f6f_row1_col1, #T_16f6f_row1_col2, #T_16f6f_row2_col0, #T_16f6f_row2_col1, #T_16f6f_row2_col2, #T_16f6f_row3_col0, #T_16f6f_row3_col1, #T_16f6f_row3_col2, #T_16f6f_row4_col0, #T_16f6f_row4_col1, #T_16f6f_row4_col2, #T_16f6f_row5_col0, #T_16f6f_row5_col1, #T_16f6f_row5_col2, #T_16f6f_row6_col0, #T_16f6f_row6_col1, #T_16f6f_row6_col2, #T_16f6f_row7_col0, #T_16f6f_row7_col1, #T_16f6f_row7_col2, #T_16f6f_row8_col0, #T_16f6f_row8_col1, #T_16f6f_row8_col2, #T_16f6f_row9_col0, #T_16f6f_row9_col1, #T_16f6f_row9_col2, #T_16f6f_row10_col0, #T_16f6f_row10_col1, #T_16f6f_row10_col2, #T_16f6f_row11_col0, #T_16f6f_row11_col1, #T_16f6f_row11_col2, #T_16f6f_row12_col0, #T_16f6f_row12_col1, #T_16f6f_row12_col2, #T_16f6f_row13_col0, #T_16f6f_row13_col1, #T_16f6f_row13_col2, #T_16f6f_row14_col0, #T_16f6f_row14_col1, #T_16f6f_row14_col2, #T_16f6f_row15_col0, #T_16f6f_row15_col1, #T_16f6f_row15_col2, #T_16f6f_row16_col0, #T_16f6f_row16_col1, #T_16f6f_row16_col2, #T_16f6f_row17_col0, #T_16f6f_row17_col1, #T_16f6f_row17_col2, #T_16f6f_row18_col0, #T_16f6f_row18_col1, #T_16f6f_row18_col2, #T_16f6f_row19_col0, #T_16f6f_row19_col1, #T_16f6f_row19_col2 {\n",
       "  text-align: left;\n",
       "}\n",
       "</style>\n",
       "<table id=\"T_16f6f\">\n",
       "  <thead>\n",
       "    <tr>\n",
       "      <th class=\"blank level0\" >&nbsp;</th>\n",
       "      <th id=\"T_16f6f_level0_col0\" class=\"col_heading level0 col0\" >text</th>\n",
       "      <th id=\"T_16f6f_level0_col1\" class=\"col_heading level0 col1\" >keyword</th>\n",
       "      <th id=\"T_16f6f_level0_col2\" class=\"col_heading level0 col2\" >sentiment</th>\n",
       "    </tr>\n",
       "  </thead>\n",
       "  <tbody>\n",
       "    <tr>\n",
       "      <th id=\"T_16f6f_level0_row0\" class=\"row_heading level0 row0\" >0</th>\n",
       "      <td id=\"T_16f6f_row0_col0\" class=\"data row0 col0\" >Might have been fage? Best macros on yoghurt I've seen\n",
       "\n",
       "\n",
       "https://home.fage/yogurts/ireland/fage-total-0</td>\n",
       "      <td id=\"T_16f6f_row0_col1\" class=\"data row0 col1\" >yoghurt</td>\n",
       "      <td id=\"T_16f6f_row0_col2\" class=\"data row0 col2\" >1.000000</td>\n",
       "    </tr>\n",
       "    <tr>\n",
       "      <th id=\"T_16f6f_level0_row1\" class=\"row_heading level0 row1\" >1</th>\n",
       "      <td id=\"T_16f6f_row1_col0\" class=\"data row1 col0\" >That was an excellent speech, anyone have a clip of Martin's response?</td>\n",
       "      <td id=\"T_16f6f_row1_col1\" class=\"data row1 col1\" >yoghurt</td>\n",
       "      <td id=\"T_16f6f_row1_col2\" class=\"data row1 col2\" >1.000000</td>\n",
       "    </tr>\n",
       "    <tr>\n",
       "      <th id=\"T_16f6f_level0_row2\" class=\"row_heading level0 row2\" >2</th>\n",
       "      <td id=\"T_16f6f_row2_col0\" class=\"data row2 col0\" >Oh yeah they were delicious. Can't find them either any more. I think it was monster something or other?</td>\n",
       "      <td id=\"T_16f6f_row2_col1\" class=\"data row2 col1\" >yoghurt</td>\n",
       "      <td id=\"T_16f6f_row2_col2\" class=\"data row2 col2\" >1.000000</td>\n",
       "    </tr>\n",
       "    <tr>\n",
       "      <th id=\"T_16f6f_level0_row3\" class=\"row_heading level0 row3\" >3</th>\n",
       "      <td id=\"T_16f6f_row3_col0\" class=\"data row3 col0\" >Best yogurts in the country. The orange flavour is my favourite. Whoever invented the toffee one needs their head examined.</td>\n",
       "      <td id=\"T_16f6f_row3_col1\" class=\"data row3 col1\" >yoghurt</td>\n",
       "      <td id=\"T_16f6f_row3_col2\" class=\"data row3 col2\" >1.000000</td>\n",
       "    </tr>\n",
       "    <tr>\n",
       "      <th id=\"T_16f6f_level0_row4\" class=\"row_heading level0 row4\" >4</th>\n",
       "      <td id=\"T_16f6f_row4_col0\" class=\"data row4 col0\" >Gouda cheese rolls are the best thing in Lidl</td>\n",
       "      <td id=\"T_16f6f_row4_col1\" class=\"data row4 col1\" >yoghurt</td>\n",
       "      <td id=\"T_16f6f_row4_col2\" class=\"data row4 col2\" >1.000000</td>\n",
       "    </tr>\n",
       "    <tr>\n",
       "      <th id=\"T_16f6f_level0_row5\" class=\"row_heading level0 row5\" >5</th>\n",
       "      <td id=\"T_16f6f_row5_col0\" class=\"data row5 col0\" >Probably best to inform the police as well. I suspect there is more to the story here.</td>\n",
       "      <td id=\"T_16f6f_row5_col1\" class=\"data row5 col1\" >yoghurt</td>\n",
       "      <td id=\"T_16f6f_row5_col2\" class=\"data row5 col2\" >1.000000</td>\n",
       "    </tr>\n",
       "    <tr>\n",
       "      <th id=\"T_16f6f_level0_row6\" class=\"row_heading level0 row6\" >6</th>\n",
       "      <td id=\"T_16f6f_row6_col0\" class=\"data row6 col0\" >Banana Nesquik might be your best bet now.</td>\n",
       "      <td id=\"T_16f6f_row6_col1\" class=\"data row6 col1\" >milk</td>\n",
       "      <td id=\"T_16f6f_row6_col2\" class=\"data row6 col2\" >1.000000</td>\n",
       "    </tr>\n",
       "    <tr>\n",
       "      <th id=\"T_16f6f_level0_row7\" class=\"row_heading level0 row7\" >7</th>\n",
       "      <td id=\"T_16f6f_row7_col0\" class=\"data row7 col0\" >Still had taties and milk at my grannies when I was a kid in galway, 70s/80s. Delicious.</td>\n",
       "      <td id=\"T_16f6f_row7_col1\" class=\"data row7 col1\" >milk</td>\n",
       "      <td id=\"T_16f6f_row7_col2\" class=\"data row7 col2\" >1.000000</td>\n",
       "    </tr>\n",
       "    <tr>\n",
       "      <th id=\"T_16f6f_level0_row8\" class=\"row_heading level0 row8\" >8</th>\n",
       "      <td id=\"T_16f6f_row8_col0\" class=\"data row8 col0\" >Vanilla is the best one.</td>\n",
       "      <td id=\"T_16f6f_row8_col1\" class=\"data row8 col1\" >milk</td>\n",
       "      <td id=\"T_16f6f_row8_col2\" class=\"data row8 col2\" >1.000000</td>\n",
       "    </tr>\n",
       "    <tr>\n",
       "      <th id=\"T_16f6f_level0_row9\" class=\"row_heading level0 row9\" >9</th>\n",
       "      <td id=\"T_16f6f_row9_col0\" class=\"data row9 col0\" >Excellent post! Crossposted to r/mnawesome too :)</td>\n",
       "      <td id=\"T_16f6f_row9_col1\" class=\"data row9 col1\" >milk</td>\n",
       "      <td id=\"T_16f6f_row9_col2\" class=\"data row9 col2\" >1.000000</td>\n",
       "    </tr>\n",
       "    <tr>\n",
       "      <th id=\"T_16f6f_level0_row10\" class=\"row_heading level0 row10\" >10</th>\n",
       "      <td id=\"T_16f6f_row10_col0\" class=\"data row10 col0\" >Pint of milk when hungover is the best thing in the world</td>\n",
       "      <td id=\"T_16f6f_row10_col1\" class=\"data row10 col1\" >milk</td>\n",
       "      <td id=\"T_16f6f_row10_col2\" class=\"data row10 col2\" >1.000000</td>\n",
       "    </tr>\n",
       "    <tr>\n",
       "      <th id=\"T_16f6f_level0_row11\" class=\"row_heading level0 row11\" >11</th>\n",
       "      <td id=\"T_16f6f_row11_col0\" class=\"data row11 col0\" >Perfect</td>\n",
       "      <td id=\"T_16f6f_row11_col1\" class=\"data row11 col1\" >milk</td>\n",
       "      <td id=\"T_16f6f_row11_col2\" class=\"data row11 col2\" >1.000000</td>\n",
       "    </tr>\n",
       "    <tr>\n",
       "      <th id=\"T_16f6f_level0_row12\" class=\"row_heading level0 row12\" >12</th>\n",
       "      <td id=\"T_16f6f_row12_col0\" class=\"data row12 col0\" >I'd Rolover for anyone handing me a bottle of this, sounds delicious.</td>\n",
       "      <td id=\"T_16f6f_row12_col1\" class=\"data row12 col1\" >milk</td>\n",
       "      <td id=\"T_16f6f_row12_col2\" class=\"data row12 col2\" >1.000000</td>\n",
       "    </tr>\n",
       "    <tr>\n",
       "      <th id=\"T_16f6f_level0_row13\" class=\"row_heading level0 row13\" >13</th>\n",
       "      <td id=\"T_16f6f_row13_col0\" class=\"data row13 col0\" >My god that looks delicious.</td>\n",
       "      <td id=\"T_16f6f_row13_col1\" class=\"data row13 col1\" >milk</td>\n",
       "      <td id=\"T_16f6f_row13_col2\" class=\"data row13 col2\" >1.000000</td>\n",
       "    </tr>\n",
       "    <tr>\n",
       "      <th id=\"T_16f6f_level0_row14\" class=\"row_heading level0 row14\" >14</th>\n",
       "      <td id=\"T_16f6f_row14_col0\" class=\"data row14 col0\" >Sounds delicious</td>\n",
       "      <td id=\"T_16f6f_row14_col1\" class=\"data row14 col1\" >milk</td>\n",
       "      <td id=\"T_16f6f_row14_col2\" class=\"data row14 col2\" >1.000000</td>\n",
       "    </tr>\n",
       "    <tr>\n",
       "      <th id=\"T_16f6f_level0_row15\" class=\"row_heading level0 row15\" >15</th>\n",
       "      <td id=\"T_16f6f_row15_col0\" class=\"data row15 col0\" >Dec 25 is the best date</td>\n",
       "      <td id=\"T_16f6f_row15_col1\" class=\"data row15 col1\" >milk</td>\n",
       "      <td id=\"T_16f6f_row15_col2\" class=\"data row15 col2\" >1.000000</td>\n",
       "    </tr>\n",
       "    <tr>\n",
       "      <th id=\"T_16f6f_level0_row16\" class=\"row_heading level0 row16\" >16</th>\n",
       "      <td id=\"T_16f6f_row16_col0\" class=\"data row16 col0\" >Connacht gold is the best, hands down.</td>\n",
       "      <td id=\"T_16f6f_row16_col1\" class=\"data row16 col1\" >milk</td>\n",
       "      <td id=\"T_16f6f_row16_col2\" class=\"data row16 col2\" >1.000000</td>\n",
       "    </tr>\n",
       "    <tr>\n",
       "      <th id=\"T_16f6f_level0_row17\" class=\"row_heading level0 row17\" >17</th>\n",
       "      <td id=\"T_16f6f_row17_col0\" class=\"data row17 col0\" >50g of oats, 250L of milk and 840g of raspberries, the perfect ratio. And only 3,400k calories too!</td>\n",
       "      <td id=\"T_16f6f_row17_col1\" class=\"data row17 col1\" >milk</td>\n",
       "      <td id=\"T_16f6f_row17_col2\" class=\"data row17 col2\" >1.000000</td>\n",
       "    </tr>\n",
       "    <tr>\n",
       "      <th id=\"T_16f6f_level0_row18\" class=\"row_heading level0 row18\" >18</th>\n",
       "      <td id=\"T_16f6f_row18_col0\" class=\"data row18 col0\" >Foirfe for perfect (ferfa)</td>\n",
       "      <td id=\"T_16f6f_row18_col1\" class=\"data row18 col1\" >milk</td>\n",
       "      <td id=\"T_16f6f_row18_col2\" class=\"data row18 col2\" >1.000000</td>\n",
       "    </tr>\n",
       "    <tr>\n",
       "      <th id=\"T_16f6f_level0_row19\" class=\"row_heading level0 row19\" >19</th>\n",
       "      <td id=\"T_16f6f_row19_col0\" class=\"data row19 col0\" >We get it here in Texas no more bitch \"buttery\"spread for us only Kerry's is the best yeehaw.</td>\n",
       "      <td id=\"T_16f6f_row19_col1\" class=\"data row19 col1\" >milk</td>\n",
       "      <td id=\"T_16f6f_row19_col2\" class=\"data row19 col2\" >1.000000</td>\n",
       "    </tr>\n",
       "  </tbody>\n",
       "</table>\n"
      ],
      "text/plain": [
       "<pandas.io.formats.style.Styler at 0x177c4aff690>"
      ]
     },
     "execution_count": 81,
     "metadata": {},
     "output_type": "execute_result"
    }
   ],
   "source": [
    "top_posts"
   ]
  },
  {
   "cell_type": "code",
   "execution_count": 82,
   "id": "51daad73",
   "metadata": {},
   "outputs": [],
   "source": [
    "# Deleting top_posts as no longer used dataframe\n",
    "\n",
    "del top_posts"
   ]
  },
  {
   "cell_type": "markdown",
   "id": "61817beb",
   "metadata": {},
   "source": [
    "**Top negative posts**"
   ]
  },
  {
   "cell_type": "code",
   "execution_count": 84,
   "id": "1883cab5",
   "metadata": {},
   "outputs": [],
   "source": [
    "# Select the top negative comments to analyze\n",
    "\n",
    "posts_comments_combined.sort_values([\"sentiment\", \"keyword\"], ascending=True, inplace=True)\n",
    "posts_comments_combined.reset_index(drop=True, inplace=True)\n",
    "lowest_posts = posts_comments_combined.iloc[:20, [0,1,8]]"
   ]
  },
  {
   "cell_type": "code",
   "execution_count": 85,
   "id": "b1782322",
   "metadata": {},
   "outputs": [],
   "source": [
    "lowest_posts = lowest_posts.style.set_properties(**{'text-align': 'left'})"
   ]
  },
  {
   "cell_type": "code",
   "execution_count": 86,
   "id": "e050e82b",
   "metadata": {},
   "outputs": [
    {
     "data": {
      "text/html": [
       "<style type=\"text/css\">\n",
       "#T_ebe4b_row0_col0, #T_ebe4b_row0_col1, #T_ebe4b_row0_col2, #T_ebe4b_row1_col0, #T_ebe4b_row1_col1, #T_ebe4b_row1_col2, #T_ebe4b_row2_col0, #T_ebe4b_row2_col1, #T_ebe4b_row2_col2, #T_ebe4b_row3_col0, #T_ebe4b_row3_col1, #T_ebe4b_row3_col2, #T_ebe4b_row4_col0, #T_ebe4b_row4_col1, #T_ebe4b_row4_col2, #T_ebe4b_row5_col0, #T_ebe4b_row5_col1, #T_ebe4b_row5_col2, #T_ebe4b_row6_col0, #T_ebe4b_row6_col1, #T_ebe4b_row6_col2, #T_ebe4b_row7_col0, #T_ebe4b_row7_col1, #T_ebe4b_row7_col2, #T_ebe4b_row8_col0, #T_ebe4b_row8_col1, #T_ebe4b_row8_col2, #T_ebe4b_row9_col0, #T_ebe4b_row9_col1, #T_ebe4b_row9_col2, #T_ebe4b_row10_col0, #T_ebe4b_row10_col1, #T_ebe4b_row10_col2, #T_ebe4b_row11_col0, #T_ebe4b_row11_col1, #T_ebe4b_row11_col2, #T_ebe4b_row12_col0, #T_ebe4b_row12_col1, #T_ebe4b_row12_col2, #T_ebe4b_row13_col0, #T_ebe4b_row13_col1, #T_ebe4b_row13_col2, #T_ebe4b_row14_col0, #T_ebe4b_row14_col1, #T_ebe4b_row14_col2, #T_ebe4b_row15_col0, #T_ebe4b_row15_col1, #T_ebe4b_row15_col2, #T_ebe4b_row16_col0, #T_ebe4b_row16_col1, #T_ebe4b_row16_col2, #T_ebe4b_row17_col0, #T_ebe4b_row17_col1, #T_ebe4b_row17_col2, #T_ebe4b_row18_col0, #T_ebe4b_row18_col1, #T_ebe4b_row18_col2, #T_ebe4b_row19_col0, #T_ebe4b_row19_col1, #T_ebe4b_row19_col2 {\n",
       "  text-align: left;\n",
       "}\n",
       "</style>\n",
       "<table id=\"T_ebe4b\">\n",
       "  <thead>\n",
       "    <tr>\n",
       "      <th class=\"blank level0\" >&nbsp;</th>\n",
       "      <th id=\"T_ebe4b_level0_col0\" class=\"col_heading level0 col0\" >text</th>\n",
       "      <th id=\"T_ebe4b_level0_col1\" class=\"col_heading level0 col1\" >keyword</th>\n",
       "      <th id=\"T_ebe4b_level0_col2\" class=\"col_heading level0 col2\" >sentiment</th>\n",
       "    </tr>\n",
       "  </thead>\n",
       "  <tbody>\n",
       "    <tr>\n",
       "      <th id=\"T_ebe4b_level0_row0\" class=\"row_heading level0 row0\" >0</th>\n",
       "      <td id=\"T_ebe4b_row0_col0\" class=\"data row0 col0\" >Terrible news lads! Someone broke into me apartment on Christmas Eve.</td>\n",
       "      <td id=\"T_ebe4b_row0_col1\" class=\"data row0 col1\" >butter</td>\n",
       "      <td id=\"T_ebe4b_row0_col2\" class=\"data row0 col2\" >-1.000000</td>\n",
       "    </tr>\n",
       "    <tr>\n",
       "      <th id=\"T_ebe4b_level0_row1\" class=\"row_heading level0 row1\" >1</th>\n",
       "      <td id=\"T_ebe4b_row1_col0\" class=\"data row1 col0\" >Sounds udderly disgusting.</td>\n",
       "      <td id=\"T_ebe4b_row1_col1\" class=\"data row1 col1\" >butter</td>\n",
       "      <td id=\"T_ebe4b_row1_col2\" class=\"data row1 col2\" >-1.000000</td>\n",
       "    </tr>\n",
       "    <tr>\n",
       "      <th id=\"T_ebe4b_level0_row2\" class=\"row_heading level0 row2\" >2</th>\n",
       "      <td id=\"T_ebe4b_row2_col0\" class=\"data row2 col0\" >Thats miserable.</td>\n",
       "      <td id=\"T_ebe4b_row2_col1\" class=\"data row2 col1\" >butter</td>\n",
       "      <td id=\"T_ebe4b_row2_col2\" class=\"data row2 col2\" >-1.000000</td>\n",
       "    </tr>\n",
       "    <tr>\n",
       "      <th id=\"T_ebe4b_level0_row3\" class=\"row_heading level0 row3\" >3</th>\n",
       "      <td id=\"T_ebe4b_row3_col0\" class=\"data row3 col0\" >I was all set to call your partner a witch and that you should try to excorsise her but it seems that lots of people indulge in this disgusting practice</td>\n",
       "      <td id=\"T_ebe4b_row3_col1\" class=\"data row3 col1\" >butter</td>\n",
       "      <td id=\"T_ebe4b_row3_col2\" class=\"data row3 col2\" >-1.000000</td>\n",
       "    </tr>\n",
       "    <tr>\n",
       "      <th id=\"T_ebe4b_level0_row4\" class=\"row_heading level0 row4\" >4</th>\n",
       "      <td id=\"T_ebe4b_row4_col0\" class=\"data row4 col0\" >The emigration was horrific... communities devastated, zero jobs anywhere. It was London for me</td>\n",
       "      <td id=\"T_ebe4b_row4_col1\" class=\"data row4 col1\" >butter</td>\n",
       "      <td id=\"T_ebe4b_row4_col2\" class=\"data row4 col2\" >-1.000000</td>\n",
       "    </tr>\n",
       "    <tr>\n",
       "      <th id=\"T_ebe4b_level0_row5\" class=\"row_heading level0 row5\" >5</th>\n",
       "      <td id=\"T_ebe4b_row5_col0\" class=\"data row5 col0\" >Jesus that looks fucking awful, I want it.</td>\n",
       "      <td id=\"T_ebe4b_row5_col1\" class=\"data row5 col1\" >butter</td>\n",
       "      <td id=\"T_ebe4b_row5_col2\" class=\"data row5 col2\" >-1.000000</td>\n",
       "    </tr>\n",
       "    <tr>\n",
       "      <th id=\"T_ebe4b_level0_row6\" class=\"row_heading level0 row6\" >6</th>\n",
       "      <td id=\"T_ebe4b_row6_col0\" class=\"data row6 col0\" >Lots of people are brainwashed into thinking butter is evil and use spreads which are made from oil. Maybe that has something to do with it.</td>\n",
       "      <td id=\"T_ebe4b_row6_col1\" class=\"data row6 col1\" >butter</td>\n",
       "      <td id=\"T_ebe4b_row6_col2\" class=\"data row6 col2\" >-1.000000</td>\n",
       "    </tr>\n",
       "    <tr>\n",
       "      <th id=\"T_ebe4b_level0_row7\" class=\"row_heading level0 row7\" >7</th>\n",
       "      <td id=\"T_ebe4b_row7_col0\" class=\"data row7 col0\" >Putting butter in your coffee sounds disgusting, but each to their own.</td>\n",
       "      <td id=\"T_ebe4b_row7_col1\" class=\"data row7 col1\" >butter</td>\n",
       "      <td id=\"T_ebe4b_row7_col2\" class=\"data row7 col2\" >-1.000000</td>\n",
       "    </tr>\n",
       "    <tr>\n",
       "      <th id=\"T_ebe4b_level0_row8\" class=\"row_heading level0 row8\" >8</th>\n",
       "      <td id=\"T_ebe4b_row8_col0\" class=\"data row8 col0\" >I read that as batter and was disgustingly intrigued.</td>\n",
       "      <td id=\"T_ebe4b_row8_col1\" class=\"data row8 col1\" >butter</td>\n",
       "      <td id=\"T_ebe4b_row8_col2\" class=\"data row8 col2\" >-1.000000</td>\n",
       "    </tr>\n",
       "    <tr>\n",
       "      <th id=\"T_ebe4b_level0_row9\" class=\"row_heading level0 row9\" >9</th>\n",
       "      <td id=\"T_ebe4b_row9_col0\" class=\"data row9 col0\" >Fairly miserable looking roll. Then again only 2.50.</td>\n",
       "      <td id=\"T_ebe4b_row9_col1\" class=\"data row9 col1\" >butter</td>\n",
       "      <td id=\"T_ebe4b_row9_col2\" class=\"data row9 col2\" >-1.000000</td>\n",
       "    </tr>\n",
       "    <tr>\n",
       "      <th id=\"T_ebe4b_level0_row10\" class=\"row_heading level0 row10\" >10</th>\n",
       "      <td id=\"T_ebe4b_row10_col0\" class=\"data row10 col0\" >US problems/politics is entertainment. Irelands is boring but it should be boring.</td>\n",
       "      <td id=\"T_ebe4b_row10_col1\" class=\"data row10 col1\" >butter</td>\n",
       "      <td id=\"T_ebe4b_row10_col2\" class=\"data row10 col2\" >-1.000000</td>\n",
       "    </tr>\n",
       "    <tr>\n",
       "      <th id=\"T_ebe4b_level0_row11\" class=\"row_heading level0 row11\" >11</th>\n",
       "      <td id=\"T_ebe4b_row11_col0\" class=\"data row11 col0\" >I lived in America and for some reason their politics are just like their TV shows, overly dramatized and completely insane at times.</td>\n",
       "      <td id=\"T_ebe4b_row11_col1\" class=\"data row11 col1\" >butter</td>\n",
       "      <td id=\"T_ebe4b_row11_col2\" class=\"data row11 col2\" >-1.000000</td>\n",
       "    </tr>\n",
       "    <tr>\n",
       "      <th id=\"T_ebe4b_level0_row12\" class=\"row_heading level0 row12\" >12</th>\n",
       "      <td id=\"T_ebe4b_row12_col0\" class=\"data row12 col0\" >Milk or water. Porridge is awful by itself.</td>\n",
       "      <td id=\"T_ebe4b_row12_col1\" class=\"data row12 col1\" >butter</td>\n",
       "      <td id=\"T_ebe4b_row12_col2\" class=\"data row12 col2\" >-1.000000</td>\n",
       "    </tr>\n",
       "    <tr>\n",
       "      <th id=\"T_ebe4b_level0_row13\" class=\"row_heading level0 row13\" >13</th>\n",
       "      <td id=\"T_ebe4b_row13_col0\" class=\"data row13 col0\" >Politicians. They put up with an awful lot. Followed closely by bankers and property developers.</td>\n",
       "      <td id=\"T_ebe4b_row13_col1\" class=\"data row13 col1\" >butter</td>\n",
       "      <td id=\"T_ebe4b_row13_col2\" class=\"data row13 col2\" >-1.000000</td>\n",
       "    </tr>\n",
       "    <tr>\n",
       "      <th id=\"T_ebe4b_level0_row14\" class=\"row_heading level0 row14\" >14</th>\n",
       "      <td id=\"T_ebe4b_row14_col0\" class=\"data row14 col0\" >The worst cunts are the ones who get breadcrumbs all over the butter. </td>\n",
       "      <td id=\"T_ebe4b_row14_col1\" class=\"data row14 col1\" >butter</td>\n",
       "      <td id=\"T_ebe4b_row14_col2\" class=\"data row14 col2\" >-1.000000</td>\n",
       "    </tr>\n",
       "    <tr>\n",
       "      <th id=\"T_ebe4b_level0_row15\" class=\"row_heading level0 row15\" >15</th>\n",
       "      <td id=\"T_ebe4b_row15_col0\" class=\"data row15 col0\" >If you put sugar in your tea, ur disgusting 😤</td>\n",
       "      <td id=\"T_ebe4b_row15_col1\" class=\"data row15 col1\" >butter</td>\n",
       "      <td id=\"T_ebe4b_row15_col2\" class=\"data row15 col2\" >-1.000000</td>\n",
       "    </tr>\n",
       "    <tr>\n",
       "      <th id=\"T_ebe4b_level0_row16\" class=\"row_heading level0 row16\" >16</th>\n",
       "      <td id=\"T_ebe4b_row16_col0\" class=\"data row16 col0\" >No mention of Scotland ? (Of which I am one). Thought we held the world record for the worlds worst diet ?</td>\n",
       "      <td id=\"T_ebe4b_row16_col1\" class=\"data row16 col1\" >butter</td>\n",
       "      <td id=\"T_ebe4b_row16_col2\" class=\"data row16 col2\" >-1.000000</td>\n",
       "    </tr>\n",
       "    <tr>\n",
       "      <th id=\"T_ebe4b_level0_row17\" class=\"row_heading level0 row17\" >17</th>\n",
       "      <td id=\"T_ebe4b_row17_col0\" class=\"data row17 col0\" >Cause our fish and chips are terrible compared to yours.</td>\n",
       "      <td id=\"T_ebe4b_row17_col1\" class=\"data row17 col1\" >butter</td>\n",
       "      <td id=\"T_ebe4b_row17_col2\" class=\"data row17 col2\" >-1.000000</td>\n",
       "    </tr>\n",
       "    <tr>\n",
       "      <th id=\"T_ebe4b_level0_row18\" class=\"row_heading level0 row18\" >18</th>\n",
       "      <td id=\"T_ebe4b_row18_col0\" class=\"data row18 col0\" >You boring bastard</td>\n",
       "      <td id=\"T_ebe4b_row18_col1\" class=\"data row18 col1\" >butter</td>\n",
       "      <td id=\"T_ebe4b_row18_col2\" class=\"data row18 col2\" >-1.000000</td>\n",
       "    </tr>\n",
       "    <tr>\n",
       "      <th id=\"T_ebe4b_level0_row19\" class=\"row_heading level0 row19\" >19</th>\n",
       "      <td id=\"T_ebe4b_row19_col0\" class=\"data row19 col0\" >Also lads, stop spitting your chewing gum in the urinals!! It’s disgusting & the cleaners have to pick them out!!</td>\n",
       "      <td id=\"T_ebe4b_row19_col1\" class=\"data row19 col1\" >butter</td>\n",
       "      <td id=\"T_ebe4b_row19_col2\" class=\"data row19 col2\" >-1.000000</td>\n",
       "    </tr>\n",
       "  </tbody>\n",
       "</table>\n"
      ],
      "text/plain": [
       "<pandas.io.formats.style.Styler at 0x177c4bae590>"
      ]
     },
     "execution_count": 86,
     "metadata": {},
     "output_type": "execute_result"
    }
   ],
   "source": [
    "lowest_posts"
   ]
  },
  {
   "cell_type": "markdown",
   "id": "b4660ffc",
   "metadata": {},
   "source": [
    "## Conclusions\n",
    "\n",
    "To analyze dairy products discussions in Irish social media, over 30k posts and comments were extracted for dairy-specific keywords. Data was explored, cleaned, analyzed, and prepared for ML. Punctuation marks and stopwords were removed from text.\n",
    "Sentiments polarity feature was added using Text Blob from scikit library. \n",
    "\n",
    "Data is not perfectly balanced (38% positive and 62% negative comments), and this issue can be addressed in further research. \n",
    "\n",
    "Naive Bayes classifier for multinomial models with 70% / 30% train-test split showed best results with accuracy 0.86, f1-scores 0.89 and 0.80.\n",
    "\n",
    "It is essential to consider precision, recall and f1-score along with accuracy for imbalanced data (Cohen, 2020). We received rather high values using Naive Bayes classifier for multinomial models with some lower values obtained for “Positive” label which is less represented in the dataframe. \n",
    "\n",
    "In terms of practical application, extracted and processed data offers following insights:\n",
    "\n",
    "-\tButter, cheese, cream, and milk are the top discussed dairy products in social media (Irish segment). \n",
    "\n",
    "-\tNegative and neutral comments outweigh positive ones.\n",
    "\n",
    "-\tIce cream, buttermilk and butter have most positive discussions.\n",
    "\n",
    "-\tLongest posts and comments are dedicated to dairy products in general and milk. Shortest comments are shared on cream and cheese.  \n",
    "\n",
    "-\tWe can notice that sentiment labels didn’t manage to identify sarcasm and irony, for example, “If you put sugar in your tea, ur disgusting”. These labels could be identified using subjectivity label. \n",
    "\n",
    "-\tMany comments switched from discussion of dairy products into politics and other topics. Such comments could be cleaned for further research. \n",
    "\n",
    "\n",
    "\n",
    "## Further Research\n",
    "\n",
    "-\tCorrecting class imbalance using balancing tools such as imbalanced-learn library from scikit-learn.\n",
    "\n",
    "-\tDefining main discussion trends.\n",
    "\n",
    "-\tExtracting specific company names and feedback on their products.\n",
    "\n",
    "-\tAnalyzing top polarity comments and posts to extract recommendations for the industry.\n"
   ]
  },
  {
   "cell_type": "markdown",
   "id": "6288d706",
   "metadata": {},
   "source": [
    "# References\n",
    "\n",
    "* Raj, 2024. https://www.analyticsvidhya.com/blog/2022/07/sentiment-analysis-using-python/\n",
    "* Chawla, Nitesh & Japkowicz, Nathalie & Kołcz, Aleksander. (2004). Editorial: Special Issue on Learning from Imbalanced Data Sets. SIGKDD Explorations. 6. 1-6. 10.1145/1007730.1007733. https://www3.nd.edu/~dial/publications/chawla2004editorial.pdf\n",
    "* Cohen, J. (2020). Machine Learning: Target Feature Label Imbalance Problem and Solutions. [online] Towards Data Science. Available at: https://towardsdatascience.com/machine-learning-target-feature-label-imbalance-problem-and-solutions-98c5ae89ad0.\n",
    "* Weiss, G.M. (2013). Foundations of Imbalanced Learning. In: Imbalanced Learning. Wiley, pp.13–41. doi:https://doi.org/10.1002/9781118646106.ch2.\n",
    "* https://github.com/scikit-learn-contrib/imbalanced-learn\n",
    "* https://towardsdatascience.com/yet-another-twitter-sentiment-analysis-part-1-tackling-class-imbalance-4d7a7f717d44\n",
    "* https://medium.com/swlh/tweet-sentiment-analysis-using-python-for-complete-beginners-4aeb4456040\n",
    "* https://www.kaggle.com/code/amarsharma768/sentiment-analysis-of-reddit-data"
   ]
  }
 ],
 "metadata": {
  "kernelspec": {
   "display_name": "Python 3 (ipykernel)",
   "language": "python",
   "name": "python3"
  },
  "language_info": {
   "codemirror_mode": {
    "name": "ipython",
    "version": 3
   },
   "file_extension": ".py",
   "mimetype": "text/x-python",
   "name": "python",
   "nbconvert_exporter": "python",
   "pygments_lexer": "ipython3",
   "version": "3.11.5"
  }
 },
 "nbformat": 4,
 "nbformat_minor": 5
}
